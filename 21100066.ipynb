{
 "cells": [
  {
   "cell_type": "code",
   "execution_count": 1,
   "metadata": {},
   "outputs": [],
   "source": [
    "#IMPORT CELL\n",
    "import pandas as pd\n",
    "import string \n",
    "import re\n",
    "from collections import Counter\n",
    "from scipy.spatial import distance\n",
    "from scipy import stats\n",
    "import numpy as np\n",
    "import matplotlib.pyplot as plt\n",
    "# pd.set_option('display.max_rows', None)\n",
    "# pd.set_option('display.max_colwidth', None)"
   ]
  },
  {
   "cell_type": "code",
   "execution_count": 2,
   "metadata": {},
   "outputs": [],
   "source": [
    "#Part 1\n",
    "train = pd.read_csv('train.csv')\n",
    "test = pd.read_csv('test.csv')\n",
    "stop_words = pd.read_fwf('stop_words.txt')\n",
    "\n",
    "def is_not_float(string):\n",
    "    try:\n",
    "        float(string)\n",
    "        return False\n",
    "    except ValueError:  # String is not a number\n",
    "        return True\n",
    "    \n",
    "def wordfreq(tweet):\n",
    "    tweetlist = tweet.split()\n",
    "    count = tweetlist.count(word)\n",
    "    return count"
   ]
  },
  {
   "cell_type": "code",
   "execution_count": 3,
   "metadata": {},
   "outputs": [],
   "source": [
    "#Train Cleaning\n",
    "\n",
    "# Removing URLS\n",
    "train['Tweet'] = train['Tweet'].replace(r'http\\S+', '', regex=True).replace(r'www\\S+', '', regex=True)\n",
    "\n",
    "#To Lowercase\n",
    "train['Tweet'] = train['Tweet'].str.lower()\n",
    "\n",
    "#Removing stopwords\n",
    "sw_list = stop_words['i'].tolist()\n",
    "train['Tweet'] = train['Tweet'].apply(lambda x: ' '.join([word for word in x.split() if word not in (sw_list)]))\n",
    "\n",
    "#Removing Punctuation\n",
    "train['Tweet'] = train['Tweet'].str.replace('[{}]'.format(string.punctuation), '')\n",
    "\n",
    "# #Removing single characters\n",
    "# train['Tweet'] = train['Tweet'].str.replace(r'\\b\\w\\b','').str.replace(r'\\s+', ' ')\n",
    "\n",
    "#Removing Numbers\n",
    "# train[\"Tweet\"] = train[\"Tweet\"].apply(lambda x: ' '.join([i for i in x.split() if is_not_float(i)]))\n",
    "\n",
    "\n",
    "# display(train.head())"
   ]
  },
  {
   "cell_type": "code",
   "execution_count": 4,
   "metadata": {},
   "outputs": [],
   "source": [
    "#Test Cleaning\n",
    "\n",
    "#Removing URLS\n",
    "test['Tweet'] = test['Tweet'].replace(r'http\\S+', '', regex=True).replace(r'www\\S+', '', regex=True)\n",
    "\n",
    "#To Lowercase\n",
    "test['Tweet'] = test['Tweet'].str.lower()\n",
    "\n",
    "#Removing stopwords\n",
    "sw_list = stop_words['i'].tolist()\n",
    "test['Tweet'] = test['Tweet'].apply(lambda x: ' '.join([word for word in x.split() if word not in (sw_list)]))\n",
    "\n",
    "#Removing Punctuation\n",
    "test['Tweet'] = test['Tweet'].str.replace('[{}]'.format(string.punctuation), '')\n",
    "\n",
    "# #Removing single characters\n",
    "# test['Tweet'] = test['Tweet'].str.replace(r'\\b\\w\\b','').str.replace(r'\\s+', ' ')\n",
    "\n",
    "#Removing Numbers\n",
    "# test[\"Tweet\"] = test[\"Tweet\"].apply(lambda x: ' '.join([i for i in x.split() if is_not_float(i)]))\n",
    "\n",
    "# display(test.head())"
   ]
  },
  {
   "cell_type": "code",
   "execution_count": 5,
   "metadata": {
    "scrolled": true
   },
   "outputs": [],
   "source": [
    "# #Making BOW representation of train\n",
    "\n",
    "#Making vocab from train\n",
    "all_text = ' '.join(train['Tweet'].tolist())\n",
    "\n",
    "vocab = list(set(all_text.split()))\n",
    "\n",
    "\n",
    "\n",
    "tweets = ['T' + str(i) for i in range(len(train))]\n",
    "\n",
    "BOWTrain = pd.DataFrame(tweets, columns =['Tweet'])\n",
    "\n",
    "\n",
    "\n",
    "\n",
    "for word in vocab:\n",
    "#     counts = []\n",
    "\n",
    "    BOWTrain[word] = train.apply(lambda row: wordfreq(row[\"Tweet\"]),axis=1)\n",
    "    \n",
    "    \n",
    "    #Removing words that only occur once\n",
    "\n",
    "#     if BOWTrain[word].sum() == 1:\n",
    "#         BOWTrain = BOWTrain.drop([word], axis=1)\n",
    "    \n",
    "# for col in BOW.columns:\n",
    "#     if len(BOW[col].unique()) == 1:\n",
    "#         BOW.drop(col,inplace=True,axis=1)\n",
    "        \n",
    "BOWTrain['Sentiment'] = train['Sentiment']\n",
    "\n",
    "\n",
    "\n",
    "\n",
    "# BOWTrain.to_pickle('./BOWTrain.pkl')\n",
    "\n",
    "\n",
    "\n",
    "\n"
   ]
  },
  {
   "cell_type": "code",
   "execution_count": 6,
   "metadata": {},
   "outputs": [],
   "source": [
    "#Making BOW representation of test\n",
    "\n",
    "tweets = ['T' + str(i) for i in range(len(test))]\n",
    "\n",
    "BOWTest = pd.DataFrame(tweets, columns =['Tweet'])\n",
    "\n",
    "\n",
    "\n",
    "\n",
    "for word in vocab:\n",
    "    BOWTest[word] = test.apply(lambda row: wordfreq(row[\"Tweet\"]),axis=1)\n",
    "    \n",
    "#     if BOWTest[word].sum() == 1:\n",
    "#         BOWTest = BOWTest.drop([word], axis=1)\n",
    "\n",
    "        \n",
    "BOWTest['Sentiment'] = test['Sentiment']\n",
    "\n",
    "\n",
    "\n",
    "\n",
    "# BOWTest.to_pickle('./BOWTest.pkl')\n",
    "\n",
    "\n",
    "\n",
    "\n"
   ]
  },
  {
   "cell_type": "code",
   "execution_count": 7,
   "metadata": {},
   "outputs": [],
   "source": [
    "# BOWTrain = pd.read_pickle('./BOWTrain.pkl')\n",
    "# BOWTest = pd.read_pickle('./BOWTest.pkl')\n",
    "TrainFeatures = BOWTrain.drop(['Tweet', 'Sentiment'], 1)\n",
    "TestFeatures = BOWTest.drop(['Tweet', 'Sentiment'], 1)\n",
    "   \n"
   ]
  },
  {
   "cell_type": "code",
   "execution_count": 8,
   "metadata": {},
   "outputs": [],
   "source": [
    "#Calculating euclidean distances of test with train\n",
    "distances = distance.cdist(TestFeatures,TrainFeatures ,'euclidean')\n",
    "\n",
    "\n",
    "# np.savetxt('distances.txt', distances)\n",
    "\n"
   ]
  },
  {
   "cell_type": "code",
   "execution_count": null,
   "metadata": {},
   "outputs": [],
   "source": []
  },
  {
   "cell_type": "code",
   "execution_count": 9,
   "metadata": {},
   "outputs": [],
   "source": [
    "#Predicting Labels\n",
    "# display(distances)\n",
    "\n",
    "\n",
    "# distances = np.loadtxt('distances.txt')\n",
    "\n",
    "distances = np.array(distances)\n",
    "# distances.sort(axis=1)\n",
    "ks = {1,3,5,7,10}\n",
    "trainlabels = BOWTrain[\"Sentiment\"].tolist()\n",
    "\n",
    "predictedlabelsForEachK = []\n",
    "\n",
    "\n",
    "# display(distances)\n",
    "for k in ks:\n",
    "    predictedlabels = []\n",
    "    for distanceVector in distances:\n",
    "        \n",
    "        label_distances = list(map(lambda x, y:(x,y), trainlabels, distanceVector))\n",
    "\n",
    "        sorted_label_distances = sorted(label_distances, key = lambda x: x[1]) \n",
    "\n",
    "        while k >= 1:\n",
    "\n",
    "\n",
    "            nns = sorted_label_distances[:k]\n",
    "            counts = Counter(x[0] for x in nns)\n",
    "            c1 = counts['positive']\n",
    "            c2 = counts['negative']\n",
    "            c3 = counts['neutral']\n",
    "\n",
    "       \n",
    "\n",
    "            if c1 == c2 == c3:\n",
    "                k-=1\n",
    "\n",
    "            elif c1 == c2 and c1 > c3 and c2 > c3:\n",
    "                k-=1\n",
    "\n",
    "            elif c1 == c3 and c1 > c2 and c3 > c2:\n",
    "                k-=1\n",
    "\n",
    "            elif c2 == c3 and c2 > c1 and c3 > c1:\n",
    "                k-=1\n",
    "\n",
    "            elif c2 == c3 and c2 < c1 and c3 < c1:\n",
    "                #c1\n",
    "                predictedlabels.append('positive')\n",
    "                break\n",
    "\n",
    "            elif c1 == c3 and c1 < c2 and c3 < c2:\n",
    "                #c2\n",
    "                predictedlabels.append('negative')\n",
    "                break\n",
    "            elif c2 == c3 and c2 < c1 and c3 < c1:\n",
    "                #c3\n",
    "                predictedlabels.append('neutral')\n",
    "                break\n",
    "            elif c1 > c2 and c1 > c3:\n",
    "                #c1\n",
    "                predictedlabels.append('positive')\n",
    "                break\n",
    "            elif c2 > c1 and c2 > c3: \n",
    "                #c2\n",
    "                predictedlabels.append('negative')\n",
    "                break\n",
    "\n",
    "            elif c3 > c1 and c3 > c2:   \n",
    "                #c3\n",
    "                predictedlabels.append('neutral')\n",
    "                break\n",
    "\n",
    "    \n",
    "        \n",
    "\n",
    "\n",
    "    prediction = pd.DataFrame({'Predicted Sentiment':predictedlabels})\n",
    "    prediction[\"Actual Sentiment\"] = test[\"Sentiment\"]\n",
    "#     prediction[\"Tweet\"] = test[\"Tweet\"]\n",
    "    \n",
    "    predictedlabelsForEachK.append(prediction)\n",
    "    \n",
    "#     prediction.to_pickle('./PredictedLabels.pkl')\n",
    "\n",
    "    \n",
    "    #     nns = list(sorted_label_distances)[:k]\n",
    "#     display(Counter(nns))\n",
    "#     for key, value in Counter(nns).items():\n",
    "#     Counter(nns).keys() # equals to list(set(words))\n",
    "#     Counter(nns).values() # counts the elements' frequency\n",
    "# #     m = stats.mode(nns)\n",
    "#     print(m)"
   ]
  },
  {
   "cell_type": "code",
   "execution_count": 10,
   "metadata": {},
   "outputs": [],
   "source": [
    "# prediction = pd.read_pickle('./PredictedLabels.pkl')\n",
    "\n",
    "\n",
    "\n",
    "# for i,k in enumerate(ks):\n",
    "#     display(predictedlabelsForEachK[i])\n",
    "    \n"
   ]
  },
  {
   "cell_type": "code",
   "execution_count": 11,
   "metadata": {},
   "outputs": [
    {
     "data": {
      "text/plain": [
       "[0.5111263266004793,\n",
       " 0.5111263266004793,\n",
       " 0.5107839780896953,\n",
       " 0.5104416295789114,\n",
       " 0.5097569325573433]"
      ]
     },
     "metadata": {},
     "output_type": "display_data"
    }
   ],
   "source": [
    "#accuracies\n",
    "\n",
    "def f(col1, col2):\n",
    "    if col1 == col2:\n",
    "        return 1\n",
    "    else:\n",
    "        return 0\n",
    "\n",
    "accuracies = []\n",
    "for i,k in enumerate(ks):\n",
    "    prediction = predictedlabelsForEachK[i]\n",
    "#     display(prediction)\n",
    "\n",
    "\n",
    "\n",
    "\n",
    "        \n",
    "        \n",
    "#         display(x['Predicted Sentiment'])\n",
    "#         display(x['Actual Sentiment'])\n",
    "   \n",
    "\n",
    "    temp = prediction\n",
    "\n",
    "    temp[\"Count\"] = temp.apply(lambda x: f(x['Predicted Sentiment'], x['Actual Sentiment']), axis=1)\n",
    "\n",
    "#     temp[\"Count\"] = temp[\"Count\"].fillna(0)\n",
    "\n",
    "    matches = temp[\"Count\"].sum()\n",
    "    samples = prediction.shape[0]\n",
    "\n",
    "    accuracy = matches / samples\n",
    "    \n",
    "    accuracies.append(accuracy)\n",
    "\n",
    "display(accuracies)"
   ]
  },
  {
   "cell_type": "code",
   "execution_count": 12,
   "metadata": {},
   "outputs": [
    {
     "data": {
      "text/html": [
       "<div>\n",
       "<style scoped>\n",
       "    .dataframe tbody tr th:only-of-type {\n",
       "        vertical-align: middle;\n",
       "    }\n",
       "\n",
       "    .dataframe tbody tr th {\n",
       "        vertical-align: top;\n",
       "    }\n",
       "\n",
       "    .dataframe thead th {\n",
       "        text-align: right;\n",
       "    }\n",
       "</style>\n",
       "<table border=\"1\" class=\"dataframe\">\n",
       "  <thead>\n",
       "    <tr style=\"text-align: right;\">\n",
       "      <th></th>\n",
       "      <th>pos</th>\n",
       "      <th>neg</th>\n",
       "      <th>neu</th>\n",
       "    </tr>\n",
       "  </thead>\n",
       "  <tbody>\n",
       "    <tr>\n",
       "      <th>pos</th>\n",
       "      <td>260</td>\n",
       "      <td>250</td>\n",
       "      <td>152</td>\n",
       "    </tr>\n",
       "    <tr>\n",
       "      <th>neg</th>\n",
       "      <td>50</td>\n",
       "      <td>881</td>\n",
       "      <td>111</td>\n",
       "    </tr>\n",
       "    <tr>\n",
       "      <th>neu</th>\n",
       "      <td>162</td>\n",
       "      <td>703</td>\n",
       "      <td>352</td>\n",
       "    </tr>\n",
       "  </tbody>\n",
       "</table>\n",
       "</div>"
      ],
      "text/plain": [
       "     pos  neg  neu\n",
       "pos  260  250  152\n",
       "neg   50  881  111\n",
       "neu  162  703  352"
      ]
     },
     "metadata": {},
     "output_type": "display_data"
    },
    {
     "data": {
      "text/html": [
       "<div>\n",
       "<style scoped>\n",
       "    .dataframe tbody tr th:only-of-type {\n",
       "        vertical-align: middle;\n",
       "    }\n",
       "\n",
       "    .dataframe tbody tr th {\n",
       "        vertical-align: top;\n",
       "    }\n",
       "\n",
       "    .dataframe thead th {\n",
       "        text-align: right;\n",
       "    }\n",
       "</style>\n",
       "<table border=\"1\" class=\"dataframe\">\n",
       "  <thead>\n",
       "    <tr style=\"text-align: right;\">\n",
       "      <th></th>\n",
       "      <th>pos</th>\n",
       "      <th>neg</th>\n",
       "      <th>neu</th>\n",
       "    </tr>\n",
       "  </thead>\n",
       "  <tbody>\n",
       "    <tr>\n",
       "      <th>pos</th>\n",
       "      <td>260</td>\n",
       "      <td>250</td>\n",
       "      <td>152</td>\n",
       "    </tr>\n",
       "    <tr>\n",
       "      <th>neg</th>\n",
       "      <td>50</td>\n",
       "      <td>881</td>\n",
       "      <td>111</td>\n",
       "    </tr>\n",
       "    <tr>\n",
       "      <th>neu</th>\n",
       "      <td>162</td>\n",
       "      <td>703</td>\n",
       "      <td>352</td>\n",
       "    </tr>\n",
       "  </tbody>\n",
       "</table>\n",
       "</div>"
      ],
      "text/plain": [
       "     pos  neg  neu\n",
       "pos  260  250  152\n",
       "neg   50  881  111\n",
       "neu  162  703  352"
      ]
     },
     "metadata": {},
     "output_type": "display_data"
    },
    {
     "data": {
      "text/html": [
       "<div>\n",
       "<style scoped>\n",
       "    .dataframe tbody tr th:only-of-type {\n",
       "        vertical-align: middle;\n",
       "    }\n",
       "\n",
       "    .dataframe tbody tr th {\n",
       "        vertical-align: top;\n",
       "    }\n",
       "\n",
       "    .dataframe thead th {\n",
       "        text-align: right;\n",
       "    }\n",
       "</style>\n",
       "<table border=\"1\" class=\"dataframe\">\n",
       "  <thead>\n",
       "    <tr style=\"text-align: right;\">\n",
       "      <th></th>\n",
       "      <th>pos</th>\n",
       "      <th>neg</th>\n",
       "      <th>neu</th>\n",
       "    </tr>\n",
       "  </thead>\n",
       "  <tbody>\n",
       "    <tr>\n",
       "      <th>pos</th>\n",
       "      <td>261</td>\n",
       "      <td>250</td>\n",
       "      <td>152</td>\n",
       "    </tr>\n",
       "    <tr>\n",
       "      <th>neg</th>\n",
       "      <td>50</td>\n",
       "      <td>879</td>\n",
       "      <td>111</td>\n",
       "    </tr>\n",
       "    <tr>\n",
       "      <th>neu</th>\n",
       "      <td>161</td>\n",
       "      <td>705</td>\n",
       "      <td>352</td>\n",
       "    </tr>\n",
       "  </tbody>\n",
       "</table>\n",
       "</div>"
      ],
      "text/plain": [
       "     pos  neg  neu\n",
       "pos  261  250  152\n",
       "neg   50  879  111\n",
       "neu  161  705  352"
      ]
     },
     "metadata": {},
     "output_type": "display_data"
    },
    {
     "data": {
      "text/html": [
       "<div>\n",
       "<style scoped>\n",
       "    .dataframe tbody tr th:only-of-type {\n",
       "        vertical-align: middle;\n",
       "    }\n",
       "\n",
       "    .dataframe tbody tr th {\n",
       "        vertical-align: top;\n",
       "    }\n",
       "\n",
       "    .dataframe thead th {\n",
       "        text-align: right;\n",
       "    }\n",
       "</style>\n",
       "<table border=\"1\" class=\"dataframe\">\n",
       "  <thead>\n",
       "    <tr style=\"text-align: right;\">\n",
       "      <th></th>\n",
       "      <th>pos</th>\n",
       "      <th>neg</th>\n",
       "      <th>neu</th>\n",
       "    </tr>\n",
       "  </thead>\n",
       "  <tbody>\n",
       "    <tr>\n",
       "      <th>pos</th>\n",
       "      <td>261</td>\n",
       "      <td>249</td>\n",
       "      <td>151</td>\n",
       "    </tr>\n",
       "    <tr>\n",
       "      <th>neg</th>\n",
       "      <td>50</td>\n",
       "      <td>877</td>\n",
       "      <td>111</td>\n",
       "    </tr>\n",
       "    <tr>\n",
       "      <th>neu</th>\n",
       "      <td>161</td>\n",
       "      <td>708</td>\n",
       "      <td>353</td>\n",
       "    </tr>\n",
       "  </tbody>\n",
       "</table>\n",
       "</div>"
      ],
      "text/plain": [
       "     pos  neg  neu\n",
       "pos  261  249  151\n",
       "neg   50  877  111\n",
       "neu  161  708  353"
      ]
     },
     "metadata": {},
     "output_type": "display_data"
    },
    {
     "data": {
      "text/html": [
       "<div>\n",
       "<style scoped>\n",
       "    .dataframe tbody tr th:only-of-type {\n",
       "        vertical-align: middle;\n",
       "    }\n",
       "\n",
       "    .dataframe tbody tr th {\n",
       "        vertical-align: top;\n",
       "    }\n",
       "\n",
       "    .dataframe thead th {\n",
       "        text-align: right;\n",
       "    }\n",
       "</style>\n",
       "<table border=\"1\" class=\"dataframe\">\n",
       "  <thead>\n",
       "    <tr style=\"text-align: right;\">\n",
       "      <th></th>\n",
       "      <th>pos</th>\n",
       "      <th>neg</th>\n",
       "      <th>neu</th>\n",
       "    </tr>\n",
       "  </thead>\n",
       "  <tbody>\n",
       "    <tr>\n",
       "      <th>pos</th>\n",
       "      <td>260</td>\n",
       "      <td>251</td>\n",
       "      <td>151</td>\n",
       "    </tr>\n",
       "    <tr>\n",
       "      <th>neg</th>\n",
       "      <td>50</td>\n",
       "      <td>876</td>\n",
       "      <td>111</td>\n",
       "    </tr>\n",
       "    <tr>\n",
       "      <th>neu</th>\n",
       "      <td>162</td>\n",
       "      <td>707</td>\n",
       "      <td>353</td>\n",
       "    </tr>\n",
       "  </tbody>\n",
       "</table>\n",
       "</div>"
      ],
      "text/plain": [
       "     pos  neg  neu\n",
       "pos  260  251  151\n",
       "neg   50  876  111\n",
       "neu  162  707  353"
      ]
     },
     "metadata": {},
     "output_type": "display_data"
    }
   ],
   "source": [
    "#cms\n",
    "def g(col1, col2, cm):\n",
    "    if col1 == \"positive\" and col2 == \"positive\":\n",
    "        cm.at['pos', 'pos'] += 1\n",
    "    elif col1 == \"positive\" and col2 == \"negative\":\n",
    "        cm.at['pos','neg'] +=1\n",
    "    elif col1 == \"positive\" and col2 == \"neutral\":\n",
    "        cm.at['pos','neu'] +=1\n",
    "    elif col1 == \"negative\" and col2 == \"positive\":\n",
    "        cm.at['neg','pos'] +=1\n",
    "    elif col1 == \"negative\" and col2 == \"negative\":\n",
    "        cm.at['neg','neg'] +=1   \n",
    "    elif col1 == \"negative\" and col2 == \"neutral\":\n",
    "        cm.at['neg','neu'] +=1   \n",
    "    elif col1 == \"neutral\" and col2 == \"positive\":\n",
    "        cm.at['neu','pos'] +=1\n",
    "    elif col1 == \"neutral\" and col2 == \"negative\":\n",
    "        cm.at['neu','neg'] +=1\n",
    "    elif col1 == \"neutral\" and col2 == \"neutral\":\n",
    "        cm.at['neu','neu'] +=1\n",
    "\n",
    "        \n",
    "        \n",
    "    \n",
    "cms = []\n",
    "for i,k in enumerate(ks):\n",
    "     prediction = predictedlabelsForEachK[i]\n",
    "#      actual = np.array(prediction['Actual Sentiment'])\n",
    "#      pred = np.array(prediction['Predicted Sentiment'])\n",
    "#      classes = 3\n",
    "     cm = pd.DataFrame(index=['pos','neg','neu'], columns=['pos','neg','neu'])\n",
    "     cm = cm.fillna(0)\n",
    "     \n",
    "    \n",
    "        \n",
    "     \n",
    "     prediction.apply(lambda x: g(x['Predicted Sentiment'], x['Actual Sentiment'],cm), axis=1) \n",
    "     \n",
    "     display(cm)\n",
    "     cms.append(cm)\n",
    "#      for col in cm.columns:\n",
    "#          cm[col].values[:] = 0\n",
    "    "
   ]
  },
  {
   "cell_type": "code",
   "execution_count": 13,
   "metadata": {},
   "outputs": [
    {
     "data": {
      "text/plain": [
       "[0.5111263266004793,\n",
       " 0.5111263266004793,\n",
       " 0.5107839780896953,\n",
       " 0.5104416295789114,\n",
       " 0.5097569325573433]"
      ]
     },
     "metadata": {},
     "output_type": "display_data"
    },
    {
     "data": {
      "text/plain": [
       "[0.5091581712974201,\n",
       " 0.5091581712974201,\n",
       " 0.5092852746757411,\n",
       " 0.5095403363684615,\n",
       " 0.5087881345454749]"
      ]
     },
     "metadata": {},
     "output_type": "display_data"
    },
    {
     "data": {
      "text/plain": [
       "[0.5345253184894195,\n",
       " 0.5345253184894195,\n",
       " 0.534868028998387,\n",
       " 0.5350465302381431,\n",
       " 0.5341585634587285]"
      ]
     },
     "metadata": {},
     "output_type": "display_data"
    },
    {
     "data": {
      "text/plain": [
       "[0.4851632450617915,\n",
       " 0.4851632450617915,\n",
       " 0.4852242493719929,\n",
       " 0.48525674694073756,\n",
       " 0.48437213027572534]"
      ]
     },
     "metadata": {},
     "output_type": "display_data"
    }
   ],
   "source": [
    "#precisions, recalls and f1s\n",
    "classes = ['pos','neg','neu']\n",
    "precisions = []\n",
    "recalls = []\n",
    "f1s = []\n",
    "ks = [1,3,5,7,10]\n",
    "for cm in cms:\n",
    "    \n",
    "    tp = 0\n",
    "    tn = 0\n",
    "    fp = 0\n",
    "    fn = 0\n",
    "    precision = 0\n",
    "    recall = 0\n",
    "    f1 = 0\n",
    "    for c in classes:\n",
    "        if c == 'pos':\n",
    "            tp = cm.at['pos','pos']\n",
    "            tn = cm.at['neg','neg'] + cm.at['neg','neu'] + cm.at['neu','neg'] + cm.at['neu','neu']\n",
    "            fp = cm.at['pos','neg'] + cm.at['pos','neu']\n",
    "            fn = cm.at['neg','pos'] + cm.at['neu','pos']\n",
    "            precision += tp / (tp + fp)\n",
    "            recall += tp / (tp + fn)\n",
    "            f1 += (2*tp) / (2*tp + fp + fn)\n",
    "        elif c == 'neg':\n",
    "            tp = cm.at['neg','neg']\n",
    "            tn = cm.at['pos','pos'] + cm.at['pos','neu'] + cm.at['neu','pos'] + cm.at['neu','neu']\n",
    "            fp = cm.at['neg','pos'] + cm.at['neg','neu']\n",
    "            fn = cm.at['pos','neg'] + cm.at['neu','neg']\n",
    "            precision += tp / (tp + fp)\n",
    "            recall += tp / (tp + fn)\n",
    "            f1 += (2*tp) / (2*tp + fp + fn)\n",
    "            \n",
    "        elif c == 'neu':\n",
    "            tp = cm.at['neu','neu']\n",
    "            tn = cm.at['pos','pos'] + cm.at['pos','neg'] + cm.at['neg','pos'] + cm.at['neg','neg']\n",
    "            fp = cm.at['neu','neg'] + cm.at['neu','pos']\n",
    "            fn = cm.at['pos','neu'] + cm.at['neg','neu']\n",
    "            precision += tp / (tp + fp)\n",
    "            recall += tp / (tp + fn)\n",
    "            f1 += (2*tp) / (2*tp + fp + fn)\n",
    "            \n",
    "    \n",
    "    precisions.append(precision / 3)\n",
    "    recalls.append(recall / 3)\n",
    "    f1s.append(f1 / 3)\n",
    "\n",
    "display(accuracies)\n",
    "display(precisions)\n",
    "display(recalls)\n",
    "display(f1s)\n",
    "        "
   ]
  },
  {
   "cell_type": "code",
   "execution_count": 14,
   "metadata": {},
   "outputs": [
    {
     "data": {
      "text/plain": [
       "Text(0.5, 1.0, 'k against Accuracy')"
      ]
     },
     "execution_count": 14,
     "metadata": {},
     "output_type": "execute_result"
    },
    {
     "data": {
      "image/png": "[encoded data removed]",
      "text/plain": [
       "<Figure size 432x288 with 1 Axes>"
      ]
     },
     "metadata": {
      "needs_background": "light"
     },
     "output_type": "display_data"
    }
   ],
   "source": [
    "#k vs accuracy\n",
    "plt.plot(ks, accuracies)\n",
    "plt.xlabel('k')\n",
    "plt.ylabel('Accuracy')\n",
    "plt.title('k against Accuracy')"
   ]
  },
  {
   "cell_type": "code",
   "execution_count": 15,
   "metadata": {},
   "outputs": [
    {
     "data": {
      "text/plain": [
       "Text(0.5, 1.0, 'k against Precision')"
      ]
     },
     "execution_count": 15,
     "metadata": {},
     "output_type": "execute_result"
    },
    {
     "data": {
      "image/png": "[encoded data removed]",
      "text/plain": [
       "<Figure size 432x288 with 1 Axes>"
      ]
     },
     "metadata": {
      "needs_background": "light"
     },
     "output_type": "display_data"
    }
   ],
   "source": [
    "#k vs precision\n",
    "plt.plot(ks, precisions)\n",
    "plt.xlabel('k')\n",
    "plt.ylabel('Precision')\n",
    "plt.title('k against Precision')"
   ]
  },
  {
   "cell_type": "code",
   "execution_count": 16,
   "metadata": {},
   "outputs": [
    {
     "data": {
      "text/plain": [
       "Text(0.5, 1.0, 'k against Recall')"
      ]
     },
     "execution_count": 16,
     "metadata": {},
     "output_type": "execute_result"
    },
    {
     "data": {
      "image/png": "[encoded data removed]",
      "text/plain": [
       "<Figure size 432x288 with 1 Axes>"
      ]
     },
     "metadata": {
      "needs_background": "light"
     },
     "output_type": "display_data"
    }
   ],
   "source": [
    "#k vs recall\n",
    "plt.plot(ks, recalls)\n",
    "plt.xlabel('k')\n",
    "plt.ylabel('Recall')\n",
    "plt.title('k against Recall')"
   ]
  },
  {
   "cell_type": "code",
   "execution_count": 17,
   "metadata": {},
   "outputs": [
    {
     "data": {
      "text/plain": [
       "Text(0.5, 1.0, 'k against F1')"
      ]
     },
     "execution_count": 17,
     "metadata": {},
     "output_type": "execute_result"
    },
    {
     "data": {
      "image/png": "[encoded data removed]",
      "text/plain": [
       "<Figure size 432x288 with 1 Axes>"
      ]
     },
     "metadata": {
      "needs_background": "light"
     },
     "output_type": "display_data"
    }
   ],
   "source": [
    "#k vs f1\n",
    "plt.plot(ks, f1s)\n",
    "plt.xlabel('k')\n",
    "plt.ylabel('F1')\n",
    "plt.title('k against F1')"
   ]
  },
  {
   "cell_type": "code",
   "execution_count": 18,
   "metadata": {},
   "outputs": [
    {
     "data": {
      "text/plain": [
       "[array([[263,  58, 151],\n",
       "        [291, 872, 671],\n",
       "        [152, 122, 341]]),\n",
       " array([[283,  76, 113],\n",
       "        [211, 940, 683],\n",
       "        [128, 162, 325]]),\n",
       " array([[262,  61, 149],\n",
       "        [182, 913, 739],\n",
       "        [113, 146, 356]]),\n",
       " array([[255,  50, 167],\n",
       "        [229, 823, 782],\n",
       "        [112, 128, 375]]),\n",
       " array([[278,  43, 151],\n",
       "        [321, 710, 803],\n",
       "        [152, 108, 355]])]"
      ]
     },
     "metadata": {},
     "output_type": "display_data"
    },
    {
     "data": {
      "text/plain": [
       "[0.5053064019171517,\n",
       " 0.529955494693598,\n",
       " 0.5241355700102704,\n",
       " 0.49743238616912017,\n",
       " 0.45977404998288257]"
      ]
     },
     "metadata": {},
     "output_type": "display_data"
    },
    {
     "data": {
      "text/plain": [
       "[0.4982086025206265,\n",
       " 0.5142887619756823,\n",
       " 0.5239097415392465,\n",
       " 0.5110875998566341,\n",
       " 0.4886650077720042]"
      ]
     },
     "metadata": {},
     "output_type": "display_data"
    },
    {
     "data": {
      "text/plain": [
       "[0.5290461341252785,\n",
       " 0.5468574833198566,\n",
       " 0.5439218364329365,\n",
       " 0.5329187484756942,\n",
       " 0.5177835917408765]"
      ]
     },
     "metadata": {},
     "output_type": "display_data"
    },
    {
     "data": {
      "text/plain": [
       "[0.47813106059433075,\n",
       " 0.5053204695733242,\n",
       " 0.5034595887974059,\n",
       " 0.4816416851197383,\n",
       " 0.4501814420632316]"
      ]
     },
     "metadata": {},
     "output_type": "display_data"
    }
   ],
   "source": [
    "#Part 2\n",
    "from sklearn.neighbors import KNeighborsClassifier\n",
    "from sklearn.metrics import accuracy_score\n",
    "from sklearn.metrics import classification_report\n",
    "from sklearn.metrics import confusion_matrix\n",
    "target_names = ['positive', 'negative', 'neutral']\n",
    "accuracies = []\n",
    "precisions = []\n",
    "recalls = []\n",
    "f1s = []\n",
    "cms = []\n",
    "ks = [1,3,5,7,10]\n",
    "\n",
    "for k in ks:\n",
    "\n",
    "    TrainFeatures = BOWTrain.drop(['Tweet', 'Sentiment'], 1)\n",
    "    TrainFeatures = TrainFeatures.values.tolist()\n",
    "    TrainLabels = BOWTrain['Sentiment'].tolist()\n",
    "\n",
    "    TestFeatures = BOWTest.drop(['Tweet', 'Sentiment'], 1)\n",
    "    TestFeatures = TestFeatures.values.tolist()\n",
    "\n",
    "    TrueLabels = BOWTest['Sentiment'].tolist()\n",
    "\n",
    "    neigh = KNeighborsClassifier(n_neighbors=k)\n",
    "    neigh.fit(TrainFeatures, TrainLabels)\n",
    "\n",
    "    predicted_labels = neigh.predict(TestFeatures)\n",
    "    accuracy = accuracy_score(TrueLabels, predicted_labels)\n",
    "    accuracies.append(accuracy)\n",
    "    \n",
    "    report_dict = classification_report(TrueLabels, predicted_labels, target_names=target_names, output_dict=True)\n",
    "    precision = report_dict['macro avg']['precision']\n",
    "    precisions.append(precision)\n",
    "    recall = report_dict['macro avg']['recall']\n",
    "    recalls.append(recall)\n",
    "    f1 = report_dict['macro avg']['f1-score']\n",
    "    f1s.append(f1)\n",
    "    \n",
    "    cm = confusion_matrix(TrueLabels, predicted_labels, labels=[\"positive\", \"negative\", \"neutral\"])\n",
    "    cms.append(cm)\n",
    "\n",
    "display(cms)\n",
    "display(accuracies)\n",
    "display(precisions)\n",
    "display(recalls)\n",
    "display(f1s)\n"
   ]
  },
  {
   "cell_type": "code",
   "execution_count": 19,
   "metadata": {},
   "outputs": [
    {
     "data": {
      "text/plain": [
       "Text(0.5, 1.0, 'k against Accuracy')"
      ]
     },
     "execution_count": 19,
     "metadata": {},
     "output_type": "execute_result"
    },
    {
     "data": {
      "image/png": "[encoded data removed]",
      "text/plain": [
       "<Figure size 432x288 with 1 Axes>"
      ]
     },
     "metadata": {
      "needs_background": "light"
     },
     "output_type": "display_data"
    }
   ],
   "source": [
    "#k vs accuracy\n",
    "plt.plot(ks, accuracies)\n",
    "plt.xlabel('k')\n",
    "plt.ylabel('Accuracy')\n",
    "plt.title('k against Accuracy')\n",
    "\n",
    "\n"
   ]
  },
  {
   "cell_type": "code",
   "execution_count": 20,
   "metadata": {},
   "outputs": [
    {
     "data": {
      "text/plain": [
       "Text(0.5, 1.0, 'k against Precision')"
      ]
     },
     "execution_count": 20,
     "metadata": {},
     "output_type": "execute_result"
    },
    {
     "data": {
      "image/png": "[encoded data removed]",
      "text/plain": [
       "<Figure size 432x288 with 1 Axes>"
      ]
     },
     "metadata": {
      "needs_background": "light"
     },
     "output_type": "display_data"
    }
   ],
   "source": [
    "#k vs precision\n",
    "plt.plot(ks, precisions)\n",
    "plt.xlabel('k')\n",
    "plt.ylabel('Precision')\n",
    "plt.title('k against Precision')"
   ]
  },
  {
   "cell_type": "code",
   "execution_count": 21,
   "metadata": {},
   "outputs": [
    {
     "data": {
      "text/plain": [
       "Text(0.5, 1.0, 'k against Recall')"
      ]
     },
     "execution_count": 21,
     "metadata": {},
     "output_type": "execute_result"
    },
    {
     "data": {
      "image/png": "[encoded data removed]",
      "text/plain": [
       "<Figure size 432x288 with 1 Axes>"
      ]
     },
     "metadata": {
      "needs_background": "light"
     },
     "output_type": "display_data"
    }
   ],
   "source": [
    "#k vs recall\n",
    "plt.plot(ks, recalls)\n",
    "plt.xlabel('k')\n",
    "plt.ylabel('Recall')\n",
    "plt.title('k against Recall')"
   ]
  },
  {
   "cell_type": "code",
   "execution_count": 22,
   "metadata": {},
   "outputs": [
    {
     "data": {
      "text/plain": [
       "Text(0.5, 1.0, 'k against F1')"
      ]
     },
     "execution_count": 22,
     "metadata": {},
     "output_type": "execute_result"
    },
    {
     "data": {
      "image/png": "[encoded data removed]",
      "text/plain": [
       "<Figure size 432x288 with 1 Axes>"
      ]
     },
     "metadata": {
      "needs_background": "light"
     },
     "output_type": "display_data"
    }
   ],
   "source": [
    "#k vs f1\n",
    "plt.plot(ks, f1s)\n",
    "plt.xlabel('k')\n",
    "plt.ylabel('F1')\n",
    "plt.title('k against F1')"
   ]
  },
  {
   "cell_type": "code",
   "execution_count": 28,
   "metadata": {},
   "outputs": [],
   "source": [
    "#Part 3\n",
    "from gensim.models import KeyedVectors\n",
    "import numpy as np\n",
    "\n",
    "word2vec = KeyedVectors.load_word2vec_format(\"GoogleNews-vectors-negative300.bin.gz\", binary=True)\n",
    "\n",
    "\n",
    "\n"
   ]
  },
  {
   "cell_type": "code",
   "execution_count": 31,
   "metadata": {},
   "outputs": [
    {
     "data": {
      "text/html": [
       "<div>\n",
       "<style scoped>\n",
       "    .dataframe tbody tr th:only-of-type {\n",
       "        vertical-align: middle;\n",
       "    }\n",
       "\n",
       "    .dataframe tbody tr th {\n",
       "        vertical-align: top;\n",
       "    }\n",
       "\n",
       "    .dataframe thead th {\n",
       "        text-align: right;\n",
       "    }\n",
       "</style>\n",
       "<table border=\"1\" class=\"dataframe\">\n",
       "  <thead>\n",
       "    <tr style=\"text-align: right;\">\n",
       "      <th></th>\n",
       "      <th>Tweet</th>\n",
       "      <th>Features</th>\n",
       "      <th>Sentiment</th>\n",
       "    </tr>\n",
       "  </thead>\n",
       "  <tbody>\n",
       "    <tr>\n",
       "      <th>0</th>\n",
       "      <td>T0</td>\n",
       "      <td>[-0.049743652, 0.009765625, 0.016052246, 0.254...</td>\n",
       "      <td>neutral</td>\n",
       "    </tr>\n",
       "    <tr>\n",
       "      <th>1</th>\n",
       "      <td>T1</td>\n",
       "      <td>[-0.04901123, 0.014404297, -0.03338623, 0.1102...</td>\n",
       "      <td>negative</td>\n",
       "    </tr>\n",
       "    <tr>\n",
       "      <th>2</th>\n",
       "      <td>T2</td>\n",
       "      <td>[0.0037750243, 0.0413723, -0.0053283693, 0.021...</td>\n",
       "      <td>positive</td>\n",
       "    </tr>\n",
       "    <tr>\n",
       "      <th>3</th>\n",
       "      <td>T3</td>\n",
       "      <td>[0.07572937, -0.060114544, 0.0022684734, 0.022...</td>\n",
       "      <td>negative</td>\n",
       "    </tr>\n",
       "    <tr>\n",
       "      <th>4</th>\n",
       "      <td>T4</td>\n",
       "      <td>[0.04239909, -0.030232748, 0.063201904, 0.1782...</td>\n",
       "      <td>negative</td>\n",
       "    </tr>\n",
       "    <tr>\n",
       "      <th>...</th>\n",
       "      <td>...</td>\n",
       "      <td>...</td>\n",
       "      <td>...</td>\n",
       "    </tr>\n",
       "    <tr>\n",
       "      <th>11675</th>\n",
       "      <td>T11675</td>\n",
       "      <td>[0.033396404, 0.062032063, 0.10052109, -0.0342...</td>\n",
       "      <td>negative</td>\n",
       "    </tr>\n",
       "    <tr>\n",
       "      <th>11676</th>\n",
       "      <td>T11676</td>\n",
       "      <td>[-0.0014038086, 0.026733398, 0.106544495, 0.01...</td>\n",
       "      <td>negative</td>\n",
       "    </tr>\n",
       "    <tr>\n",
       "      <th>11677</th>\n",
       "      <td>T11677</td>\n",
       "      <td>[0.004248047, 0.068408206, 0.04409485, 0.17875...</td>\n",
       "      <td>neutral</td>\n",
       "    </tr>\n",
       "    <tr>\n",
       "      <th>11678</th>\n",
       "      <td>T11678</td>\n",
       "      <td>[0.06571139, 0.010967548, 0.0023249113, 0.1097...</td>\n",
       "      <td>negative</td>\n",
       "    </tr>\n",
       "    <tr>\n",
       "      <th>11679</th>\n",
       "      <td>T11679</td>\n",
       "      <td>[0.025065104, 0.01340739, -0.0039876304, 0.138...</td>\n",
       "      <td>positive</td>\n",
       "    </tr>\n",
       "  </tbody>\n",
       "</table>\n",
       "<p>11680 rows × 3 columns</p>\n",
       "</div>"
      ],
      "text/plain": [
       "        Tweet                                           Features Sentiment\n",
       "0          T0  [-0.049743652, 0.009765625, 0.016052246, 0.254...   neutral\n",
       "1          T1  [-0.04901123, 0.014404297, -0.03338623, 0.1102...  negative\n",
       "2          T2  [0.0037750243, 0.0413723, -0.0053283693, 0.021...  positive\n",
       "3          T3  [0.07572937, -0.060114544, 0.0022684734, 0.022...  negative\n",
       "4          T4  [0.04239909, -0.030232748, 0.063201904, 0.1782...  negative\n",
       "...       ...                                                ...       ...\n",
       "11675  T11675  [0.033396404, 0.062032063, 0.10052109, -0.0342...  negative\n",
       "11676  T11676  [-0.0014038086, 0.026733398, 0.106544495, 0.01...  negative\n",
       "11677  T11677  [0.004248047, 0.068408206, 0.04409485, 0.17875...   neutral\n",
       "11678  T11678  [0.06571139, 0.010967548, 0.0023249113, 0.1097...  negative\n",
       "11679  T11679  [0.025065104, 0.01340739, -0.0039876304, 0.138...  positive\n",
       "\n",
       "[11680 rows x 3 columns]"
      ]
     },
     "metadata": {},
     "output_type": "display_data"
    }
   ],
   "source": [
    "def extract_features(text):\n",
    "  words = [word for word in text.split() if word in word2vec.vocab]\n",
    "  return np.mean(word2vec[words], axis=0)\n",
    "# text = \"This is a cat\"\n",
    "# text_embedding = extract_features(text)\n",
    "# print(text_embedding)\n",
    "# print (\"Shape of embedding: \", text_embedding.shape)\n",
    "\n",
    "\n",
    "#word2vec for train\n",
    "\n",
    "\n",
    "tweets = ['T' + str(i) for i in range(len(train))]\n",
    "\n",
    "w2vTrain = pd.DataFrame(tweets, columns =['Tweet'])\n",
    "\n",
    "w2vTrain['Features'] = train.apply(lambda row: extract_features(row[\"Tweet\"]),axis=1)\n",
    "\n",
    "\n",
    "\n",
    "w2vTrain['Sentiment'] = train['Sentiment']\n",
    "\n",
    "display(w2vTrain)"
   ]
  },
  {
   "cell_type": "code",
   "execution_count": 32,
   "metadata": {},
   "outputs": [
    {
     "data": {
      "text/html": [
       "<div>\n",
       "<style scoped>\n",
       "    .dataframe tbody tr th:only-of-type {\n",
       "        vertical-align: middle;\n",
       "    }\n",
       "\n",
       "    .dataframe tbody tr th {\n",
       "        vertical-align: top;\n",
       "    }\n",
       "\n",
       "    .dataframe thead th {\n",
       "        text-align: right;\n",
       "    }\n",
       "</style>\n",
       "<table border=\"1\" class=\"dataframe\">\n",
       "  <thead>\n",
       "    <tr style=\"text-align: right;\">\n",
       "      <th></th>\n",
       "      <th>Tweet</th>\n",
       "      <th>Features</th>\n",
       "      <th>Sentiment</th>\n",
       "    </tr>\n",
       "  </thead>\n",
       "  <tbody>\n",
       "    <tr>\n",
       "      <th>0</th>\n",
       "      <td>T0</td>\n",
       "      <td>[-0.052124023, -0.025878906, -0.1665039, -0.05...</td>\n",
       "      <td>neutral</td>\n",
       "    </tr>\n",
       "    <tr>\n",
       "      <th>1</th>\n",
       "      <td>T1</td>\n",
       "      <td>[-0.01133728, 0.011459351, 0.006072998, 0.1003...</td>\n",
       "      <td>positive</td>\n",
       "    </tr>\n",
       "    <tr>\n",
       "      <th>2</th>\n",
       "      <td>T2</td>\n",
       "      <td>[-0.04442342, 0.0035807292, -0.09275309, 0.146...</td>\n",
       "      <td>negative</td>\n",
       "    </tr>\n",
       "    <tr>\n",
       "      <th>3</th>\n",
       "      <td>T3</td>\n",
       "      <td>[0.049312048, -0.0030343193, -0.051108222, 0.0...</td>\n",
       "      <td>negative</td>\n",
       "    </tr>\n",
       "    <tr>\n",
       "      <th>4</th>\n",
       "      <td>T4</td>\n",
       "      <td>[0.06750488, 0.13303375, 0.004333496, 0.142150...</td>\n",
       "      <td>negative</td>\n",
       "    </tr>\n",
       "    <tr>\n",
       "      <th>...</th>\n",
       "      <td>...</td>\n",
       "      <td>...</td>\n",
       "      <td>...</td>\n",
       "    </tr>\n",
       "    <tr>\n",
       "      <th>2916</th>\n",
       "      <td>T2916</td>\n",
       "      <td>[0.00789388, -0.016316732, 0.023885092, 0.0580...</td>\n",
       "      <td>negative</td>\n",
       "    </tr>\n",
       "    <tr>\n",
       "      <th>2917</th>\n",
       "      <td>T2917</td>\n",
       "      <td>[-0.051171876, 0.023046875, 0.034448244, 0.115...</td>\n",
       "      <td>neutral</td>\n",
       "    </tr>\n",
       "    <tr>\n",
       "      <th>2918</th>\n",
       "      <td>T2918</td>\n",
       "      <td>[-0.11027832, -0.0024414062, 0.009741211, 0.06...</td>\n",
       "      <td>negative</td>\n",
       "    </tr>\n",
       "    <tr>\n",
       "      <th>2919</th>\n",
       "      <td>T2919</td>\n",
       "      <td>[-0.028148651, 0.022649765, -0.006084442, 0.11...</td>\n",
       "      <td>negative</td>\n",
       "    </tr>\n",
       "    <tr>\n",
       "      <th>2920</th>\n",
       "      <td>T2920</td>\n",
       "      <td>[0.0032348633, 0.010253906, 0.048523586, 0.137...</td>\n",
       "      <td>negative</td>\n",
       "    </tr>\n",
       "  </tbody>\n",
       "</table>\n",
       "<p>2921 rows × 3 columns</p>\n",
       "</div>"
      ],
      "text/plain": [
       "      Tweet                                           Features Sentiment\n",
       "0        T0  [-0.052124023, -0.025878906, -0.1665039, -0.05...   neutral\n",
       "1        T1  [-0.01133728, 0.011459351, 0.006072998, 0.1003...  positive\n",
       "2        T2  [-0.04442342, 0.0035807292, -0.09275309, 0.146...  negative\n",
       "3        T3  [0.049312048, -0.0030343193, -0.051108222, 0.0...  negative\n",
       "4        T4  [0.06750488, 0.13303375, 0.004333496, 0.142150...  negative\n",
       "...     ...                                                ...       ...\n",
       "2916  T2916  [0.00789388, -0.016316732, 0.023885092, 0.0580...  negative\n",
       "2917  T2917  [-0.051171876, 0.023046875, 0.034448244, 0.115...   neutral\n",
       "2918  T2918  [-0.11027832, -0.0024414062, 0.009741211, 0.06...  negative\n",
       "2919  T2919  [-0.028148651, 0.022649765, -0.006084442, 0.11...  negative\n",
       "2920  T2920  [0.0032348633, 0.010253906, 0.048523586, 0.137...  negative\n",
       "\n",
       "[2921 rows x 3 columns]"
      ]
     },
     "metadata": {},
     "output_type": "display_data"
    }
   ],
   "source": [
    "#word2vec for test\n",
    "tweets = ['T' + str(i) for i in range(len(test))]\n",
    "\n",
    "w2vTest = pd.DataFrame(tweets, columns =['Tweet'])\n",
    "\n",
    "w2vTest['Features'] = test.apply(lambda row: extract_features(row[\"Tweet\"]),axis=1)\n",
    "\n",
    "\n",
    "\n",
    "w2vTest['Sentiment'] = test['Sentiment']\n",
    "\n",
    "display(w2vTest)"
   ]
  },
  {
   "cell_type": "code",
   "execution_count": null,
   "metadata": {},
   "outputs": [],
   "source": [
    "#Running Part 1 with word2vec"
   ]
  },
  {
   "cell_type": "code",
   "execution_count": 36,
   "metadata": {},
   "outputs": [
    {
     "data": {
      "text/plain": [
       "array([[2.69019712, 2.79793294, 1.83034948, ..., 1.93712061, 1.80138317,\n",
       "        2.0824457 ],\n",
       "       [1.96460592, 2.19461426, 1.09740998, ..., 1.27281087, 1.19901442,\n",
       "        1.24582877],\n",
       "       [1.85241538, 1.98462346, 1.18644045, ..., 1.5332906 , 1.29633297,\n",
       "        1.2252636 ],\n",
       "       ...,\n",
       "       [2.10170804, 2.3139236 , 1.26657948, ..., 1.40530162, 1.32680592,\n",
       "        1.43857488],\n",
       "       [2.05167049, 2.23735504, 0.91142546, ..., 1.06562034, 1.05115237,\n",
       "        1.22499041],\n",
       "       [2.0044054 , 2.22095015, 1.01167157, ..., 1.17402252, 1.09766111,\n",
       "        1.21537876]])"
      ]
     },
     "metadata": {},
     "output_type": "display_data"
    },
    {
     "data": {
      "text/plain": [
       "2921"
      ]
     },
     "metadata": {},
     "output_type": "display_data"
    }
   ],
   "source": [
    "#Calculating euclidean distances\n",
    "TrainFeatures = w2vTrain['Features'].tolist()\n",
    "TestFeatures = w2vTest['Features'].tolist()\n",
    "\n",
    "distances = distance.cdist(TestFeatures,TrainFeatures,'euclidean')\n"
   ]
  },
  {
   "cell_type": "code",
   "execution_count": 38,
   "metadata": {},
   "outputs": [],
   "source": [
    "#Predicting Labels\n",
    "\n",
    "distances = np.array(distances)\n",
    "\n",
    "ks = {1,3,5,7,10}\n",
    "trainlabels = w2vTrain[\"Sentiment\"].tolist()\n",
    "\n",
    "predictedlabelsForEachK = []\n",
    "\n",
    "for k in ks:\n",
    "    predictedlabels = []\n",
    "    for distanceVector in distances:\n",
    "        \n",
    "        label_distances = list(map(lambda x, y:(x,y), trainlabels, distanceVector))\n",
    "\n",
    "        sorted_label_distances = sorted(label_distances, key = lambda x: x[1]) \n",
    "\n",
    "        while k >= 1:\n",
    "\n",
    "\n",
    "            nns = sorted_label_distances[:k]\n",
    "            counts = Counter(x[0] for x in nns)\n",
    "            c1 = counts['positive']\n",
    "            c2 = counts['negative']\n",
    "            c3 = counts['neutral']\n",
    "\n",
    "       \n",
    "\n",
    "            if c1 == c2 == c3:\n",
    "                k-=1\n",
    "\n",
    "            elif c1 == c2 and c1 > c3 and c2 > c3:\n",
    "                k-=1\n",
    "\n",
    "            elif c1 == c3 and c1 > c2 and c3 > c2:\n",
    "                k-=1\n",
    "\n",
    "            elif c2 == c3 and c2 > c1 and c3 > c1:\n",
    "                k-=1\n",
    "\n",
    "            elif c2 == c3 and c2 < c1 and c3 < c1:\n",
    "                #c1\n",
    "                predictedlabels.append('positive')\n",
    "                break\n",
    "\n",
    "            elif c1 == c3 and c1 < c2 and c3 < c2:\n",
    "                #c2\n",
    "                predictedlabels.append('negative')\n",
    "                break\n",
    "            elif c2 == c3 and c2 < c1 and c3 < c1:\n",
    "                #c3\n",
    "                predictedlabels.append('neutral')\n",
    "                break\n",
    "            elif c1 > c2 and c1 > c3:\n",
    "                #c1\n",
    "                predictedlabels.append('positive')\n",
    "                break\n",
    "            elif c2 > c1 and c2 > c3: \n",
    "                #c2\n",
    "                predictedlabels.append('negative')\n",
    "                break\n",
    "\n",
    "            elif c3 > c1 and c3 > c2:   \n",
    "                #c3\n",
    "                predictedlabels.append('neutral')\n",
    "                break\n",
    "\n",
    "    \n",
    "        \n",
    "\n",
    "\n",
    "    prediction = pd.DataFrame({'Predicted Sentiment':predictedlabels})\n",
    "    prediction[\"Actual Sentiment\"] = test[\"Sentiment\"]\n",
    "\n",
    "    predictedlabelsForEachK.append(prediction)\n",
    "    \n"
   ]
  },
  {
   "cell_type": "code",
   "execution_count": 39,
   "metadata": {},
   "outputs": [
    {
     "data": {
      "text/plain": [
       "[0.7004450530640192,\n",
       " 0.7021567956179391,\n",
       " 0.7021567956179391,\n",
       " 0.7011297500855871,\n",
       " 0.7011297500855871]"
      ]
     },
     "metadata": {},
     "output_type": "display_data"
    }
   ],
   "source": [
    "#accuracies\n",
    "\n",
    "def f(col1, col2):\n",
    "    if col1 == col2:\n",
    "        return 1\n",
    "    else:\n",
    "        return 0\n",
    "\n",
    "accuracies = []\n",
    "for i,k in enumerate(ks):\n",
    "    prediction = predictedlabelsForEachK[i]\n",
    "#     display(prediction)\n",
    "\n",
    "\n",
    "\n",
    "\n",
    "        \n",
    "        \n",
    "#         display(x['Predicted Sentiment'])\n",
    "#         display(x['Actual Sentiment'])\n",
    "   \n",
    "\n",
    "    temp = prediction\n",
    "\n",
    "    temp[\"Count\"] = temp.apply(lambda x: f(x['Predicted Sentiment'], x['Actual Sentiment']), axis=1)\n",
    "\n",
    "#     temp[\"Count\"] = temp[\"Count\"].fillna(0)\n",
    "\n",
    "    matches = temp[\"Count\"].sum()\n",
    "    samples = prediction.shape[0]\n",
    "\n",
    "    accuracy = matches / samples\n",
    "    \n",
    "    accuracies.append(accuracy)\n",
    "\n",
    "display(accuracies)"
   ]
  },
  {
   "cell_type": "code",
   "execution_count": 40,
   "metadata": {},
   "outputs": [
    {
     "data": {
      "text/html": [
       "<div>\n",
       "<style scoped>\n",
       "    .dataframe tbody tr th:only-of-type {\n",
       "        vertical-align: middle;\n",
       "    }\n",
       "\n",
       "    .dataframe tbody tr th {\n",
       "        vertical-align: top;\n",
       "    }\n",
       "\n",
       "    .dataframe thead th {\n",
       "        text-align: right;\n",
       "    }\n",
       "</style>\n",
       "<table border=\"1\" class=\"dataframe\">\n",
       "  <thead>\n",
       "    <tr style=\"text-align: right;\">\n",
       "      <th></th>\n",
       "      <th>pos</th>\n",
       "      <th>neg</th>\n",
       "      <th>neu</th>\n",
       "    </tr>\n",
       "  </thead>\n",
       "  <tbody>\n",
       "    <tr>\n",
       "      <th>pos</th>\n",
       "      <td>236</td>\n",
       "      <td>108</td>\n",
       "      <td>74</td>\n",
       "    </tr>\n",
       "    <tr>\n",
       "      <th>neg</th>\n",
       "      <td>149</td>\n",
       "      <td>1564</td>\n",
       "      <td>295</td>\n",
       "    </tr>\n",
       "    <tr>\n",
       "      <th>neu</th>\n",
       "      <td>87</td>\n",
       "      <td>162</td>\n",
       "      <td>246</td>\n",
       "    </tr>\n",
       "  </tbody>\n",
       "</table>\n",
       "</div>"
      ],
      "text/plain": [
       "     pos   neg  neu\n",
       "pos  236   108   74\n",
       "neg  149  1564  295\n",
       "neu   87   162  246"
      ]
     },
     "metadata": {},
     "output_type": "display_data"
    },
    {
     "data": {
      "text/html": [
       "<div>\n",
       "<style scoped>\n",
       "    .dataframe tbody tr th:only-of-type {\n",
       "        vertical-align: middle;\n",
       "    }\n",
       "\n",
       "    .dataframe tbody tr th {\n",
       "        vertical-align: top;\n",
       "    }\n",
       "\n",
       "    .dataframe thead th {\n",
       "        text-align: right;\n",
       "    }\n",
       "</style>\n",
       "<table border=\"1\" class=\"dataframe\">\n",
       "  <thead>\n",
       "    <tr style=\"text-align: right;\">\n",
       "      <th></th>\n",
       "      <th>pos</th>\n",
       "      <th>neg</th>\n",
       "      <th>neu</th>\n",
       "    </tr>\n",
       "  </thead>\n",
       "  <tbody>\n",
       "    <tr>\n",
       "      <th>pos</th>\n",
       "      <td>236</td>\n",
       "      <td>106</td>\n",
       "      <td>74</td>\n",
       "    </tr>\n",
       "    <tr>\n",
       "      <th>neg</th>\n",
       "      <td>149</td>\n",
       "      <td>1569</td>\n",
       "      <td>295</td>\n",
       "    </tr>\n",
       "    <tr>\n",
       "      <th>neu</th>\n",
       "      <td>87</td>\n",
       "      <td>159</td>\n",
       "      <td>246</td>\n",
       "    </tr>\n",
       "  </tbody>\n",
       "</table>\n",
       "</div>"
      ],
      "text/plain": [
       "     pos   neg  neu\n",
       "pos  236   106   74\n",
       "neg  149  1569  295\n",
       "neu   87   159  246"
      ]
     },
     "metadata": {},
     "output_type": "display_data"
    },
    {
     "data": {
      "text/html": [
       "<div>\n",
       "<style scoped>\n",
       "    .dataframe tbody tr th:only-of-type {\n",
       "        vertical-align: middle;\n",
       "    }\n",
       "\n",
       "    .dataframe tbody tr th {\n",
       "        vertical-align: top;\n",
       "    }\n",
       "\n",
       "    .dataframe thead th {\n",
       "        text-align: right;\n",
       "    }\n",
       "</style>\n",
       "<table border=\"1\" class=\"dataframe\">\n",
       "  <thead>\n",
       "    <tr style=\"text-align: right;\">\n",
       "      <th></th>\n",
       "      <th>pos</th>\n",
       "      <th>neg</th>\n",
       "      <th>neu</th>\n",
       "    </tr>\n",
       "  </thead>\n",
       "  <tbody>\n",
       "    <tr>\n",
       "      <th>pos</th>\n",
       "      <td>237</td>\n",
       "      <td>106</td>\n",
       "      <td>74</td>\n",
       "    </tr>\n",
       "    <tr>\n",
       "      <th>neg</th>\n",
       "      <td>150</td>\n",
       "      <td>1570</td>\n",
       "      <td>297</td>\n",
       "    </tr>\n",
       "    <tr>\n",
       "      <th>neu</th>\n",
       "      <td>85</td>\n",
       "      <td>158</td>\n",
       "      <td>244</td>\n",
       "    </tr>\n",
       "  </tbody>\n",
       "</table>\n",
       "</div>"
      ],
      "text/plain": [
       "     pos   neg  neu\n",
       "pos  237   106   74\n",
       "neg  150  1570  297\n",
       "neu   85   158  244"
      ]
     },
     "metadata": {},
     "output_type": "display_data"
    },
    {
     "data": {
      "text/html": [
       "<div>\n",
       "<style scoped>\n",
       "    .dataframe tbody tr th:only-of-type {\n",
       "        vertical-align: middle;\n",
       "    }\n",
       "\n",
       "    .dataframe tbody tr th {\n",
       "        vertical-align: top;\n",
       "    }\n",
       "\n",
       "    .dataframe thead th {\n",
       "        text-align: right;\n",
       "    }\n",
       "</style>\n",
       "<table border=\"1\" class=\"dataframe\">\n",
       "  <thead>\n",
       "    <tr style=\"text-align: right;\">\n",
       "      <th></th>\n",
       "      <th>pos</th>\n",
       "      <th>neg</th>\n",
       "      <th>neu</th>\n",
       "    </tr>\n",
       "  </thead>\n",
       "  <tbody>\n",
       "    <tr>\n",
       "      <th>pos</th>\n",
       "      <td>237</td>\n",
       "      <td>106</td>\n",
       "      <td>73</td>\n",
       "    </tr>\n",
       "    <tr>\n",
       "      <th>neg</th>\n",
       "      <td>151</td>\n",
       "      <td>1571</td>\n",
       "      <td>302</td>\n",
       "    </tr>\n",
       "    <tr>\n",
       "      <th>neu</th>\n",
       "      <td>84</td>\n",
       "      <td>157</td>\n",
       "      <td>240</td>\n",
       "    </tr>\n",
       "  </tbody>\n",
       "</table>\n",
       "</div>"
      ],
      "text/plain": [
       "     pos   neg  neu\n",
       "pos  237   106   73\n",
       "neg  151  1571  302\n",
       "neu   84   157  240"
      ]
     },
     "metadata": {},
     "output_type": "display_data"
    },
    {
     "data": {
      "text/html": [
       "<div>\n",
       "<style scoped>\n",
       "    .dataframe tbody tr th:only-of-type {\n",
       "        vertical-align: middle;\n",
       "    }\n",
       "\n",
       "    .dataframe tbody tr th {\n",
       "        vertical-align: top;\n",
       "    }\n",
       "\n",
       "    .dataframe thead th {\n",
       "        text-align: right;\n",
       "    }\n",
       "</style>\n",
       "<table border=\"1\" class=\"dataframe\">\n",
       "  <thead>\n",
       "    <tr style=\"text-align: right;\">\n",
       "      <th></th>\n",
       "      <th>pos</th>\n",
       "      <th>neg</th>\n",
       "      <th>neu</th>\n",
       "    </tr>\n",
       "  </thead>\n",
       "  <tbody>\n",
       "    <tr>\n",
       "      <th>pos</th>\n",
       "      <td>237</td>\n",
       "      <td>105</td>\n",
       "      <td>73</td>\n",
       "    </tr>\n",
       "    <tr>\n",
       "      <th>neg</th>\n",
       "      <td>150</td>\n",
       "      <td>1573</td>\n",
       "      <td>304</td>\n",
       "    </tr>\n",
       "    <tr>\n",
       "      <th>neu</th>\n",
       "      <td>85</td>\n",
       "      <td>156</td>\n",
       "      <td>238</td>\n",
       "    </tr>\n",
       "  </tbody>\n",
       "</table>\n",
       "</div>"
      ],
      "text/plain": [
       "     pos   neg  neu\n",
       "pos  237   105   73\n",
       "neg  150  1573  304\n",
       "neu   85   156  238"
      ]
     },
     "metadata": {},
     "output_type": "display_data"
    }
   ],
   "source": [
    "#cms\n",
    "def g(col1, col2, cm):\n",
    "    if col1 == \"positive\" and col2 == \"positive\":\n",
    "        cm.at['pos', 'pos'] += 1\n",
    "    elif col1 == \"positive\" and col2 == \"negative\":\n",
    "        cm.at['pos','neg'] +=1\n",
    "    elif col1 == \"positive\" and col2 == \"neutral\":\n",
    "        cm.at['pos','neu'] +=1\n",
    "    elif col1 == \"negative\" and col2 == \"positive\":\n",
    "        cm.at['neg','pos'] +=1\n",
    "    elif col1 == \"negative\" and col2 == \"negative\":\n",
    "        cm.at['neg','neg'] +=1   \n",
    "    elif col1 == \"negative\" and col2 == \"neutral\":\n",
    "        cm.at['neg','neu'] +=1   \n",
    "    elif col1 == \"neutral\" and col2 == \"positive\":\n",
    "        cm.at['neu','pos'] +=1\n",
    "    elif col1 == \"neutral\" and col2 == \"negative\":\n",
    "        cm.at['neu','neg'] +=1\n",
    "    elif col1 == \"neutral\" and col2 == \"neutral\":\n",
    "        cm.at['neu','neu'] +=1\n",
    "\n",
    "        \n",
    "        \n",
    "    \n",
    "cms = []\n",
    "for i,k in enumerate(ks):\n",
    "     prediction = predictedlabelsForEachK[i]\n",
    "#      actual = np.array(prediction['Actual Sentiment'])\n",
    "#      pred = np.array(prediction['Predicted Sentiment'])\n",
    "#      classes = 3\n",
    "     cm = pd.DataFrame(index=['pos','neg','neu'], columns=['pos','neg','neu'])\n",
    "     cm = cm.fillna(0)\n",
    "     \n",
    "    \n",
    "        \n",
    "     \n",
    "     prediction.apply(lambda x: g(x['Predicted Sentiment'], x['Actual Sentiment'],cm), axis=1) \n",
    "     \n",
    "     display(cm)\n",
    "     cms.append(cm)\n",
    "#      for col in cm.columns:\n",
    "#          cm[col].values[:] = 0\n",
    "    "
   ]
  },
  {
   "cell_type": "code",
   "execution_count": 41,
   "metadata": {},
   "outputs": [
    {
     "data": {
      "text/plain": [
       "[0.7004450530640192,\n",
       " 0.7021567956179391,\n",
       " 0.7021567956179391,\n",
       " 0.7011297500855871,\n",
       " 0.7011297500855871]"
      ]
     },
     "metadata": {},
     "output_type": "display_data"
    },
    {
     "data": {
      "text/plain": [
       "[0.613482486852166,\n",
       " 0.6155804577935725,\n",
       " 0.6159185853370895,\n",
       " 0.6149526027243418,\n",
       " 0.6146588312189282]"
      ]
     },
     "metadata": {},
     "output_type": "display_data"
    },
    {
     "data": {
      "text/plain": [
       "[0.5842602689930935,\n",
       " 0.5851690294438385,\n",
       " 0.5849729853831448,\n",
       " 0.5829867157930769,\n",
       " 0.5822662091332667]"
      ]
     },
     "metadata": {},
     "output_type": "display_data"
    },
    {
     "data": {
      "text/plain": [
       "[0.5959132046434422,\n",
       " 0.5972255072852941,\n",
       " 0.59712906617918,\n",
       " 0.5953838667992214,\n",
       " 0.594766977531907]"
      ]
     },
     "metadata": {},
     "output_type": "display_data"
    }
   ],
   "source": [
    "#precisions, recalls and f1s\n",
    "classes = ['pos','neg','neu']\n",
    "precisions = []\n",
    "recalls = []\n",
    "f1s = []\n",
    "ks = [1,3,5,7,10]\n",
    "for cm in cms:\n",
    "    \n",
    "    tp = 0\n",
    "    tn = 0\n",
    "    fp = 0\n",
    "    fn = 0\n",
    "    precision = 0\n",
    "    recall = 0\n",
    "    f1 = 0\n",
    "    for c in classes:\n",
    "        if c == 'pos':\n",
    "            tp = cm.at['pos','pos']\n",
    "            tn = cm.at['neg','neg'] + cm.at['neg','neu'] + cm.at['neu','neg'] + cm.at['neu','neu']\n",
    "            fp = cm.at['pos','neg'] + cm.at['pos','neu']\n",
    "            fn = cm.at['neg','pos'] + cm.at['neu','pos']\n",
    "            precision += tp / (tp + fp)\n",
    "            recall += tp / (tp + fn)\n",
    "            f1 += (2*tp) / (2*tp + fp + fn)\n",
    "        elif c == 'neg':\n",
    "            tp = cm.at['neg','neg']\n",
    "            tn = cm.at['pos','pos'] + cm.at['pos','neu'] + cm.at['neu','pos'] + cm.at['neu','neu']\n",
    "            fp = cm.at['neg','pos'] + cm.at['neg','neu']\n",
    "            fn = cm.at['pos','neg'] + cm.at['neu','neg']\n",
    "            precision += tp / (tp + fp)\n",
    "            recall += tp / (tp + fn)\n",
    "            f1 += (2*tp) / (2*tp + fp + fn)\n",
    "            \n",
    "        elif c == 'neu':\n",
    "            tp = cm.at['neu','neu']\n",
    "            tn = cm.at['pos','pos'] + cm.at['pos','neg'] + cm.at['neg','pos'] + cm.at['neg','neg']\n",
    "            fp = cm.at['neu','neg'] + cm.at['neu','pos']\n",
    "            fn = cm.at['pos','neu'] + cm.at['neg','neu']\n",
    "            precision += tp / (tp + fp)\n",
    "            recall += tp / (tp + fn)\n",
    "            f1 += (2*tp) / (2*tp + fp + fn)\n",
    "            \n",
    "    \n",
    "    precisions.append(precision / 3)\n",
    "    recalls.append(recall / 3)\n",
    "    f1s.append(f1 / 3)\n",
    "\n",
    "display(accuracies)\n",
    "display(precisions)\n",
    "display(recalls)\n",
    "display(f1s)\n",
    "        "
   ]
  },
  {
   "cell_type": "code",
   "execution_count": 42,
   "metadata": {},
   "outputs": [
    {
     "data": {
      "text/plain": [
       "Text(0.5, 1.0, 'k against Accuracy')"
      ]
     },
     "execution_count": 42,
     "metadata": {},
     "output_type": "execute_result"
    },
    {
     "data": {
      "image/png": "[encoded data removed]",
      "text/plain": [
       "<Figure size 432x288 with 1 Axes>"
      ]
     },
     "metadata": {
      "needs_background": "light"
     },
     "output_type": "display_data"
    }
   ],
   "source": [
    "#k vs accuracy\n",
    "plt.plot(ks, accuracies)\n",
    "plt.xlabel('k')\n",
    "plt.ylabel('Accuracy')\n",
    "plt.title('k against Accuracy')"
   ]
  },
  {
   "cell_type": "code",
   "execution_count": 43,
   "metadata": {},
   "outputs": [
    {
     "data": {
      "text/plain": [
       "Text(0.5, 1.0, 'k against Precision')"
      ]
     },
     "execution_count": 43,
     "metadata": {},
     "output_type": "execute_result"
    },
    {
     "data": {
      "image/png": "[encoded data removed]",
      "text/plain": [
       "<Figure size 432x288 with 1 Axes>"
      ]
     },
     "metadata": {
      "needs_background": "light"
     },
     "output_type": "display_data"
    }
   ],
   "source": [
    "#k vs precision\n",
    "plt.plot(ks, precisions)\n",
    "plt.xlabel('k')\n",
    "plt.ylabel('Precision')\n",
    "plt.title('k against Precision')"
   ]
  },
  {
   "cell_type": "code",
   "execution_count": 44,
   "metadata": {},
   "outputs": [
    {
     "data": {
      "text/plain": [
       "Text(0.5, 1.0, 'k against Recall')"
      ]
     },
     "execution_count": 44,
     "metadata": {},
     "output_type": "execute_result"
    },
    {
     "data": {
      "image/png": "[encoded data removed]",
      "text/plain": [
       "<Figure size 432x288 with 1 Axes>"
      ]
     },
     "metadata": {
      "needs_background": "light"
     },
     "output_type": "display_data"
    }
   ],
   "source": [
    "#k vs recall\n",
    "plt.plot(ks, recalls)\n",
    "plt.xlabel('k')\n",
    "plt.ylabel('Recall')\n",
    "plt.title('k against Recall')"
   ]
  },
  {
   "cell_type": "code",
   "execution_count": 45,
   "metadata": {},
   "outputs": [
    {
     "data": {
      "text/plain": [
       "Text(0.5, 1.0, 'k against F1')"
      ]
     },
     "execution_count": 45,
     "metadata": {},
     "output_type": "execute_result"
    },
    {
     "data": {
      "image/png": "[encoded data removed]",
      "text/plain": [
       "<Figure size 432x288 with 1 Axes>"
      ]
     },
     "metadata": {
      "needs_background": "light"
     },
     "output_type": "display_data"
    }
   ],
   "source": [
    "#k vs f1\n",
    "plt.plot(ks, f1s)\n",
    "plt.xlabel('k')\n",
    "plt.ylabel('F1')\n",
    "plt.title('k against F1')"
   ]
  },
  {
   "cell_type": "code",
   "execution_count": null,
   "metadata": {},
   "outputs": [],
   "source": [
    "#Running Part 2 with word2vec"
   ]
  },
  {
   "cell_type": "code",
   "execution_count": null,
   "metadata": {},
   "outputs": [],
   "source": [
    "from sklearn.neighbors import KNeighborsClassifier\n",
    "from sklearn.metrics import accuracy_score\n",
    "from sklearn.metrics import classification_report\n",
    "from sklearn.metrics import confusion_matrix\n",
    "target_names = ['positive', 'negative', 'neutral']\n",
    "accuracies = []\n",
    "precisions = []\n",
    "recalls = []\n",
    "f1s = []\n",
    "cms = []\n",
    "ks = [1,3,5,7,10]\n",
    "\n",
    "for k in ks:\n",
    "\n",
    "    TrainFeatures = BOWTrain.drop(['Tweet', 'Sentiment'], 1)\n",
    "    TrainFeatures = TrainFeatures.values.tolist()\n",
    "    TrainLabels = BOWTrain['Sentiment'].tolist()\n",
    "\n",
    "    TestFeatures = BOWTest.drop(['Tweet', 'Sentiment'], 1)\n",
    "    TestFeatures = TestFeatures.values.tolist()\n",
    "\n",
    "    TrueLabels = BOWTest['Sentiment'].tolist()\n",
    "\n",
    "    neigh = KNeighborsClassifier(n_neighbors=k)\n",
    "    neigh.fit(TrainFeatures, TrainLabels)\n",
    "\n",
    "    predicted_labels = neigh.predict(TestFeatures)\n",
    "    accuracy = accuracy_score(TrueLabels, predicted_labels)\n",
    "    accuracies.append(accuracy)\n",
    "    \n",
    "    report_dict = classification_report(TrueLabels, predicted_labels, target_names=target_names, output_dict=True)\n",
    "    precision = report_dict['macro avg']['precision']\n",
    "    precisions.append(precision)\n",
    "    recall = report_dict['macro avg']['recall']\n",
    "    recalls.append(recall)\n",
    "    f1 = report_dict['macro avg']['f1-score']\n",
    "    f1s.append(f1)\n",
    "    \n",
    "    cm = confusion_matrix(TrueLabels, predicted_labels, labels=[\"positive\", \"negative\", \"neutral\"])\n",
    "    cms.append(cm)\n",
    "\n",
    "display(cms)\n",
    "display(accuracies)\n",
    "display(precisions)\n",
    "display(recalls)\n",
    "display(f1s)\n"
   ]
  },
  {
   "cell_type": "code",
   "execution_count": null,
   "metadata": {},
   "outputs": [],
   "source": []
  }
 ],
 "metadata": {
  "kernelspec": {
   "display_name": "Python 3",
   "language": "python",
   "name": "python3"
  },
  "language_info": {
   "codemirror_mode": {
    "name": "ipython",
    "version": 3
   },
   "file_extension": ".py",
   "mimetype": "text/x-python",
   "name": "python",
   "nbconvert_exporter": "python",
   "pygments_lexer": "ipython3",
   "version": "3.8.5"
  }
 },
 "nbformat": 4,
 "nbformat_minor": 4
}
