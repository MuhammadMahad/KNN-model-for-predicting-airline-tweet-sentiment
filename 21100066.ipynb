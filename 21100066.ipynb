{
 "cells": [
  {
   "cell_type": "code",
   "execution_count": 2,
   "metadata": {},
   "outputs": [],
   "source": [
    "#IMPORT CELL\n",
    "import pandas as pd\n",
    "import string\n",
    "import re\n",
    "from collections import Counter\n",
    "from scipy.spatial import distance\n",
    "from scipy import stats\n",
    "import numpy as np\n",
    "import matplotlib.pyplot as plt\n",
    "import openpyxl\n",
    "# from jupyterthemes import jtplot\n",
    "from string import digits\n",
    "\n",
    "# jtplot.style()\n",
    "\n",
    "# pd.set_option('display.max_rows', None)\n",
    "# pd.set_option('display.max_colwidth', None)"
   ]
  },
  {
   "cell_type": "code",
   "execution_count": 3,
   "metadata": {},
   "outputs": [],
   "source": [
    "#Part 1\n",
    "train = pd.read_csv('train.csv')\n",
    "test = pd.read_csv('test.csv')\n",
    "stop_words = []\n",
    "with open('stop_words.txt') as f:\n",
    "    stop_words = [line.rstrip() for line in f]\n",
    "\n",
    "def is_not_float(string):\n",
    "    try:\n",
    "        float(string)\n",
    "        return False\n",
    "    except ValueError:  \n",
    "        return True\n",
    "    \n",
    "def wordfreq(tweet,word):\n",
    "    tweetlist = tweet.split()\n",
    "    count = tweetlist.count(word)\n",
    "    return count\n",
    "\n",
    "def h(tweet):\n",
    "    return tweet.translate(str.maketrans(string.punctuation, ' '*len(string.punctuation)))\n",
    "\n",
    "def j(tweet):\n",
    "    return re.sub(\"@[A-Za-z0-9]+\",\"\", tweet)\n",
    "\n",
    "def b(tweet):\n",
    "    replacement = ''\n",
    "    tweet = tweet.split()\n",
    "    tweet[0] = replacement\n",
    "    tweet = ' '.join(tweet)\n",
    "    return tweet\n",
    "\n"
   ]
  },
  {
   "cell_type": "code",
   "execution_count": 4,
   "metadata": {},
   "outputs": [],
   "source": [
    "#Train Cleaning\n",
    "\n",
    "#To Lowercase\n",
    "train['Tweet'] = train['Tweet'].str.lower()\n",
    "\n",
    "#Removing URLS\n",
    "train['Tweet'] = train['Tweet'].replace(r'http\\S+', '', regex=True).replace(r'www\\S+', '', regex=True)\n",
    "\n",
    "#Removing stopwords\n",
    "train['Tweet'] = train['Tweet'].apply(lambda x: ' '.join([word for word in x.split() if word not in (stop_words)]))\n",
    "\n",
    "#Removing usernames\n",
    "train['Tweet'] = train.apply(lambda row: j(row[\"Tweet\"]),axis=1 )\n",
    "\n",
    "#Removing Punctuation\n",
    "train['Tweet'] = train.apply(lambda row: h(row[\"Tweet\"]),axis=1 )\n",
    "\n",
    "# Removing single characters\n",
    "# train['Tweet'] = train['Tweet'].str.replace(r'\\b\\w\\b','').str.replace(r'\\s+', ' ')\n",
    "\n",
    "# Removing Numbers\n",
    "# train['Tweet'] = train['Tweet'].str.replace('\\d+', '')\n"
   ]
  },
  {
   "cell_type": "code",
   "execution_count": 5,
   "metadata": {},
   "outputs": [],
   "source": [
    "#Test Cleaning\n",
    "\n",
    "#To Lowercase\n",
    "test['Tweet'] = test['Tweet'].str.lower()\n",
    "\n",
    "#Removing URLS\n",
    "test['Tweet'] = test['Tweet'].replace(r'http\\S+', '', regex=True).replace(r'www\\S+', '', regex=True)\n",
    "\n",
    "#Removing stopwords\n",
    "test['Tweet'] = test['Tweet'].apply(lambda x: ' '.join([word for word in x.split() if word not in (stop_words)]))\n",
    "\n",
    "#Removing usernames\n",
    "test['Tweet'] = test.apply(lambda row: j(row[\"Tweet\"]),axis=1 )\n",
    "\n",
    "#Removing Punctuation\n",
    "test['Tweet'] = test.apply(lambda row: h(row[\"Tweet\"]),axis=1 )\n",
    "\n",
    "#Removing single characters\n",
    "# test['Tweet'] = test['Tweet'].str.replace(r'\\b\\w\\b','').str.replace(r'\\s+', ' ')\n",
    "\n",
    "#Removing Numbers\n",
    "# test['Tweet'] = test['Tweet'].str.replace('\\d+', '')\n"
   ]
  },
  {
   "cell_type": "code",
   "execution_count": 6,
   "metadata": {
    "scrolled": true
   },
   "outputs": [],
   "source": [
    "\n",
    "\n",
    "all_text = ' '.join(train['Tweet'].tolist())\n",
    "\n",
    "vocab = list(set(all_text.split()))\n"
   ]
  },
  {
   "cell_type": "code",
   "execution_count": 7,
   "metadata": {
    "scrolled": true
   },
   "outputs": [],
   "source": [
    "#Making BOW representation of train\n",
    "\n",
    "\n",
    "\n",
    "\n",
    "\n",
    "tweets = ['T' + str(i) for i in range(len(train))]\n",
    "\n",
    "BOWTrain = pd.DataFrame(tweets, columns =['Tweet'])\n",
    "\n",
    "\n",
    "\n",
    "\n",
    "for word in vocab:\n",
    "\n",
    "\n",
    "    BOWTrain[word] = train.apply(lambda row: wordfreq(row[\"Tweet\"],word),axis=1)\n",
    "    \n",
    "    \n",
    "\n",
    "        \n",
    "BOWTrain['Sentiment'] = train['Sentiment']\n",
    "\n",
    "\n",
    "\n",
    "\n",
    "\n",
    "\n",
    "\n",
    "\n"
   ]
  },
  {
   "cell_type": "code",
   "execution_count": 8,
   "metadata": {},
   "outputs": [],
   "source": [
    "#Making BOW representation of test\n",
    "\n",
    "tweets = ['T' + str(i) for i in range(len(test))]\n",
    "\n",
    "BOWTest = pd.DataFrame(tweets, columns =['Tweet'])\n",
    "\n",
    "\n",
    "\n",
    "\n",
    "for word in vocab:\n",
    "    BOWTest[word] = test.apply(lambda row: wordfreq(row[\"Tweet\"],word),axis=1)\n",
    "    \n",
    "\n",
    "        \n",
    "BOWTest['Sentiment'] = test['Sentiment']\n",
    "\n",
    "\n",
    "\n",
    "\n",
    "\n"
   ]
  },
  {
   "cell_type": "code",
   "execution_count": 9,
   "metadata": {},
   "outputs": [],
   "source": [
    "TrainFeatures = BOWTrain.drop(['Tweet', 'Sentiment'], 1)\n",
    "TestFeatures = BOWTest.drop(['Tweet', 'Sentiment'], 1)\n",
    "   \n"
   ]
  },
  {
   "cell_type": "code",
   "execution_count": 10,
   "metadata": {},
   "outputs": [],
   "source": [
    "#Calculating euclidean distances of test with train\n",
    "distances = distance.cdist(TestFeatures,TrainFeatures ,'euclidean')\n",
    "\n",
    "\n",
    "\n"
   ]
  },
  {
   "cell_type": "code",
   "execution_count": null,
   "metadata": {},
   "outputs": [],
   "source": []
  },
  {
   "cell_type": "code",
   "execution_count": 11,
   "metadata": {},
   "outputs": [],
   "source": [
    "#Predicting Labels\n",
    "\n",
    "distances = np.array(distances)\n",
    "\n",
    "ks = {1,3,5,7,10}\n",
    "trainlabels = BOWTrain[\"Sentiment\"].tolist()\n",
    "\n",
    "predictedlabelsForEachK = []\n",
    "\n",
    "\n",
    "for k in ks:\n",
    "    predictedlabels = []\n",
    "    for distanceVector in distances:\n",
    "        \n",
    "        label_distances = list(map(lambda x, y:(x,y), trainlabels, distanceVector))\n",
    "\n",
    "        sorted_label_distances = sorted(label_distances, key = lambda x: x[1]) \n",
    "        tempk = k\n",
    "        while tempk >= 1:\n",
    "\n",
    "\n",
    "            nns = sorted_label_distances[:tempk]\n",
    "            counts = Counter(x[0] for x in nns)\n",
    "            c1 = counts['positive']\n",
    "            c2 = counts['negative']\n",
    "            c3 = counts['neutral']\n",
    "\n",
    "\n",
    "            \n",
    "    \n",
    "           \n",
    "                \n",
    "           \n",
    "\n",
    "            if c1 > c2 and c1 > c3:\n",
    "                #c1\n",
    "                predictedlabels.append('positive')\n",
    "                break\n",
    "            elif c2 > c1 and c2 > c3: \n",
    "                #c2\n",
    "                predictedlabels.append('negative')\n",
    "                break\n",
    "\n",
    "            elif c3 > c1 and c3 > c2:   \n",
    "                #c3\n",
    "                predictedlabels.append('neutral')\n",
    "                break\n",
    "            elif c1 == c2 == c3:\n",
    "                tempk-=1\n",
    "\n",
    "            elif c1 == c2 and c1 > c3:\n",
    "                tempk-=1\n",
    "\n",
    "            elif c1 == c3 and c1 > c2:\n",
    "                tempk-=1\n",
    "\n",
    "            elif c2 == c3 and c2 > c1:\n",
    "                tempk-=1\n",
    "                \n",
    "           \n",
    "\n",
    "    \n",
    "        \n",
    "\n",
    "\n",
    "    prediction = pd.DataFrame({'Predicted Sentiment':predictedlabels})\n",
    "    prediction[\"Actual Sentiment\"] = test[\"Sentiment\"]\n",
    "\n",
    "    \n",
    "    predictedlabelsForEachK.append(prediction)\n",
    "    \n"
   ]
  },
  {
   "cell_type": "code",
   "execution_count": null,
   "metadata": {},
   "outputs": [],
   "source": []
  },
  {
   "cell_type": "code",
   "execution_count": 12,
   "metadata": {},
   "outputs": [
    {
     "data": {
      "text/plain": [
       "[0.5323519342690859,\n",
       " 0.5409106470386854,\n",
       " 0.546388223211229,\n",
       " 0.5381718589524136,\n",
       " 0.5251626155426223]"
      ]
     },
     "metadata": {},
     "output_type": "display_data"
    }
   ],
   "source": [
    "#accuracies\n",
    "\n",
    "def f(col1, col2):\n",
    "    if col1 == col2:\n",
    "        return 1\n",
    "    else:\n",
    "        return 0\n",
    "\n",
    "accuracies = []\n",
    "for i,k in enumerate(ks):\n",
    "    prediction = predictedlabelsForEachK[i]\n",
    "\n",
    "    temp = prediction\n",
    "\n",
    "    temp[\"Count\"] = temp.apply(lambda x: f(x['Predicted Sentiment'], x['Actual Sentiment']), axis=1)\n",
    "\n",
    "\n",
    "    matches = temp[\"Count\"].sum()\n",
    "    samples = prediction.shape[0]\n",
    "    \n",
    "    accuracy = matches / samples\n",
    "    \n",
    "    accuracies.append(accuracy)\n",
    "\n",
    "display(accuracies)"
   ]
  },
  {
   "cell_type": "code",
   "execution_count": 13,
   "metadata": {},
   "outputs": [
    {
     "data": {
      "text/html": [
       "<div>\n",
       "<style scoped>\n",
       "    .dataframe tbody tr th:only-of-type {\n",
       "        vertical-align: middle;\n",
       "    }\n",
       "\n",
       "    .dataframe tbody tr th {\n",
       "        vertical-align: top;\n",
       "    }\n",
       "\n",
       "    .dataframe thead th {\n",
       "        text-align: right;\n",
       "    }\n",
       "</style>\n",
       "<table border=\"1\" class=\"dataframe\">\n",
       "  <thead>\n",
       "    <tr style=\"text-align: right;\">\n",
       "      <th></th>\n",
       "      <th>pos</th>\n",
       "      <th>neg</th>\n",
       "      <th>neu</th>\n",
       "    </tr>\n",
       "  </thead>\n",
       "  <tbody>\n",
       "    <tr>\n",
       "      <th>pos</th>\n",
       "      <td>227</td>\n",
       "      <td>191</td>\n",
       "      <td>80</td>\n",
       "    </tr>\n",
       "    <tr>\n",
       "      <th>neg</th>\n",
       "      <td>71</td>\n",
       "      <td>929</td>\n",
       "      <td>136</td>\n",
       "    </tr>\n",
       "    <tr>\n",
       "      <th>neu</th>\n",
       "      <td>174</td>\n",
       "      <td>714</td>\n",
       "      <td>399</td>\n",
       "    </tr>\n",
       "  </tbody>\n",
       "</table>\n",
       "</div>"
      ],
      "text/plain": [
       "     pos  neg  neu\n",
       "pos  227  191   80\n",
       "neg   71  929  136\n",
       "neu  174  714  399"
      ]
     },
     "metadata": {},
     "output_type": "display_data"
    },
    {
     "data": {
      "text/html": [
       "<div>\n",
       "<style scoped>\n",
       "    .dataframe tbody tr th:only-of-type {\n",
       "        vertical-align: middle;\n",
       "    }\n",
       "\n",
       "    .dataframe tbody tr th {\n",
       "        vertical-align: top;\n",
       "    }\n",
       "\n",
       "    .dataframe thead th {\n",
       "        text-align: right;\n",
       "    }\n",
       "</style>\n",
       "<table border=\"1\" class=\"dataframe\">\n",
       "  <thead>\n",
       "    <tr style=\"text-align: right;\">\n",
       "      <th></th>\n",
       "      <th>pos</th>\n",
       "      <th>neg</th>\n",
       "      <th>neu</th>\n",
       "    </tr>\n",
       "  </thead>\n",
       "  <tbody>\n",
       "    <tr>\n",
       "      <th>pos</th>\n",
       "      <td>265</td>\n",
       "      <td>182</td>\n",
       "      <td>77</td>\n",
       "    </tr>\n",
       "    <tr>\n",
       "      <th>neg</th>\n",
       "      <td>56</td>\n",
       "      <td>909</td>\n",
       "      <td>132</td>\n",
       "    </tr>\n",
       "    <tr>\n",
       "      <th>neu</th>\n",
       "      <td>151</td>\n",
       "      <td>743</td>\n",
       "      <td>406</td>\n",
       "    </tr>\n",
       "  </tbody>\n",
       "</table>\n",
       "</div>"
      ],
      "text/plain": [
       "     pos  neg  neu\n",
       "pos  265  182   77\n",
       "neg   56  909  132\n",
       "neu  151  743  406"
      ]
     },
     "metadata": {},
     "output_type": "display_data"
    },
    {
     "data": {
      "text/html": [
       "<div>\n",
       "<style scoped>\n",
       "    .dataframe tbody tr th:only-of-type {\n",
       "        vertical-align: middle;\n",
       "    }\n",
       "\n",
       "    .dataframe tbody tr th {\n",
       "        vertical-align: top;\n",
       "    }\n",
       "\n",
       "    .dataframe thead th {\n",
       "        text-align: right;\n",
       "    }\n",
       "</style>\n",
       "<table border=\"1\" class=\"dataframe\">\n",
       "  <thead>\n",
       "    <tr style=\"text-align: right;\">\n",
       "      <th></th>\n",
       "      <th>pos</th>\n",
       "      <th>neg</th>\n",
       "      <th>neu</th>\n",
       "    </tr>\n",
       "  </thead>\n",
       "  <tbody>\n",
       "    <tr>\n",
       "      <th>pos</th>\n",
       "      <td>292</td>\n",
       "      <td>178</td>\n",
       "      <td>86</td>\n",
       "    </tr>\n",
       "    <tr>\n",
       "      <th>neg</th>\n",
       "      <td>55</td>\n",
       "      <td>901</td>\n",
       "      <td>126</td>\n",
       "    </tr>\n",
       "    <tr>\n",
       "      <th>neu</th>\n",
       "      <td>125</td>\n",
       "      <td>755</td>\n",
       "      <td>403</td>\n",
       "    </tr>\n",
       "  </tbody>\n",
       "</table>\n",
       "</div>"
      ],
      "text/plain": [
       "     pos  neg  neu\n",
       "pos  292  178   86\n",
       "neg   55  901  126\n",
       "neu  125  755  403"
      ]
     },
     "metadata": {},
     "output_type": "display_data"
    },
    {
     "data": {
      "text/html": [
       "<div>\n",
       "<style scoped>\n",
       "    .dataframe tbody tr th:only-of-type {\n",
       "        vertical-align: middle;\n",
       "    }\n",
       "\n",
       "    .dataframe tbody tr th {\n",
       "        vertical-align: top;\n",
       "    }\n",
       "\n",
       "    .dataframe thead th {\n",
       "        text-align: right;\n",
       "    }\n",
       "</style>\n",
       "<table border=\"1\" class=\"dataframe\">\n",
       "  <thead>\n",
       "    <tr style=\"text-align: right;\">\n",
       "      <th></th>\n",
       "      <th>pos</th>\n",
       "      <th>neg</th>\n",
       "      <th>neu</th>\n",
       "    </tr>\n",
       "  </thead>\n",
       "  <tbody>\n",
       "    <tr>\n",
       "      <th>pos</th>\n",
       "      <td>298</td>\n",
       "      <td>188</td>\n",
       "      <td>89</td>\n",
       "    </tr>\n",
       "    <tr>\n",
       "      <th>neg</th>\n",
       "      <td>55</td>\n",
       "      <td>840</td>\n",
       "      <td>92</td>\n",
       "    </tr>\n",
       "    <tr>\n",
       "      <th>neu</th>\n",
       "      <td>119</td>\n",
       "      <td>806</td>\n",
       "      <td>434</td>\n",
       "    </tr>\n",
       "  </tbody>\n",
       "</table>\n",
       "</div>"
      ],
      "text/plain": [
       "     pos  neg  neu\n",
       "pos  298  188   89\n",
       "neg   55  840   92\n",
       "neu  119  806  434"
      ]
     },
     "metadata": {},
     "output_type": "display_data"
    },
    {
     "data": {
      "text/html": [
       "<div>\n",
       "<style scoped>\n",
       "    .dataframe tbody tr th:only-of-type {\n",
       "        vertical-align: middle;\n",
       "    }\n",
       "\n",
       "    .dataframe tbody tr th {\n",
       "        vertical-align: top;\n",
       "    }\n",
       "\n",
       "    .dataframe thead th {\n",
       "        text-align: right;\n",
       "    }\n",
       "</style>\n",
       "<table border=\"1\" class=\"dataframe\">\n",
       "  <thead>\n",
       "    <tr style=\"text-align: right;\">\n",
       "      <th></th>\n",
       "      <th>pos</th>\n",
       "      <th>neg</th>\n",
       "      <th>neu</th>\n",
       "    </tr>\n",
       "  </thead>\n",
       "  <tbody>\n",
       "    <tr>\n",
       "      <th>pos</th>\n",
       "      <td>301</td>\n",
       "      <td>185</td>\n",
       "      <td>87</td>\n",
       "    </tr>\n",
       "    <tr>\n",
       "      <th>neg</th>\n",
       "      <td>48</td>\n",
       "      <td>775</td>\n",
       "      <td>70</td>\n",
       "    </tr>\n",
       "    <tr>\n",
       "      <th>neu</th>\n",
       "      <td>123</td>\n",
       "      <td>874</td>\n",
       "      <td>458</td>\n",
       "    </tr>\n",
       "  </tbody>\n",
       "</table>\n",
       "</div>"
      ],
      "text/plain": [
       "     pos  neg  neu\n",
       "pos  301  185   87\n",
       "neg   48  775   70\n",
       "neu  123  874  458"
      ]
     },
     "metadata": {},
     "output_type": "display_data"
    }
   ],
   "source": [
    "#cms\n",
    "def g(col1, col2, cm):\n",
    "    if col1 == \"positive\" and col2 == \"positive\":\n",
    "        cm.at['pos', 'pos'] += 1\n",
    "    elif col1 == \"positive\" and col2 == \"negative\":\n",
    "        cm.at['pos','neg'] +=1\n",
    "    elif col1 == \"positive\" and col2 == \"neutral\":\n",
    "        cm.at['pos','neu'] +=1\n",
    "    elif col1 == \"negative\" and col2 == \"positive\":\n",
    "        cm.at['neg','pos'] +=1\n",
    "    elif col1 == \"negative\" and col2 == \"negative\":\n",
    "        cm.at['neg','neg'] +=1   \n",
    "    elif col1 == \"negative\" and col2 == \"neutral\":\n",
    "        cm.at['neg','neu'] +=1   \n",
    "    elif col1 == \"neutral\" and col2 == \"positive\":\n",
    "        cm.at['neu','pos'] +=1\n",
    "    elif col1 == \"neutral\" and col2 == \"negative\":\n",
    "        cm.at['neu','neg'] +=1\n",
    "    elif col1 == \"neutral\" and col2 == \"neutral\":\n",
    "        cm.at['neu','neu'] +=1\n",
    "\n",
    "        \n",
    "        \n",
    "    \n",
    "cms = []\n",
    "for i,k in enumerate(ks):\n",
    "     prediction = predictedlabelsForEachK[i]\n",
    "\n",
    "     cm = pd.DataFrame(index=['pos','neg','neu'], columns=['pos','neg','neu'])\n",
    "     cm = cm.fillna(0)\n",
    "     \n",
    "    \n",
    "        \n",
    "     \n",
    "     prediction.apply(lambda x: g(x['Predicted Sentiment'], x['Actual Sentiment'],cm), axis=1) \n",
    "     \n",
    "     display(cm)\n",
    "     cms.append(cm)\n"
   ]
  },
  {
   "cell_type": "code",
   "execution_count": 14,
   "metadata": {},
   "outputs": [
    {
     "data": {
      "text/plain": [
       "[0.5323519342690859,\n",
       " 0.5409106470386854,\n",
       " 0.546388223211229,\n",
       " 0.5381718589524136,\n",
       " 0.5251626155426223]"
      ]
     },
     "metadata": {},
     "output_type": "display_data"
    },
    {
     "data": {
      "text/plain": [
       "[0.5278760977789486,\n",
       " 0.5488854672782386,\n",
       " 0.557334868969526,\n",
       " 0.5628923881334269,\n",
       " 0.5693143948806049]"
      ]
     },
     "metadata": {},
     "output_type": "display_data"
    },
    {
     "data": {
      "text/plain": [
       "[0.5454185888133579,\n",
       " 0.572413743142847,\n",
       " 0.5884015067716616,\n",
       " 0.5983540854298438,\n",
       " 0.6016669737192538]"
      ]
     },
     "metadata": {},
     "output_type": "display_data"
    },
    {
     "data": {
      "text/plain": [
       "[0.5043962741080262,\n",
       " 0.525471840854192,\n",
       " 0.5369069137113694,\n",
       " 0.5348317580147713,\n",
       " 0.5289929348897259]"
      ]
     },
     "metadata": {},
     "output_type": "display_data"
    }
   ],
   "source": [
    "#precisions, recalls and f1s\n",
    "classes = ['pos','neg','neu']\n",
    "precisions = []\n",
    "recalls = []\n",
    "f1s = []\n",
    "ks = [1,3,5,7,10]\n",
    "for cm in cms:\n",
    "    \n",
    "    tp = 0\n",
    "    tn = 0\n",
    "    fp = 0\n",
    "    fn = 0\n",
    "    precision = 0\n",
    "    recall = 0\n",
    "    f1 = 0\n",
    "    for c in classes:\n",
    "        if c == 'pos':\n",
    "            tp = cm.at['pos','pos']\n",
    "            tn = cm.at['neg','neg'] + cm.at['neg','neu'] + cm.at['neu','neg'] + cm.at['neu','neu']\n",
    "            fp = cm.at['pos','neg'] + cm.at['pos','neu']\n",
    "            fn = cm.at['neg','pos'] + cm.at['neu','pos']\n",
    "            precision += tp / (tp + fp)\n",
    "            recall += tp / (tp + fn)\n",
    "            f1 += (2*tp) / ((2*tp) + fp + fn)\n",
    "        elif c == 'neg':\n",
    "            tp = cm.at['neg','neg']\n",
    "            tn = cm.at['pos','pos'] + cm.at['pos','neu'] + cm.at['neu','pos'] + cm.at['neu','neu']\n",
    "            fp = cm.at['neg','pos'] + cm.at['neg','neu']\n",
    "            fn = cm.at['pos','neg'] + cm.at['neu','neg']\n",
    "            precision += tp / (tp + fp)\n",
    "            recall += tp / (tp + fn)\n",
    "            f1 += (2*tp) / ((2*tp) + fp + fn)\n",
    "            \n",
    "        elif c == 'neu':\n",
    "            tp = cm.at['neu','neu']\n",
    "            tn = cm.at['pos','pos'] + cm.at['pos','neg'] + cm.at['neg','pos'] + cm.at['neg','neg']\n",
    "            fp = cm.at['neu','neg'] + cm.at['neu','pos']\n",
    "            fn = cm.at['pos','neu'] + cm.at['neg','neu']\n",
    "            precision += tp / (tp + fp)\n",
    "            recall += tp / (tp + fn)\n",
    "            f1 += (2*tp) / ((2*tp) + fp + fn)\n",
    "            \n",
    "    precision = precision / 3\n",
    "    recall = recall / 3\n",
    "    f1 = f1 / 3\n",
    "    precisions.append(precision)\n",
    "    recalls.append(recall)\n",
    "\n",
    "    f1s.append(f1)\n",
    "\n",
    "\n",
    "display(accuracies)\n",
    "display(precisions)\n",
    "display(recalls)\n",
    "display(f1s)\n",
    "        "
   ]
  },
  {
   "cell_type": "code",
   "execution_count": 15,
   "metadata": {},
   "outputs": [
    {
     "data": {
      "text/plain": [
       "Text(0.5, 1.0, 'k against Accuracy')"
      ]
     },
     "execution_count": 15,
     "metadata": {},
     "output_type": "execute_result"
    },
    {
     "data": {
      "image/png": "[encoded data removed]",
      "text/plain": [
       "<Figure size 432x288 with 1 Axes>"
      ]
     },
     "metadata": {
      "needs_background": "light"
     },
     "output_type": "display_data"
    }
   ],
   "source": [
    "#k vs accuracy\n",
    "plt.plot(ks, accuracies)\n",
    "plt.xlabel('k')\n",
    "plt.ylabel('Accuracy')\n",
    "plt.title('k against Accuracy')"
   ]
  },
  {
   "cell_type": "code",
   "execution_count": 16,
   "metadata": {},
   "outputs": [
    {
     "data": {
      "text/plain": [
       "Text(0.5, 1.0, 'k against Precision')"
      ]
     },
     "execution_count": 16,
     "metadata": {},
     "output_type": "execute_result"
    },
    {
     "data": {
      "image/png": "[encoded data removed]",
      "text/plain": [
       "<Figure size 432x288 with 1 Axes>"
      ]
     },
     "metadata": {
      "needs_background": "light"
     },
     "output_type": "display_data"
    }
   ],
   "source": [
    "#k vs precision\n",
    "plt.plot(ks, precisions)\n",
    "plt.xlabel('k')\n",
    "plt.ylabel('Precision')\n",
    "plt.title('k against Precision')"
   ]
  },
  {
   "cell_type": "code",
   "execution_count": 17,
   "metadata": {},
   "outputs": [
    {
     "data": {
      "text/plain": [
       "Text(0.5, 1.0, 'k against Recall')"
      ]
     },
     "execution_count": 17,
     "metadata": {},
     "output_type": "execute_result"
    },
    {
     "data": {
      "image/png": "[encoded data removed]",
      "text/plain": [
       "<Figure size 432x288 with 1 Axes>"
      ]
     },
     "metadata": {
      "needs_background": "light"
     },
     "output_type": "display_data"
    }
   ],
   "source": [
    "#k vs recall\n",
    "plt.plot(ks, recalls)\n",
    "plt.xlabel('k')\n",
    "plt.ylabel('Recall')\n",
    "plt.title('k against Recall')"
   ]
  },
  {
   "cell_type": "code",
   "execution_count": 18,
   "metadata": {},
   "outputs": [
    {
     "data": {
      "text/plain": [
       "Text(0.5, 1.0, 'k against F1')"
      ]
     },
     "execution_count": 18,
     "metadata": {},
     "output_type": "execute_result"
    },
    {
     "data": {
      "image/png": "[encoded data removed]",
      "text/plain": [
       "<Figure size 432x288 with 1 Axes>"
      ]
     },
     "metadata": {
      "needs_background": "light"
     },
     "output_type": "display_data"
    }
   ],
   "source": [
    "#k vs f1\n",
    "plt.plot(ks, f1s)\n",
    "plt.xlabel('k')\n",
    "plt.ylabel('F1')\n",
    "plt.title('k against F1')"
   ]
  },
  {
   "cell_type": "code",
   "execution_count": 19,
   "metadata": {},
   "outputs": [
    {
     "data": {
      "text/plain": [
       "[array([[255,  72, 145],\n",
       "        [206, 940, 688],\n",
       "        [ 82, 135, 398]]),\n",
       " array([[261,  77, 134],\n",
       "        [142, 988, 704],\n",
       "        [ 72, 155, 388]]),\n",
       " array([[273,  71, 128],\n",
       "        [149, 951, 734],\n",
       "        [ 77, 135, 403]]),\n",
       " array([[287,  58, 127],\n",
       "        [162, 890, 782],\n",
       "        [ 87, 101, 427]]),\n",
       " array([[277,  59, 136],\n",
       "        [175, 832, 827],\n",
       "        [100,  75, 440]])]"
      ]
     },
     "metadata": {},
     "output_type": "display_data"
    },
    {
     "data": {
      "text/plain": [
       "[0.5453611776788772,\n",
       " 0.5604245121533721,\n",
       " 0.5570010270455323,\n",
       " 0.5491270112975009,\n",
       " 0.5302978432043821]"
      ]
     },
     "metadata": {},
     "output_type": "display_data"
    },
    {
     "data": {
      "text/plain": [
       "[0.5374856149495034,\n",
       " 0.5585953652081425,\n",
       " 0.5625415303489576,\n",
       " 0.5678285376801283,\n",
       " 0.5589029743520122]"
      ]
     },
     "metadata": {},
     "output_type": "display_data"
    },
    {
     "data": {
      "text/plain": [
       "[0.5666498676843782,\n",
       " 0.5741912019465831,\n",
       " 0.5840710321830683,\n",
       " 0.5958792904149953,\n",
       " 0.5853215927544005]"
      ]
     },
     "metadata": {},
     "output_type": "display_data"
    },
    {
     "data": {
      "text/plain": [
       "[0.5214421688223143,\n",
       " 0.5399149037570626,\n",
       " 0.5423126758426048,\n",
       " 0.5415270353474754,\n",
       " 0.5237922204622681]"
      ]
     },
     "metadata": {},
     "output_type": "display_data"
    }
   ],
   "source": [
    "#Part 2\n",
    "from sklearn.neighbors import KNeighborsClassifier\n",
    "from sklearn.metrics import accuracy_score\n",
    "from sklearn.metrics import classification_report\n",
    "from sklearn.metrics import confusion_matrix\n",
    "target_names = ['positive', 'negative', 'neutral']\n",
    "accuracies = []\n",
    "precisions = []\n",
    "recalls = []\n",
    "f1s = []\n",
    "cms = []\n",
    "ks = [1,3,5,7,10]\n",
    "\n",
    "for k in ks:\n",
    "\n",
    "    TrainFeatures = BOWTrain.drop(['Tweet', 'Sentiment'], 1)\n",
    "    TrainFeatures = TrainFeatures.values.tolist()\n",
    "    TrainLabels = BOWTrain['Sentiment'].tolist()\n",
    "\n",
    "    TestFeatures = BOWTest.drop(['Tweet', 'Sentiment'], 1)\n",
    "    TestFeatures = TestFeatures.values.tolist()\n",
    "\n",
    "    TrueLabels = BOWTest['Sentiment'].tolist()\n",
    "\n",
    "    neigh = KNeighborsClassifier(n_neighbors=k)\n",
    "    neigh.fit(TrainFeatures, TrainLabels)\n",
    "\n",
    "    predicted_labels = neigh.predict(TestFeatures)\n",
    "    accuracy = accuracy_score(TrueLabels, predicted_labels)\n",
    "    accuracies.append(accuracy)\n",
    "    \n",
    "    report_dict = classification_report(TrueLabels, predicted_labels, target_names=target_names, output_dict=True)\n",
    "    precision = report_dict['macro avg']['precision']\n",
    "    precisions.append(precision)\n",
    "    recall = report_dict['macro avg']['recall']\n",
    "    recalls.append(recall)\n",
    "    f1 = report_dict['macro avg']['f1-score']\n",
    "    f1s.append(f1)\n",
    "    \n",
    "    cm = confusion_matrix(TrueLabels, predicted_labels, labels=[\"positive\", \"negative\", \"neutral\"])\n",
    "    cms.append(cm)\n",
    "\n",
    "display(cms)\n",
    "display(accuracies)\n",
    "display(precisions)\n",
    "display(recalls)\n",
    "display(f1s)\n"
   ]
  },
  {
   "cell_type": "code",
   "execution_count": 20,
   "metadata": {},
   "outputs": [
    {
     "data": {
      "text/plain": [
       "Text(0.5, 1.0, 'k against Accuracy')"
      ]
     },
     "execution_count": 20,
     "metadata": {},
     "output_type": "execute_result"
    },
    {
     "data": {
      "image/png": "[encoded data removed]",
      "text/plain": [
       "<Figure size 432x288 with 1 Axes>"
      ]
     },
     "metadata": {
      "needs_background": "light"
     },
     "output_type": "display_data"
    }
   ],
   "source": [
    "#k vs accuracy\n",
    "plt.plot(ks, accuracies)\n",
    "plt.xlabel('k')\n",
    "plt.ylabel('Accuracy')\n",
    "plt.title('k against Accuracy')\n",
    "\n",
    "\n"
   ]
  },
  {
   "cell_type": "code",
   "execution_count": 21,
   "metadata": {},
   "outputs": [
    {
     "data": {
      "text/plain": [
       "Text(0.5, 1.0, 'k against Precision')"
      ]
     },
     "execution_count": 21,
     "metadata": {},
     "output_type": "execute_result"
    },
    {
     "data": {
      "image/png": "[encoded data removed]",
      "text/plain": [
       "<Figure size 432x288 with 1 Axes>"
      ]
     },
     "metadata": {
      "needs_background": "light"
     },
     "output_type": "display_data"
    }
   ],
   "source": [
    "#k vs precision\n",
    "plt.plot(ks, precisions)\n",
    "plt.xlabel('k')\n",
    "plt.ylabel('Precision')\n",
    "plt.title('k against Precision')"
   ]
  },
  {
   "cell_type": "code",
   "execution_count": 22,
   "metadata": {},
   "outputs": [
    {
     "data": {
      "text/plain": [
       "Text(0.5, 1.0, 'k against Recall')"
      ]
     },
     "execution_count": 22,
     "metadata": {},
     "output_type": "execute_result"
    },
    {
     "data": {
      "image/png": "[encoded data removed]",
      "text/plain": [
       "<Figure size 432x288 with 1 Axes>"
      ]
     },
     "metadata": {
      "needs_background": "light"
     },
     "output_type": "display_data"
    }
   ],
   "source": [
    "#k vs recall\n",
    "plt.plot(ks, recalls)\n",
    "plt.xlabel('k')\n",
    "plt.ylabel('Recall')\n",
    "plt.title('k against Recall')"
   ]
  },
  {
   "cell_type": "code",
   "execution_count": 23,
   "metadata": {},
   "outputs": [
    {
     "data": {
      "text/plain": [
       "Text(0.5, 1.0, 'k against F1')"
      ]
     },
     "execution_count": 23,
     "metadata": {},
     "output_type": "execute_result"
    },
    {
     "data": {
      "image/png": "[encoded data removed]",
      "text/plain": [
       "<Figure size 432x288 with 1 Axes>"
      ]
     },
     "metadata": {
      "needs_background": "light"
     },
     "output_type": "display_data"
    }
   ],
   "source": [
    "#k vs f1\n",
    "plt.plot(ks, f1s)\n",
    "plt.xlabel('k')\n",
    "plt.ylabel('F1')\n",
    "plt.title('k against F1')"
   ]
  },
  {
   "cell_type": "code",
   "execution_count": 24,
   "metadata": {},
   "outputs": [],
   "source": [
    "#Part 3\n",
    "from gensim.models import KeyedVectors\n",
    "import numpy as np\n",
    "\n",
    "# def extract_features(text):\n",
    "#   words = [word for word in text.split() if word in word2vec.vocab]\n",
    "#   return np.mean(word2vec[words], axis=0)\n",
    "\n",
    "def extract_features(text):\n",
    "  words = [word for word in text.split() if word in word2vec.vocab]\n",
    "  if len(words) > 0:\n",
    "    return np.mean(word2vec[words], axis=0)\n",
    "  else:\n",
    "    return np.zeros(300)\n",
    "\n",
    "word2vec = KeyedVectors.load_word2vec_format(\"GoogleNews-vectors-negative300.bin.gz\", binary=True)\n",
    "\n",
    "\n",
    "\n"
   ]
  },
  {
   "cell_type": "code",
   "execution_count": 25,
   "metadata": {},
   "outputs": [
    {
     "data": {
      "text/html": [
       "<div>\n",
       "<style scoped>\n",
       "    .dataframe tbody tr th:only-of-type {\n",
       "        vertical-align: middle;\n",
       "    }\n",
       "\n",
       "    .dataframe tbody tr th {\n",
       "        vertical-align: top;\n",
       "    }\n",
       "\n",
       "    .dataframe thead th {\n",
       "        text-align: right;\n",
       "    }\n",
       "</style>\n",
       "<table border=\"1\" class=\"dataframe\">\n",
       "  <thead>\n",
       "    <tr style=\"text-align: right;\">\n",
       "      <th></th>\n",
       "      <th>Tweet</th>\n",
       "      <th>Features</th>\n",
       "      <th>Sentiment</th>\n",
       "    </tr>\n",
       "  </thead>\n",
       "  <tbody>\n",
       "    <tr>\n",
       "      <th>0</th>\n",
       "      <td>T0</td>\n",
       "      <td>[-0.07861328, -0.08642578, 0.06201172, 0.35156...</td>\n",
       "      <td>neutral</td>\n",
       "    </tr>\n",
       "    <tr>\n",
       "      <th>1</th>\n",
       "      <td>T1</td>\n",
       "      <td>[-0.0054117837, 0.028528214, -0.032633465, 0.1...</td>\n",
       "      <td>negative</td>\n",
       "    </tr>\n",
       "    <tr>\n",
       "      <th>2</th>\n",
       "      <td>T2</td>\n",
       "      <td>[0.0050723427, 0.037973102, -0.004034745, 0.01...</td>\n",
       "      <td>positive</td>\n",
       "    </tr>\n",
       "    <tr>\n",
       "      <th>3</th>\n",
       "      <td>T3</td>\n",
       "      <td>[0.07572937, -0.060114544, 0.0022684734, 0.022...</td>\n",
       "      <td>negative</td>\n",
       "    </tr>\n",
       "    <tr>\n",
       "      <th>4</th>\n",
       "      <td>T4</td>\n",
       "      <td>[0.04239909, -0.030232748, 0.063201904, 0.1782...</td>\n",
       "      <td>negative</td>\n",
       "    </tr>\n",
       "    <tr>\n",
       "      <th>...</th>\n",
       "      <td>...</td>\n",
       "      <td>...</td>\n",
       "      <td>...</td>\n",
       "    </tr>\n",
       "    <tr>\n",
       "      <th>11675</th>\n",
       "      <td>T11675</td>\n",
       "      <td>[0.056940254, 0.069446914, 0.101402976, -0.058...</td>\n",
       "      <td>negative</td>\n",
       "    </tr>\n",
       "    <tr>\n",
       "      <th>11676</th>\n",
       "      <td>T11676</td>\n",
       "      <td>[-0.0014038086, 0.026733398, 0.106544495, 0.01...</td>\n",
       "      <td>negative</td>\n",
       "    </tr>\n",
       "    <tr>\n",
       "      <th>11677</th>\n",
       "      <td>T11677</td>\n",
       "      <td>[0.004248047, 0.068408206, 0.04409485, 0.17875...</td>\n",
       "      <td>neutral</td>\n",
       "    </tr>\n",
       "    <tr>\n",
       "      <th>11678</th>\n",
       "      <td>T11678</td>\n",
       "      <td>[0.036038913, 0.039963942, 0.009145884, 0.1041...</td>\n",
       "      <td>negative</td>\n",
       "    </tr>\n",
       "    <tr>\n",
       "      <th>11679</th>\n",
       "      <td>T11679</td>\n",
       "      <td>[0.03425293, -0.005102539, 0.0011962891, 0.134...</td>\n",
       "      <td>positive</td>\n",
       "    </tr>\n",
       "  </tbody>\n",
       "</table>\n",
       "<p>11680 rows × 3 columns</p>\n",
       "</div>"
      ],
      "text/plain": [
       "        Tweet                                           Features Sentiment\n",
       "0          T0  [-0.07861328, -0.08642578, 0.06201172, 0.35156...   neutral\n",
       "1          T1  [-0.0054117837, 0.028528214, -0.032633465, 0.1...  negative\n",
       "2          T2  [0.0050723427, 0.037973102, -0.004034745, 0.01...  positive\n",
       "3          T3  [0.07572937, -0.060114544, 0.0022684734, 0.022...  negative\n",
       "4          T4  [0.04239909, -0.030232748, 0.063201904, 0.1782...  negative\n",
       "...       ...                                                ...       ...\n",
       "11675  T11675  [0.056940254, 0.069446914, 0.101402976, -0.058...  negative\n",
       "11676  T11676  [-0.0014038086, 0.026733398, 0.106544495, 0.01...  negative\n",
       "11677  T11677  [0.004248047, 0.068408206, 0.04409485, 0.17875...   neutral\n",
       "11678  T11678  [0.036038913, 0.039963942, 0.009145884, 0.1041...  negative\n",
       "11679  T11679  [0.03425293, -0.005102539, 0.0011962891, 0.134...  positive\n",
       "\n",
       "[11680 rows x 3 columns]"
      ]
     },
     "metadata": {},
     "output_type": "display_data"
    }
   ],
   "source": [
    "#word2vec for train\n",
    "tweets = ['T' + str(i) for i in range(len(train))]\n",
    "\n",
    "w2vTrain = pd.DataFrame(tweets, columns =['Tweet'])\n",
    "\n",
    "w2vTrain['Features'] = train.apply(lambda row: extract_features(row[\"Tweet\"]),axis=1)\n",
    "\n",
    "\n",
    "\n",
    "w2vTrain['Sentiment'] = train['Sentiment']\n",
    "\n",
    "display(w2vTrain)"
   ]
  },
  {
   "cell_type": "code",
   "execution_count": 26,
   "metadata": {},
   "outputs": [
    {
     "data": {
      "text/html": [
       "<div>\n",
       "<style scoped>\n",
       "    .dataframe tbody tr th:only-of-type {\n",
       "        vertical-align: middle;\n",
       "    }\n",
       "\n",
       "    .dataframe tbody tr th {\n",
       "        vertical-align: top;\n",
       "    }\n",
       "\n",
       "    .dataframe thead th {\n",
       "        text-align: right;\n",
       "    }\n",
       "</style>\n",
       "<table border=\"1\" class=\"dataframe\">\n",
       "  <thead>\n",
       "    <tr style=\"text-align: right;\">\n",
       "      <th></th>\n",
       "      <th>Tweet</th>\n",
       "      <th>Features</th>\n",
       "      <th>Sentiment</th>\n",
       "    </tr>\n",
       "  </thead>\n",
       "  <tbody>\n",
       "    <tr>\n",
       "      <th>0</th>\n",
       "      <td>T0</td>\n",
       "      <td>[-0.11625977, -0.047851562, -0.07460938, 0.077...</td>\n",
       "      <td>neutral</td>\n",
       "    </tr>\n",
       "    <tr>\n",
       "      <th>1</th>\n",
       "      <td>T1</td>\n",
       "      <td>[-0.01133728, 0.011459351, 0.006072998, 0.1003...</td>\n",
       "      <td>positive</td>\n",
       "    </tr>\n",
       "    <tr>\n",
       "      <th>2</th>\n",
       "      <td>T2</td>\n",
       "      <td>[-0.0491333, -0.01689453, -0.105322264, 0.1439...</td>\n",
       "      <td>negative</td>\n",
       "    </tr>\n",
       "    <tr>\n",
       "      <th>3</th>\n",
       "      <td>T3</td>\n",
       "      <td>[0.057988092, 0.0045447717, -0.053264912, 0.08...</td>\n",
       "      <td>negative</td>\n",
       "    </tr>\n",
       "    <tr>\n",
       "      <th>4</th>\n",
       "      <td>T4</td>\n",
       "      <td>[0.06750488, 0.13303375, 0.004333496, 0.142150...</td>\n",
       "      <td>negative</td>\n",
       "    </tr>\n",
       "    <tr>\n",
       "      <th>...</th>\n",
       "      <td>...</td>\n",
       "      <td>...</td>\n",
       "      <td>...</td>\n",
       "    </tr>\n",
       "    <tr>\n",
       "      <th>2916</th>\n",
       "      <td>T2916</td>\n",
       "      <td>[0.00789388, -0.016316732, 0.023885092, 0.0580...</td>\n",
       "      <td>negative</td>\n",
       "    </tr>\n",
       "    <tr>\n",
       "      <th>2917</th>\n",
       "      <td>T2917</td>\n",
       "      <td>[-0.0075683594, 0.033691406, 0.020355225, 0.08...</td>\n",
       "      <td>neutral</td>\n",
       "    </tr>\n",
       "    <tr>\n",
       "      <th>2918</th>\n",
       "      <td>T2918</td>\n",
       "      <td>[-0.12949626, 0.0018717448, 0.015767416, 0.071...</td>\n",
       "      <td>negative</td>\n",
       "    </tr>\n",
       "    <tr>\n",
       "      <th>2919</th>\n",
       "      <td>T2919</td>\n",
       "      <td>[-0.025793457, 0.030930582, -0.0049519856, 0.1...</td>\n",
       "      <td>negative</td>\n",
       "    </tr>\n",
       "    <tr>\n",
       "      <th>2920</th>\n",
       "      <td>T2920</td>\n",
       "      <td>[0.048999023, 0.016210938, 0.040064238, 0.1174...</td>\n",
       "      <td>negative</td>\n",
       "    </tr>\n",
       "  </tbody>\n",
       "</table>\n",
       "<p>2921 rows × 3 columns</p>\n",
       "</div>"
      ],
      "text/plain": [
       "      Tweet                                           Features Sentiment\n",
       "0        T0  [-0.11625977, -0.047851562, -0.07460938, 0.077...   neutral\n",
       "1        T1  [-0.01133728, 0.011459351, 0.006072998, 0.1003...  positive\n",
       "2        T2  [-0.0491333, -0.01689453, -0.105322264, 0.1439...  negative\n",
       "3        T3  [0.057988092, 0.0045447717, -0.053264912, 0.08...  negative\n",
       "4        T4  [0.06750488, 0.13303375, 0.004333496, 0.142150...  negative\n",
       "...     ...                                                ...       ...\n",
       "2916  T2916  [0.00789388, -0.016316732, 0.023885092, 0.0580...  negative\n",
       "2917  T2917  [-0.0075683594, 0.033691406, 0.020355225, 0.08...   neutral\n",
       "2918  T2918  [-0.12949626, 0.0018717448, 0.015767416, 0.071...  negative\n",
       "2919  T2919  [-0.025793457, 0.030930582, -0.0049519856, 0.1...  negative\n",
       "2920  T2920  [0.048999023, 0.016210938, 0.040064238, 0.1174...  negative\n",
       "\n",
       "[2921 rows x 3 columns]"
      ]
     },
     "metadata": {},
     "output_type": "display_data"
    }
   ],
   "source": [
    "#word2vec for test\n",
    "tweets = ['T' + str(i) for i in range(len(test))]\n",
    "\n",
    "w2vTest = pd.DataFrame(tweets, columns =['Tweet'])\n",
    "\n",
    "w2vTest['Features'] = test.apply(lambda row: extract_features(row[\"Tweet\"]),axis=1)\n",
    "\n",
    "\n",
    "\n",
    "w2vTest['Sentiment'] = test['Sentiment']\n",
    "\n",
    "display(w2vTest)"
   ]
  },
  {
   "cell_type": "code",
   "execution_count": 27,
   "metadata": {},
   "outputs": [],
   "source": [
    "#Running Part 1 with word2vec"
   ]
  },
  {
   "cell_type": "code",
   "execution_count": 28,
   "metadata": {},
   "outputs": [],
   "source": [
    "#Calculating euclidean distances\n",
    "TrainFeatures = w2vTrain['Features'].tolist()\n",
    "TestFeatures = w2vTest['Features'].tolist()\n",
    "\n",
    "distances = distance.cdist(TestFeatures,TrainFeatures,'euclidean')\n"
   ]
  },
  {
   "cell_type": "code",
   "execution_count": 43,
   "metadata": {},
   "outputs": [],
   "source": [
    "#Predicting Labels\n",
    "\n",
    "distances = np.array(distances)\n",
    "\n",
    "ks = {1,3,5,7,10}\n",
    "trainlabels = w2vTrain[\"Sentiment\"].tolist()\n",
    "\n",
    "predictedlabelsForEachK = []\n",
    "\n",
    "\n",
    "for k in ks:\n",
    "    predictedlabels = []\n",
    "    for distanceVector in distances:\n",
    "        \n",
    "        label_distances = list(map(lambda x, y:(x,y), trainlabels, distanceVector))\n",
    "\n",
    "        sorted_label_distances = sorted(label_distances, key = lambda x: x[1]) \n",
    "        tempk = k\n",
    "        while tempk >= 1:\n",
    "\n",
    "\n",
    "            nns = sorted_label_distances[:tempk]\n",
    "            counts = Counter(x[0] for x in nns)\n",
    "            c1 = counts['positive']\n",
    "            c2 = counts['negative']\n",
    "            c3 = counts['neutral']\n",
    "\n",
    "\n",
    "            \n",
    "    \n",
    "           \n",
    "                \n",
    "           \n",
    "\n",
    "            if c1 > c2 and c1 > c3:\n",
    "                #c1\n",
    "                predictedlabels.append('positive')\n",
    "                break\n",
    "            elif c2 > c1 and c2 > c3: \n",
    "                #c2\n",
    "                predictedlabels.append('negative')\n",
    "                break\n",
    "\n",
    "            elif c3 > c1 and c3 > c2:   \n",
    "                #c3\n",
    "                predictedlabels.append('neutral')\n",
    "                break\n",
    "            elif c1 == c2 == c3:\n",
    "                tempk-=1\n",
    "\n",
    "            elif c1 == c2 and c1 > c3:\n",
    "                tempk-=1\n",
    "\n",
    "            elif c1 == c3 and c1 > c2:\n",
    "                tempk-=1\n",
    "\n",
    "            elif c2 == c3 and c2 > c1:\n",
    "                tempk-=1\n",
    "                \n",
    "           \n",
    "\n",
    "    \n",
    "        \n",
    "\n",
    "\n",
    "    prediction = pd.DataFrame({'Predicted Sentiment':predictedlabels})\n",
    "    prediction[\"Actual Sentiment\"] = test[\"Sentiment\"]\n",
    "\n",
    "    \n",
    "    predictedlabelsForEachK.append(prediction)\n",
    "    \n"
   ]
  },
  {
   "cell_type": "code",
   "execution_count": 44,
   "metadata": {},
   "outputs": [
    {
     "data": {
      "text/plain": [
       "[0.7038685381718589,\n",
       " 0.7226977062649778,\n",
       " 0.735022252653201,\n",
       " 0.7411845258473125,\n",
       " 0.7357069496747689]"
      ]
     },
     "metadata": {},
     "output_type": "display_data"
    }
   ],
   "source": [
    "#accuracies\n",
    "\n",
    "def f(col1, col2):\n",
    "    if col1 == col2:\n",
    "        return 1\n",
    "    else:\n",
    "        return 0\n",
    "\n",
    "accuracies = []\n",
    "for i,k in enumerate(ks):\n",
    "    prediction = predictedlabelsForEachK[i]\n",
    "\n",
    "\n",
    "    temp = prediction\n",
    "\n",
    "    temp[\"Count\"] = temp.apply(lambda x: f(x['Predicted Sentiment'], x['Actual Sentiment']), axis=1)\n",
    "\n",
    "\n",
    "    matches = temp[\"Count\"].sum()\n",
    "    samples = prediction.shape[0]\n",
    "\n",
    "    accuracy = matches / samples\n",
    "    \n",
    "    accuracies.append(accuracy)\n",
    "\n",
    "display(accuracies)"
   ]
  },
  {
   "cell_type": "code",
   "execution_count": 45,
   "metadata": {},
   "outputs": [
    {
     "data": {
      "text/html": [
       "<div>\n",
       "<style scoped>\n",
       "    .dataframe tbody tr th:only-of-type {\n",
       "        vertical-align: middle;\n",
       "    }\n",
       "\n",
       "    .dataframe tbody tr th {\n",
       "        vertical-align: top;\n",
       "    }\n",
       "\n",
       "    .dataframe thead th {\n",
       "        text-align: right;\n",
       "    }\n",
       "</style>\n",
       "<table border=\"1\" class=\"dataframe\">\n",
       "  <thead>\n",
       "    <tr style=\"text-align: right;\">\n",
       "      <th></th>\n",
       "      <th>pos</th>\n",
       "      <th>neg</th>\n",
       "      <th>neu</th>\n",
       "    </tr>\n",
       "  </thead>\n",
       "  <tbody>\n",
       "    <tr>\n",
       "      <th>pos</th>\n",
       "      <td>245</td>\n",
       "      <td>116</td>\n",
       "      <td>77</td>\n",
       "    </tr>\n",
       "    <tr>\n",
       "      <th>neg</th>\n",
       "      <td>158</td>\n",
       "      <td>1555</td>\n",
       "      <td>282</td>\n",
       "    </tr>\n",
       "    <tr>\n",
       "      <th>neu</th>\n",
       "      <td>69</td>\n",
       "      <td>163</td>\n",
       "      <td>256</td>\n",
       "    </tr>\n",
       "  </tbody>\n",
       "</table>\n",
       "</div>"
      ],
      "text/plain": [
       "     pos   neg  neu\n",
       "pos  245   116   77\n",
       "neg  158  1555  282\n",
       "neu   69   163  256"
      ]
     },
     "metadata": {},
     "output_type": "display_data"
    },
    {
     "data": {
      "text/html": [
       "<div>\n",
       "<style scoped>\n",
       "    .dataframe tbody tr th:only-of-type {\n",
       "        vertical-align: middle;\n",
       "    }\n",
       "\n",
       "    .dataframe tbody tr th {\n",
       "        vertical-align: top;\n",
       "    }\n",
       "\n",
       "    .dataframe thead th {\n",
       "        text-align: right;\n",
       "    }\n",
       "</style>\n",
       "<table border=\"1\" class=\"dataframe\">\n",
       "  <thead>\n",
       "    <tr style=\"text-align: right;\">\n",
       "      <th></th>\n",
       "      <th>pos</th>\n",
       "      <th>neg</th>\n",
       "      <th>neu</th>\n",
       "    </tr>\n",
       "  </thead>\n",
       "  <tbody>\n",
       "    <tr>\n",
       "      <th>pos</th>\n",
       "      <td>243</td>\n",
       "      <td>61</td>\n",
       "      <td>69</td>\n",
       "    </tr>\n",
       "    <tr>\n",
       "      <th>neg</th>\n",
       "      <td>180</td>\n",
       "      <td>1682</td>\n",
       "      <td>360</td>\n",
       "    </tr>\n",
       "    <tr>\n",
       "      <th>neu</th>\n",
       "      <td>49</td>\n",
       "      <td>91</td>\n",
       "      <td>186</td>\n",
       "    </tr>\n",
       "  </tbody>\n",
       "</table>\n",
       "</div>"
      ],
      "text/plain": [
       "     pos   neg  neu\n",
       "pos  243    61   69\n",
       "neg  180  1682  360\n",
       "neu   49    91  186"
      ]
     },
     "metadata": {},
     "output_type": "display_data"
    },
    {
     "data": {
      "text/html": [
       "<div>\n",
       "<style scoped>\n",
       "    .dataframe tbody tr th:only-of-type {\n",
       "        vertical-align: middle;\n",
       "    }\n",
       "\n",
       "    .dataframe tbody tr th {\n",
       "        vertical-align: top;\n",
       "    }\n",
       "\n",
       "    .dataframe thead th {\n",
       "        text-align: right;\n",
       "    }\n",
       "</style>\n",
       "<table border=\"1\" class=\"dataframe\">\n",
       "  <thead>\n",
       "    <tr style=\"text-align: right;\">\n",
       "      <th></th>\n",
       "      <th>pos</th>\n",
       "      <th>neg</th>\n",
       "      <th>neu</th>\n",
       "    </tr>\n",
       "  </thead>\n",
       "  <tbody>\n",
       "    <tr>\n",
       "      <th>pos</th>\n",
       "      <td>247</td>\n",
       "      <td>35</td>\n",
       "      <td>63</td>\n",
       "    </tr>\n",
       "    <tr>\n",
       "      <th>neg</th>\n",
       "      <td>189</td>\n",
       "      <td>1742</td>\n",
       "      <td>394</td>\n",
       "    </tr>\n",
       "    <tr>\n",
       "      <th>neu</th>\n",
       "      <td>36</td>\n",
       "      <td>57</td>\n",
       "      <td>158</td>\n",
       "    </tr>\n",
       "  </tbody>\n",
       "</table>\n",
       "</div>"
      ],
      "text/plain": [
       "     pos   neg  neu\n",
       "pos  247    35   63\n",
       "neg  189  1742  394\n",
       "neu   36    57  158"
      ]
     },
     "metadata": {},
     "output_type": "display_data"
    },
    {
     "data": {
      "text/html": [
       "<div>\n",
       "<style scoped>\n",
       "    .dataframe tbody tr th:only-of-type {\n",
       "        vertical-align: middle;\n",
       "    }\n",
       "\n",
       "    .dataframe tbody tr th {\n",
       "        vertical-align: top;\n",
       "    }\n",
       "\n",
       "    .dataframe thead th {\n",
       "        text-align: right;\n",
       "    }\n",
       "</style>\n",
       "<table border=\"1\" class=\"dataframe\">\n",
       "  <thead>\n",
       "    <tr style=\"text-align: right;\">\n",
       "      <th></th>\n",
       "      <th>pos</th>\n",
       "      <th>neg</th>\n",
       "      <th>neu</th>\n",
       "    </tr>\n",
       "  </thead>\n",
       "  <tbody>\n",
       "    <tr>\n",
       "      <th>pos</th>\n",
       "      <td>243</td>\n",
       "      <td>23</td>\n",
       "      <td>47</td>\n",
       "    </tr>\n",
       "    <tr>\n",
       "      <th>neg</th>\n",
       "      <td>204</td>\n",
       "      <td>1770</td>\n",
       "      <td>416</td>\n",
       "    </tr>\n",
       "    <tr>\n",
       "      <th>neu</th>\n",
       "      <td>25</td>\n",
       "      <td>41</td>\n",
       "      <td>152</td>\n",
       "    </tr>\n",
       "  </tbody>\n",
       "</table>\n",
       "</div>"
      ],
      "text/plain": [
       "     pos   neg  neu\n",
       "pos  243    23   47\n",
       "neg  204  1770  416\n",
       "neu   25    41  152"
      ]
     },
     "metadata": {},
     "output_type": "display_data"
    },
    {
     "data": {
      "text/html": [
       "<div>\n",
       "<style scoped>\n",
       "    .dataframe tbody tr th:only-of-type {\n",
       "        vertical-align: middle;\n",
       "    }\n",
       "\n",
       "    .dataframe tbody tr th {\n",
       "        vertical-align: top;\n",
       "    }\n",
       "\n",
       "    .dataframe thead th {\n",
       "        text-align: right;\n",
       "    }\n",
       "</style>\n",
       "<table border=\"1\" class=\"dataframe\">\n",
       "  <thead>\n",
       "    <tr style=\"text-align: right;\">\n",
       "      <th></th>\n",
       "      <th>pos</th>\n",
       "      <th>neg</th>\n",
       "      <th>neu</th>\n",
       "    </tr>\n",
       "  </thead>\n",
       "  <tbody>\n",
       "    <tr>\n",
       "      <th>pos</th>\n",
       "      <td>229</td>\n",
       "      <td>13</td>\n",
       "      <td>48</td>\n",
       "    </tr>\n",
       "    <tr>\n",
       "      <th>neg</th>\n",
       "      <td>220</td>\n",
       "      <td>1791</td>\n",
       "      <td>438</td>\n",
       "    </tr>\n",
       "    <tr>\n",
       "      <th>neu</th>\n",
       "      <td>23</td>\n",
       "      <td>30</td>\n",
       "      <td>129</td>\n",
       "    </tr>\n",
       "  </tbody>\n",
       "</table>\n",
       "</div>"
      ],
      "text/plain": [
       "     pos   neg  neu\n",
       "pos  229    13   48\n",
       "neg  220  1791  438\n",
       "neu   23    30  129"
      ]
     },
     "metadata": {},
     "output_type": "display_data"
    }
   ],
   "source": [
    "#cms\n",
    "def g(col1, col2, cm):\n",
    "    if col1 == \"positive\" and col2 == \"positive\":\n",
    "        cm.at['pos', 'pos'] += 1\n",
    "    elif col1 == \"positive\" and col2 == \"negative\":\n",
    "        cm.at['pos','neg'] +=1\n",
    "    elif col1 == \"positive\" and col2 == \"neutral\":\n",
    "        cm.at['pos','neu'] +=1\n",
    "    elif col1 == \"negative\" and col2 == \"positive\":\n",
    "        cm.at['neg','pos'] +=1\n",
    "    elif col1 == \"negative\" and col2 == \"negative\":\n",
    "        cm.at['neg','neg'] +=1   \n",
    "    elif col1 == \"negative\" and col2 == \"neutral\":\n",
    "        cm.at['neg','neu'] +=1   \n",
    "    elif col1 == \"neutral\" and col2 == \"positive\":\n",
    "        cm.at['neu','pos'] +=1\n",
    "    elif col1 == \"neutral\" and col2 == \"negative\":\n",
    "        cm.at['neu','neg'] +=1\n",
    "    elif col1 == \"neutral\" and col2 == \"neutral\":\n",
    "        cm.at['neu','neu'] +=1\n",
    "\n",
    "        \n",
    "        \n",
    "    \n",
    "cms = []\n",
    "for i,k in enumerate(ks):\n",
    "     prediction = predictedlabelsForEachK[i]\n",
    "\n",
    "     cm = pd.DataFrame(index=['pos','neg','neu'], columns=['pos','neg','neu'])\n",
    "     cm = cm.fillna(0)\n",
    "     \n",
    "    \n",
    "        \n",
    "     \n",
    "     prediction.apply(lambda x: g(x['Predicted Sentiment'], x['Actual Sentiment'],cm), axis=1) \n",
    "     \n",
    "     display(cm)\n",
    "     cms.append(cm)\n"
   ]
  },
  {
   "cell_type": "code",
   "execution_count": 46,
   "metadata": {},
   "outputs": [
    {
     "data": {
      "text/plain": [
       "[0.7038685381718589,\n",
       " 0.7226977062649778,\n",
       " 0.735022252653201,\n",
       " 0.7411845258473125,\n",
       " 0.7357069496747689]"
      ]
     },
     "metadata": {},
     "output_type": "display_data"
    },
    {
     "data": {
      "text/plain": [
       "[0.6211331720273061,\n",
       " 0.6596674585467067,\n",
       " 0.6982238041755372,\n",
       " 0.738063769318878,\n",
       " 0.7432550956269294]"
      ]
     },
     "metadata": {},
     "output_type": "display_data"
    },
    {
     "data": {
      "text/plain": [
       "[0.5944004865856839,\n",
       " 0.5781301932522865,\n",
       " 0.5766840256567732,\n",
       " 0.5756961929035588,\n",
       " 0.5571598564857245]"
      ]
     },
     "metadata": {},
     "output_type": "display_data"
    },
    {
     "data": {
      "text/plain": [
       "[0.6049575424920378,\n",
       " 0.5999535374749959,\n",
       " 0.6024162024051534,\n",
       " 0.6073741468214385,\n",
       " 0.5870311571515437]"
      ]
     },
     "metadata": {},
     "output_type": "display_data"
    }
   ],
   "source": [
    "#precisions, recalls and f1s\n",
    "classes = ['pos','neg','neu']\n",
    "precisions = []\n",
    "recalls = []\n",
    "f1s = []\n",
    "ks = [1,3,5,7,10]\n",
    "for cm in cms:\n",
    "    \n",
    "    tp = 0\n",
    "    tn = 0\n",
    "    fp = 0\n",
    "    fn = 0\n",
    "    precision = 0\n",
    "    recall = 0\n",
    "    f1 = 0\n",
    "    for c in classes:\n",
    "        if c == 'pos':\n",
    "            tp = cm.at['pos','pos']\n",
    "            tn = cm.at['neg','neg'] + cm.at['neg','neu'] + cm.at['neu','neg'] + cm.at['neu','neu']\n",
    "            fp = cm.at['pos','neg'] + cm.at['pos','neu']\n",
    "            fn = cm.at['neg','pos'] + cm.at['neu','pos']\n",
    "            precision += tp / (tp + fp)\n",
    "            recall += tp / (tp + fn)\n",
    "            f1 += (2*tp) / (2*tp + fp + fn)\n",
    "        elif c == 'neg':\n",
    "            tp = cm.at['neg','neg']\n",
    "            tn = cm.at['pos','pos'] + cm.at['pos','neu'] + cm.at['neu','pos'] + cm.at['neu','neu']\n",
    "            fp = cm.at['neg','pos'] + cm.at['neg','neu']\n",
    "            fn = cm.at['pos','neg'] + cm.at['neu','neg']\n",
    "            precision += tp / (tp + fp)\n",
    "            recall += tp / (tp + fn)\n",
    "            f1 += (2*tp) / (2*tp + fp + fn)\n",
    "            \n",
    "        elif c == 'neu':\n",
    "            tp = cm.at['neu','neu']\n",
    "            tn = cm.at['pos','pos'] + cm.at['pos','neg'] + cm.at['neg','pos'] + cm.at['neg','neg']\n",
    "            fp = cm.at['neu','neg'] + cm.at['neu','pos']\n",
    "            fn = cm.at['pos','neu'] + cm.at['neg','neu']\n",
    "            precision += tp / (tp + fp)\n",
    "            recall += tp / (tp + fn)\n",
    "            f1 += (2*tp) / (2*tp + fp + fn)\n",
    "            \n",
    "    \n",
    "    precisions.append(precision / 3)\n",
    "    recalls.append(recall / 3)\n",
    "    f1s.append(f1 / 3)\n",
    "\n",
    "display(accuracies)\n",
    "display(precisions)\n",
    "display(recalls)\n",
    "display(f1s)\n",
    "        "
   ]
  },
  {
   "cell_type": "code",
   "execution_count": 47,
   "metadata": {
    "scrolled": true
   },
   "outputs": [
    {
     "data": {
      "text/plain": [
       "Text(0.5, 1.0, 'k against Accuracy')"
      ]
     },
     "execution_count": 47,
     "metadata": {},
     "output_type": "execute_result"
    },
    {
     "data": {
      "image/png": "[encoded data removed]",
      "text/plain": [
       "<Figure size 432x288 with 1 Axes>"
      ]
     },
     "metadata": {
      "needs_background": "light"
     },
     "output_type": "display_data"
    }
   ],
   "source": [
    "#k vs accuracy\n",
    "plt.plot(ks, accuracies)\n",
    "plt.xlabel('k')\n",
    "plt.ylabel('Accuracy')\n",
    "plt.title('k against Accuracy')"
   ]
  },
  {
   "cell_type": "code",
   "execution_count": 48,
   "metadata": {},
   "outputs": [
    {
     "data": {
      "text/plain": [
       "Text(0.5, 1.0, 'k against Precision')"
      ]
     },
     "execution_count": 48,
     "metadata": {},
     "output_type": "execute_result"
    },
    {
     "data": {
      "image/png": "[encoded data removed]",
      "text/plain": [
       "<Figure size 432x288 with 1 Axes>"
      ]
     },
     "metadata": {
      "needs_background": "light"
     },
     "output_type": "display_data"
    }
   ],
   "source": [
    "#k vs precision\n",
    "plt.plot(ks, precisions)\n",
    "plt.xlabel('k')\n",
    "plt.ylabel('Precision')\n",
    "plt.title('k against Precision')"
   ]
  },
  {
   "cell_type": "code",
   "execution_count": 49,
   "metadata": {},
   "outputs": [
    {
     "data": {
      "text/plain": [
       "Text(0.5, 1.0, 'k against Recall')"
      ]
     },
     "execution_count": 49,
     "metadata": {},
     "output_type": "execute_result"
    },
    {
     "data": {
      "image/png": "[encoded data removed]",
      "text/plain": [
       "<Figure size 432x288 with 1 Axes>"
      ]
     },
     "metadata": {
      "needs_background": "light"
     },
     "output_type": "display_data"
    }
   ],
   "source": [
    "#k vs recall\n",
    "plt.plot(ks, recalls)\n",
    "plt.xlabel('k')\n",
    "plt.ylabel('Recall')\n",
    "plt.title('k against Recall')"
   ]
  },
  {
   "cell_type": "code",
   "execution_count": 50,
   "metadata": {},
   "outputs": [
    {
     "data": {
      "text/plain": [
       "Text(0.5, 1.0, 'k against F1')"
      ]
     },
     "execution_count": 50,
     "metadata": {},
     "output_type": "execute_result"
    },
    {
     "data": {
      "image/png": "[encoded data removed]",
      "text/plain": [
       "<Figure size 432x288 with 1 Axes>"
      ]
     },
     "metadata": {
      "needs_background": "light"
     },
     "output_type": "display_data"
    }
   ],
   "source": [
    "#k vs f1\n",
    "plt.plot(ks, f1s)\n",
    "plt.xlabel('k')\n",
    "plt.ylabel('F1')\n",
    "plt.title('k against F1')"
   ]
  },
  {
   "cell_type": "code",
   "execution_count": 51,
   "metadata": {},
   "outputs": [],
   "source": [
    "#Running Part 2 with word2vec"
   ]
  },
  {
   "cell_type": "code",
   "execution_count": 52,
   "metadata": {},
   "outputs": [
    {
     "data": {
      "text/plain": [
       "[array([[ 246,  158,   68],\n",
       "        [ 114, 1559,  161],\n",
       "        [  77,  281,  257]]),\n",
       " array([[ 230,  207,   35],\n",
       "        [  46, 1713,   75],\n",
       "        [  53,  392,  170]]),\n",
       " array([[ 227,  216,   29],\n",
       "        [  16, 1771,   47],\n",
       "        [  41,  424,  150]]),\n",
       " array([[ 225,  224,   23],\n",
       "        [  17, 1784,   33],\n",
       "        [  39,  432,  144]]),\n",
       " array([[ 213,  238,   21],\n",
       "        [  11, 1797,   26],\n",
       "        [  43,  459,  113]])]"
      ]
     },
     "metadata": {},
     "output_type": "display_data"
    },
    {
     "data": {
      "text/plain": [
       "[0.7059226292365628,\n",
       " 0.7233824032865457,\n",
       " 0.7353646011639849,\n",
       " 0.7370763437179049,\n",
       " 0.7268058883943855]"
      ]
     },
     "metadata": {},
     "output_type": "display_data"
    },
    {
     "data": {
      "text/plain": [
       "[0.6240053088091057,\n",
       " 0.6823826526856048,\n",
       " 0.7325208560229656,\n",
       " 0.7506197615852829,\n",
       " 0.7415106930791202]"
      ]
     },
     "metadata": {},
     "output_type": "display_data"
    },
    {
     "data": {
      "text/plain": [
       "[0.5963757150555998,\n",
       " 0.5659116303655874,\n",
       " 0.5634944991253509,\n",
       " 0.5611928143984322,\n",
       " 0.538278847277503]"
      ]
     },
     "metadata": {},
     "output_type": "display_data"
    },
    {
     "data": {
      "text/plain": [
       "[0.6072589222083425,\n",
       " 0.5935030183749856,\n",
       " 0.5972135657205454,\n",
       " 0.5952663187743651,\n",
       " 0.5661580753468404]"
      ]
     },
     "metadata": {},
     "output_type": "display_data"
    }
   ],
   "source": [
    "from sklearn.neighbors import KNeighborsClassifier\n",
    "from sklearn.metrics import accuracy_score\n",
    "from sklearn.metrics import classification_report\n",
    "from sklearn.metrics import confusion_matrix\n",
    "target_names = ['positive', 'negative', 'neutral']\n",
    "accuracies = []\n",
    "precisions = []\n",
    "recalls = []\n",
    "f1s = []\n",
    "cms = []\n",
    "ks = [1,3,5,7,10]\n",
    "\n",
    "for k in ks:\n",
    "\n",
    "    TrainFeatures = w2vTrain.drop(['Tweet', 'Sentiment'], 1)\n",
    "    TrainFeatures = TrainFeatures['Features'].tolist()\n",
    "    TrainLabels = w2vTrain['Sentiment'].tolist()\n",
    "\n",
    "    TestFeatures = w2vTest.drop(['Tweet', 'Sentiment'], 1)\n",
    "    TestFeatures = TestFeatures['Features'].tolist()\n",
    "\n",
    "    TrueLabels = w2vTest['Sentiment'].tolist()\n",
    "\n",
    "    neigh = KNeighborsClassifier(n_neighbors=k)\n",
    "    neigh.fit(TrainFeatures, TrainLabels)\n",
    "\n",
    "    predicted_labels = neigh.predict(TestFeatures)\n",
    "    accuracy = accuracy_score(TrueLabels, predicted_labels)\n",
    "    accuracies.append(accuracy)\n",
    "    \n",
    "    report_dict = classification_report(TrueLabels, predicted_labels, target_names=target_names, output_dict=True)\n",
    "    precision = report_dict['macro avg']['precision']\n",
    "    precisions.append(precision)\n",
    "    recall = report_dict['macro avg']['recall']\n",
    "    recalls.append(recall)\n",
    "    f1 = report_dict['macro avg']['f1-score']\n",
    "    f1s.append(f1)\n",
    "    \n",
    "    cm = confusion_matrix(TrueLabels, predicted_labels, labels=[\"positive\", \"negative\", \"neutral\"])\n",
    "    cms.append(cm)\n",
    "\n",
    "display(cms)\n",
    "display(accuracies)\n",
    "display(precisions)\n",
    "display(recalls)\n",
    "display(f1s)\n"
   ]
  },
  {
   "cell_type": "code",
   "execution_count": 53,
   "metadata": {},
   "outputs": [
    {
     "data": {
      "text/plain": [
       "Text(0.5, 1.0, 'k against Accuracy')"
      ]
     },
     "execution_count": 53,
     "metadata": {},
     "output_type": "execute_result"
    },
    {
     "data": {
      "image/png": "[encoded data removed]",
      "text/plain": [
       "<Figure size 432x288 with 1 Axes>"
      ]
     },
     "metadata": {
      "needs_background": "light"
     },
     "output_type": "display_data"
    }
   ],
   "source": [
    "#k vs accuracy\n",
    "plt.plot(ks, accuracies)\n",
    "plt.xlabel('k')\n",
    "plt.ylabel('Accuracy')\n",
    "plt.title('k against Accuracy')\n",
    "\n"
   ]
  },
  {
   "cell_type": "code",
   "execution_count": 54,
   "metadata": {},
   "outputs": [
    {
     "data": {
      "text/plain": [
       "Text(0.5, 1.0, 'k against Precision')"
      ]
     },
     "execution_count": 54,
     "metadata": {},
     "output_type": "execute_result"
    },
    {
     "data": {
      "image/png": "[encoded data removed]",
      "text/plain": [
       "<Figure size 432x288 with 1 Axes>"
      ]
     },
     "metadata": {
      "needs_background": "light"
     },
     "output_type": "display_data"
    }
   ],
   "source": [
    "#k vs precision\n",
    "plt.plot(ks, precisions)\n",
    "plt.xlabel('k')\n",
    "plt.ylabel('Precision')\n",
    "plt.title('k against Precision')"
   ]
  },
  {
   "cell_type": "code",
   "execution_count": 55,
   "metadata": {},
   "outputs": [
    {
     "data": {
      "text/plain": [
       "Text(0.5, 1.0, 'k against Recall')"
      ]
     },
     "execution_count": 55,
     "metadata": {},
     "output_type": "execute_result"
    },
    {
     "data": {
      "image/png": "[encoded data removed]",
      "text/plain": [
       "<Figure size 432x288 with 1 Axes>"
      ]
     },
     "metadata": {
      "needs_background": "light"
     },
     "output_type": "display_data"
    }
   ],
   "source": [
    "#k vs recall\n",
    "plt.plot(ks, recalls)\n",
    "plt.xlabel('k')\n",
    "plt.ylabel('Recall')\n",
    "plt.title('k against Recall')"
   ]
  },
  {
   "cell_type": "code",
   "execution_count": 56,
   "metadata": {},
   "outputs": [
    {
     "data": {
      "text/plain": [
       "Text(0.5, 1.0, 'k against F1')"
      ]
     },
     "execution_count": 56,
     "metadata": {},
     "output_type": "execute_result"
    },
    {
     "data": {
      "image/png": "[encoded data removed]",
      "text/plain": [
       "<Figure size 432x288 with 1 Axes>"
      ]
     },
     "metadata": {
      "needs_background": "light"
     },
     "output_type": "display_data"
    }
   ],
   "source": [
    "#k vs f1\n",
    "plt.plot(ks, f1s)\n",
    "plt.xlabel('k')\n",
    "plt.ylabel('F1')\n",
    "plt.title('k against F1')"
   ]
  },
  {
   "cell_type": "code",
   "execution_count": null,
   "metadata": {},
   "outputs": [],
   "source": []
  },
  {
   "cell_type": "code",
   "execution_count": null,
   "metadata": {},
   "outputs": [],
   "source": []
  },
  {
   "cell_type": "code",
   "execution_count": null,
   "metadata": {},
   "outputs": [],
   "source": []
  }
 ],
 "metadata": {
  "kernelspec": {
   "display_name": "Python 3",
   "language": "python",
   "name": "python3"
  },
  "language_info": {
   "codemirror_mode": {
    "name": "ipython",
    "version": 3
   },
   "file_extension": ".py",
   "mimetype": "text/x-python",
   "name": "python",
   "nbconvert_exporter": "python",
   "pygments_lexer": "ipython3",
   "version": "3.8.5"
  }
 },
 "nbformat": 4,
 "nbformat_minor": 4
}
