{
 "cells": [
  {
   "cell_type": "code",
   "execution_count": 1,
   "metadata": {},
   "outputs": [],
   "source": [
    "#IMPORT CELL\n",
    "import pandas as pd\n",
    "import string \n",
    "import re\n",
    "from collections import Counter\n",
    "from scipy.spatial import distance\n",
    "from scipy import stats\n",
    "import numpy as np\n",
    "import matplotlib.pyplot as plt\n",
    "# pd.set_option('display.max_rows', None)\n",
    "# pd.set_option('display.max_colwidth', None)"
   ]
  },
  {
   "cell_type": "code",
   "execution_count": 2,
   "metadata": {},
   "outputs": [],
   "source": [
    "#Part 1\n",
    "train = pd.read_csv('train.csv')\n",
    "test = pd.read_csv('test.csv')\n",
    "stop_words = pd.read_fwf('stop_words.txt')\n",
    "\n",
    "def is_not_float(string):\n",
    "    try:\n",
    "        float(string)\n",
    "        return False\n",
    "    except ValueError:  # String is not a number\n",
    "        return True\n",
    "    \n",
    "def wordfreq(tweet):\n",
    "    tweetlist = tweet.split()\n",
    "    count = tweetlist.count(word)\n",
    "    return count"
   ]
  },
  {
   "cell_type": "code",
   "execution_count": 3,
   "metadata": {},
   "outputs": [],
   "source": [
    "#Train Cleaning\n",
    "\n",
    "# Removing URLS\n",
    "train['Tweet'] = train['Tweet'].replace(r'http\\S+', '', regex=True).replace(r'www\\S+', '', regex=True)\n",
    "\n",
    "#To Lowercase\n",
    "train['Tweet'] = train['Tweet'].str.lower()\n",
    "\n",
    "#Removing stopwords\n",
    "sw_list = stop_words['i'].tolist()\n",
    "train['Tweet'] = train['Tweet'].apply(lambda x: ' '.join([word for word in x.split() if word not in (sw_list)]))\n",
    "\n",
    "#Removing Punctuation\n",
    "train['Tweet'] = train['Tweet'].str.replace('[{}]'.format(string.punctuation), '')\n",
    "\n",
    "# #Removing single characters\n",
    "# train['Tweet'] = train['Tweet'].str.replace(r'\\b\\w\\b','').str.replace(r'\\s+', ' ')\n",
    "\n",
    "#Removing Numbers\n",
    "# train[\"Tweet\"] = train[\"Tweet\"].apply(lambda x: ' '.join([i for i in x.split() if is_not_float(i)]))\n",
    "\n",
    "\n",
    "# display(train.head())"
   ]
  },
  {
   "cell_type": "code",
   "execution_count": 4,
   "metadata": {},
   "outputs": [],
   "source": [
    "#Test Cleaning\n",
    "\n",
    "#Removing URLS\n",
    "test['Tweet'] = test['Tweet'].replace(r'http\\S+', '', regex=True).replace(r'www\\S+', '', regex=True)\n",
    "\n",
    "#To Lowercase\n",
    "test['Tweet'] = test['Tweet'].str.lower()\n",
    "\n",
    "#Removing stopwords\n",
    "sw_list = stop_words['i'].tolist()\n",
    "test['Tweet'] = test['Tweet'].apply(lambda x: ' '.join([word for word in x.split() if word not in (sw_list)]))\n",
    "\n",
    "#Removing Punctuation\n",
    "test['Tweet'] = test['Tweet'].str.replace('[{}]'.format(string.punctuation), '')\n",
    "\n",
    "# #Removing single characters\n",
    "# test['Tweet'] = test['Tweet'].str.replace(r'\\b\\w\\b','').str.replace(r'\\s+', ' ')\n",
    "\n",
    "#Removing Numbers\n",
    "# test[\"Tweet\"] = test[\"Tweet\"].apply(lambda x: ' '.join([i for i in x.split() if is_not_float(i)]))\n",
    "\n",
    "# display(test.head())"
   ]
  },
  {
   "cell_type": "code",
   "execution_count": 5,
   "metadata": {
    "scrolled": true
   },
   "outputs": [],
   "source": [
    "# #Making BOW representation of train\n",
    "\n",
    "#Making vocab from train\n",
    "all_text = ' '.join(train['Tweet'].tolist())\n",
    "\n",
    "vocab = list(set(all_text.split()))\n",
    "\n",
    "\n",
    "\n",
    "tweets = ['T' + str(i) for i in range(len(train))]\n",
    "\n",
    "BOWTrain = pd.DataFrame(tweets, columns =['Tweet'])\n",
    "\n",
    "\n",
    "\n",
    "\n",
    "for word in vocab:\n",
    "#     counts = []\n",
    "\n",
    "    BOWTrain[word] = train.apply(lambda row: wordfreq(row[\"Tweet\"]),axis=1)\n",
    "    \n",
    "    \n",
    "    #Removing words that only occur once\n",
    "\n",
    "#     if BOWTrain[word].sum() == 1:\n",
    "#         BOWTrain = BOWTrain.drop([word], axis=1)\n",
    "    \n",
    "# for col in BOW.columns:\n",
    "#     if len(BOW[col].unique()) == 1:\n",
    "#         BOW.drop(col,inplace=True,axis=1)\n",
    "        \n",
    "BOWTrain['Sentiment'] = train['Sentiment']\n",
    "\n",
    "\n",
    "\n",
    "\n",
    "# BOWTrain.to_pickle('./BOWTrain.pkl')\n",
    "\n",
    "\n",
    "\n",
    "\n"
   ]
  },
  {
   "cell_type": "code",
   "execution_count": 6,
   "metadata": {},
   "outputs": [],
   "source": [
    "#Making BOW representation of test\n",
    "\n",
    "tweets = ['T' + str(i) for i in range(len(test))]\n",
    "\n",
    "BOWTest = pd.DataFrame(tweets, columns =['Tweet'])\n",
    "\n",
    "\n",
    "\n",
    "\n",
    "for word in vocab:\n",
    "    BOWTest[word] = test.apply(lambda row: wordfreq(row[\"Tweet\"]),axis=1)\n",
    "    \n",
    "#     if BOWTest[word].sum() == 1:\n",
    "#         BOWTest = BOWTest.drop([word], axis=1)\n",
    "\n",
    "        \n",
    "BOWTest['Sentiment'] = test['Sentiment']\n",
    "\n",
    "\n",
    "\n",
    "\n",
    "# BOWTest.to_pickle('./BOWTest.pkl')\n",
    "\n",
    "\n",
    "\n",
    "\n"
   ]
  },
  {
   "cell_type": "code",
   "execution_count": 7,
   "metadata": {},
   "outputs": [],
   "source": [
    "# BOWTrain = pd.read_pickle('./BOWTrain.pkl')\n",
    "# BOWTest = pd.read_pickle('./BOWTest.pkl')\n",
    "TrainFeatures = BOWTrain.drop(['Tweet', 'Sentiment'], 1)\n",
    "TestFeatures = BOWTest.drop(['Tweet', 'Sentiment'], 1)\n",
    "   \n"
   ]
  },
  {
   "cell_type": "code",
   "execution_count": 8,
   "metadata": {},
   "outputs": [],
   "source": [
    "#Calculating euclidean distances of test with train\n",
    "distances = distance.cdist(TestFeatures,TrainFeatures ,'euclidean')\n",
    "\n",
    "\n",
    "# np.savetxt('distances.txt', distances)\n",
    "\n"
   ]
  },
  {
   "cell_type": "code",
   "execution_count": null,
   "metadata": {},
   "outputs": [],
   "source": []
  },
  {
   "cell_type": "code",
   "execution_count": 9,
   "metadata": {},
   "outputs": [],
   "source": [
    "#Predicting Labels\n",
    "# display(distances)\n",
    "\n",
    "\n",
    "# distances = np.loadtxt('distances.txt')\n",
    "\n",
    "distances = np.array(distances)\n",
    "# distances.sort(axis=1)\n",
    "ks = {1,3,5,7,10}\n",
    "trainlabels = BOWTrain[\"Sentiment\"].tolist()\n",
    "\n",
    "predictedlabelsForEachK = []\n",
    "\n",
    "\n",
    "# display(distances)\n",
    "for k in ks:\n",
    "    predictedlabels = []\n",
    "    for distanceVector in distances:\n",
    "        \n",
    "        label_distances = list(map(lambda x, y:(x,y), trainlabels, distanceVector))\n",
    "\n",
    "        sorted_label_distances = sorted(label_distances, key = lambda x: x[1]) \n",
    "\n",
    "        while k >= 1:\n",
    "\n",
    "\n",
    "            nns = sorted_label_distances[:k]\n",
    "            counts = Counter(x[0] for x in nns)\n",
    "            c1 = counts['positive']\n",
    "            c2 = counts['negative']\n",
    "            c3 = counts['neutral']\n",
    "\n",
    "       \n",
    "\n",
    "            if c1 == c2 == c3:\n",
    "                k-=1\n",
    "\n",
    "            elif c1 == c2 and c1 > c3 and c2 > c3:\n",
    "                k-=1\n",
    "\n",
    "            elif c1 == c3 and c1 > c2 and c3 > c2:\n",
    "                k-=1\n",
    "\n",
    "            elif c2 == c3 and c2 > c1 and c3 > c1:\n",
    "                k-=1\n",
    "\n",
    "            elif c2 == c3 and c2 < c1 and c3 < c1:\n",
    "                #c1\n",
    "                predictedlabels.append('positive')\n",
    "                break\n",
    "\n",
    "            elif c1 == c3 and c1 < c2 and c3 < c2:\n",
    "                #c2\n",
    "                predictedlabels.append('negative')\n",
    "                break\n",
    "            elif c2 == c3 and c2 < c1 and c3 < c1:\n",
    "                #c3\n",
    "                predictedlabels.append('neutral')\n",
    "                break\n",
    "            elif c1 > c2 and c1 > c3:\n",
    "                #c1\n",
    "                predictedlabels.append('positive')\n",
    "                break\n",
    "            elif c2 > c1 and c2 > c3: \n",
    "                #c2\n",
    "                predictedlabels.append('negative')\n",
    "                break\n",
    "\n",
    "            elif c3 > c1 and c3 > c2:   \n",
    "                #c3\n",
    "                predictedlabels.append('neutral')\n",
    "                break\n",
    "\n",
    "    \n",
    "        \n",
    "\n",
    "\n",
    "    prediction = pd.DataFrame({'Predicted Sentiment':predictedlabels})\n",
    "    prediction[\"Actual Sentiment\"] = test[\"Sentiment\"]\n",
    "#     prediction[\"Tweet\"] = test[\"Tweet\"]\n",
    "    \n",
    "    predictedlabelsForEachK.append(prediction)\n",
    "    \n",
    "#     prediction.to_pickle('./PredictedLabels.pkl')\n",
    "\n",
    "    \n",
    "    #     nns = list(sorted_label_distances)[:k]\n",
    "#     display(Counter(nns))\n",
    "#     for key, value in Counter(nns).items():\n",
    "#     Counter(nns).keys() # equals to list(set(words))\n",
    "#     Counter(nns).values() # counts the elements' frequency\n",
    "# #     m = stats.mode(nns)\n",
    "#     print(m)"
   ]
  },
  {
   "cell_type": "code",
   "execution_count": 10,
   "metadata": {},
   "outputs": [],
   "source": [
    "# prediction = pd.read_pickle('./PredictedLabels.pkl')\n",
    "\n",
    "\n",
    "\n",
    "# for i,k in enumerate(ks):\n",
    "#     display(predictedlabelsForEachK[i])\n",
    "    \n"
   ]
  },
  {
   "cell_type": "code",
   "execution_count": 11,
   "metadata": {},
   "outputs": [
    {
     "data": {
      "text/plain": [
       "[0.5111263266004793,\n",
       " 0.5111263266004793,\n",
       " 0.5107839780896953,\n",
       " 0.5104416295789114,\n",
       " 0.5097569325573433]"
      ]
     },
     "metadata": {},
     "output_type": "display_data"
    }
   ],
   "source": [
    "#accuracies\n",
    "\n",
    "def f(col1, col2):\n",
    "    if col1 == col2:\n",
    "        return 1\n",
    "    else:\n",
    "        return 0\n",
    "\n",
    "accuracies = []\n",
    "for i,k in enumerate(ks):\n",
    "    prediction = predictedlabelsForEachK[i]\n",
    "#     display(prediction)\n",
    "\n",
    "\n",
    "\n",
    "\n",
    "        \n",
    "        \n",
    "#         display(x['Predicted Sentiment'])\n",
    "#         display(x['Actual Sentiment'])\n",
    "   \n",
    "\n",
    "    temp = prediction\n",
    "\n",
    "    temp[\"Count\"] = temp.apply(lambda x: f(x['Predicted Sentiment'], x['Actual Sentiment']), axis=1)\n",
    "\n",
    "#     temp[\"Count\"] = temp[\"Count\"].fillna(0)\n",
    "\n",
    "    matches = temp[\"Count\"].sum()\n",
    "    samples = prediction.shape[0]\n",
    "\n",
    "    accuracy = matches / samples\n",
    "    \n",
    "    accuracies.append(accuracy)\n",
    "\n",
    "display(accuracies)"
   ]
  },
  {
   "cell_type": "code",
   "execution_count": 12,
   "metadata": {},
   "outputs": [
    {
     "data": {
      "text/html": [
       "<div>\n",
       "<style scoped>\n",
       "    .dataframe tbody tr th:only-of-type {\n",
       "        vertical-align: middle;\n",
       "    }\n",
       "\n",
       "    .dataframe tbody tr th {\n",
       "        vertical-align: top;\n",
       "    }\n",
       "\n",
       "    .dataframe thead th {\n",
       "        text-align: right;\n",
       "    }\n",
       "</style>\n",
       "<table border=\"1\" class=\"dataframe\">\n",
       "  <thead>\n",
       "    <tr style=\"text-align: right;\">\n",
       "      <th></th>\n",
       "      <th>pos</th>\n",
       "      <th>neg</th>\n",
       "      <th>neu</th>\n",
       "    </tr>\n",
       "  </thead>\n",
       "  <tbody>\n",
       "    <tr>\n",
       "      <th>pos</th>\n",
       "      <td>260</td>\n",
       "      <td>250</td>\n",
       "      <td>152</td>\n",
       "    </tr>\n",
       "    <tr>\n",
       "      <th>neg</th>\n",
       "      <td>50</td>\n",
       "      <td>881</td>\n",
       "      <td>111</td>\n",
       "    </tr>\n",
       "    <tr>\n",
       "      <th>neu</th>\n",
       "      <td>162</td>\n",
       "      <td>703</td>\n",
       "      <td>352</td>\n",
       "    </tr>\n",
       "  </tbody>\n",
       "</table>\n",
       "</div>"
      ],
      "text/plain": [
       "     pos  neg  neu\n",
       "pos  260  250  152\n",
       "neg   50  881  111\n",
       "neu  162  703  352"
      ]
     },
     "metadata": {},
     "output_type": "display_data"
    },
    {
     "data": {
      "text/html": [
       "<div>\n",
       "<style scoped>\n",
       "    .dataframe tbody tr th:only-of-type {\n",
       "        vertical-align: middle;\n",
       "    }\n",
       "\n",
       "    .dataframe tbody tr th {\n",
       "        vertical-align: top;\n",
       "    }\n",
       "\n",
       "    .dataframe thead th {\n",
       "        text-align: right;\n",
       "    }\n",
       "</style>\n",
       "<table border=\"1\" class=\"dataframe\">\n",
       "  <thead>\n",
       "    <tr style=\"text-align: right;\">\n",
       "      <th></th>\n",
       "      <th>pos</th>\n",
       "      <th>neg</th>\n",
       "      <th>neu</th>\n",
       "    </tr>\n",
       "  </thead>\n",
       "  <tbody>\n",
       "    <tr>\n",
       "      <th>pos</th>\n",
       "      <td>260</td>\n",
       "      <td>250</td>\n",
       "      <td>152</td>\n",
       "    </tr>\n",
       "    <tr>\n",
       "      <th>neg</th>\n",
       "      <td>50</td>\n",
       "      <td>881</td>\n",
       "      <td>111</td>\n",
       "    </tr>\n",
       "    <tr>\n",
       "      <th>neu</th>\n",
       "      <td>162</td>\n",
       "      <td>703</td>\n",
       "      <td>352</td>\n",
       "    </tr>\n",
       "  </tbody>\n",
       "</table>\n",
       "</div>"
      ],
      "text/plain": [
       "     pos  neg  neu\n",
       "pos  260  250  152\n",
       "neg   50  881  111\n",
       "neu  162  703  352"
      ]
     },
     "metadata": {},
     "output_type": "display_data"
    },
    {
     "data": {
      "text/html": [
       "<div>\n",
       "<style scoped>\n",
       "    .dataframe tbody tr th:only-of-type {\n",
       "        vertical-align: middle;\n",
       "    }\n",
       "\n",
       "    .dataframe tbody tr th {\n",
       "        vertical-align: top;\n",
       "    }\n",
       "\n",
       "    .dataframe thead th {\n",
       "        text-align: right;\n",
       "    }\n",
       "</style>\n",
       "<table border=\"1\" class=\"dataframe\">\n",
       "  <thead>\n",
       "    <tr style=\"text-align: right;\">\n",
       "      <th></th>\n",
       "      <th>pos</th>\n",
       "      <th>neg</th>\n",
       "      <th>neu</th>\n",
       "    </tr>\n",
       "  </thead>\n",
       "  <tbody>\n",
       "    <tr>\n",
       "      <th>pos</th>\n",
       "      <td>261</td>\n",
       "      <td>250</td>\n",
       "      <td>152</td>\n",
       "    </tr>\n",
       "    <tr>\n",
       "      <th>neg</th>\n",
       "      <td>50</td>\n",
       "      <td>879</td>\n",
       "      <td>111</td>\n",
       "    </tr>\n",
       "    <tr>\n",
       "      <th>neu</th>\n",
       "      <td>161</td>\n",
       "      <td>705</td>\n",
       "      <td>352</td>\n",
       "    </tr>\n",
       "  </tbody>\n",
       "</table>\n",
       "</div>"
      ],
      "text/plain": [
       "     pos  neg  neu\n",
       "pos  261  250  152\n",
       "neg   50  879  111\n",
       "neu  161  705  352"
      ]
     },
     "metadata": {},
     "output_type": "display_data"
    },
    {
     "data": {
      "text/html": [
       "<div>\n",
       "<style scoped>\n",
       "    .dataframe tbody tr th:only-of-type {\n",
       "        vertical-align: middle;\n",
       "    }\n",
       "\n",
       "    .dataframe tbody tr th {\n",
       "        vertical-align: top;\n",
       "    }\n",
       "\n",
       "    .dataframe thead th {\n",
       "        text-align: right;\n",
       "    }\n",
       "</style>\n",
       "<table border=\"1\" class=\"dataframe\">\n",
       "  <thead>\n",
       "    <tr style=\"text-align: right;\">\n",
       "      <th></th>\n",
       "      <th>pos</th>\n",
       "      <th>neg</th>\n",
       "      <th>neu</th>\n",
       "    </tr>\n",
       "  </thead>\n",
       "  <tbody>\n",
       "    <tr>\n",
       "      <th>pos</th>\n",
       "      <td>261</td>\n",
       "      <td>249</td>\n",
       "      <td>151</td>\n",
       "    </tr>\n",
       "    <tr>\n",
       "      <th>neg</th>\n",
       "      <td>50</td>\n",
       "      <td>877</td>\n",
       "      <td>111</td>\n",
       "    </tr>\n",
       "    <tr>\n",
       "      <th>neu</th>\n",
       "      <td>161</td>\n",
       "      <td>708</td>\n",
       "      <td>353</td>\n",
       "    </tr>\n",
       "  </tbody>\n",
       "</table>\n",
       "</div>"
      ],
      "text/plain": [
       "     pos  neg  neu\n",
       "pos  261  249  151\n",
       "neg   50  877  111\n",
       "neu  161  708  353"
      ]
     },
     "metadata": {},
     "output_type": "display_data"
    },
    {
     "data": {
      "text/html": [
       "<div>\n",
       "<style scoped>\n",
       "    .dataframe tbody tr th:only-of-type {\n",
       "        vertical-align: middle;\n",
       "    }\n",
       "\n",
       "    .dataframe tbody tr th {\n",
       "        vertical-align: top;\n",
       "    }\n",
       "\n",
       "    .dataframe thead th {\n",
       "        text-align: right;\n",
       "    }\n",
       "</style>\n",
       "<table border=\"1\" class=\"dataframe\">\n",
       "  <thead>\n",
       "    <tr style=\"text-align: right;\">\n",
       "      <th></th>\n",
       "      <th>pos</th>\n",
       "      <th>neg</th>\n",
       "      <th>neu</th>\n",
       "    </tr>\n",
       "  </thead>\n",
       "  <tbody>\n",
       "    <tr>\n",
       "      <th>pos</th>\n",
       "      <td>260</td>\n",
       "      <td>251</td>\n",
       "      <td>151</td>\n",
       "    </tr>\n",
       "    <tr>\n",
       "      <th>neg</th>\n",
       "      <td>50</td>\n",
       "      <td>876</td>\n",
       "      <td>111</td>\n",
       "    </tr>\n",
       "    <tr>\n",
       "      <th>neu</th>\n",
       "      <td>162</td>\n",
       "      <td>707</td>\n",
       "      <td>353</td>\n",
       "    </tr>\n",
       "  </tbody>\n",
       "</table>\n",
       "</div>"
      ],
      "text/plain": [
       "     pos  neg  neu\n",
       "pos  260  251  151\n",
       "neg   50  876  111\n",
       "neu  162  707  353"
      ]
     },
     "metadata": {},
     "output_type": "display_data"
    }
   ],
   "source": [
    "#cms\n",
    "def g(col1, col2, cm):\n",
    "    if col1 == \"positive\" and col2 == \"positive\":\n",
    "        cm.at['pos', 'pos'] += 1\n",
    "    elif col1 == \"positive\" and col2 == \"negative\":\n",
    "        cm.at['pos','neg'] +=1\n",
    "    elif col1 == \"positive\" and col2 == \"neutral\":\n",
    "        cm.at['pos','neu'] +=1\n",
    "    elif col1 == \"negative\" and col2 == \"positive\":\n",
    "        cm.at['neg','pos'] +=1\n",
    "    elif col1 == \"negative\" and col2 == \"negative\":\n",
    "        cm.at['neg','neg'] +=1   \n",
    "    elif col1 == \"negative\" and col2 == \"neutral\":\n",
    "        cm.at['neg','neu'] +=1   \n",
    "    elif col1 == \"neutral\" and col2 == \"positive\":\n",
    "        cm.at['neu','pos'] +=1\n",
    "    elif col1 == \"neutral\" and col2 == \"negative\":\n",
    "        cm.at['neu','neg'] +=1\n",
    "    elif col1 == \"neutral\" and col2 == \"neutral\":\n",
    "        cm.at['neu','neu'] +=1\n",
    "\n",
    "        \n",
    "        \n",
    "    \n",
    "cms = []\n",
    "for i,k in enumerate(ks):\n",
    "     prediction = predictedlabelsForEachK[i]\n",
    "#      actual = np.array(prediction['Actual Sentiment'])\n",
    "#      pred = np.array(prediction['Predicted Sentiment'])\n",
    "#      classes = 3\n",
    "     cm = pd.DataFrame(index=['pos','neg','neu'], columns=['pos','neg','neu'])\n",
    "     cm = cm.fillna(0)\n",
    "     \n",
    "    \n",
    "        \n",
    "     \n",
    "     prediction.apply(lambda x: g(x['Predicted Sentiment'], x['Actual Sentiment'],cm), axis=1) \n",
    "     \n",
    "     display(cm)\n",
    "     cms.append(cm)\n",
    "#      for col in cm.columns:\n",
    "#          cm[col].values[:] = 0\n",
    "    "
   ]
  },
  {
   "cell_type": "code",
   "execution_count": 13,
   "metadata": {},
   "outputs": [
    {
     "data": {
      "text/plain": [
       "[0.5111263266004793,\n",
       " 0.5111263266004793,\n",
       " 0.5107839780896953,\n",
       " 0.5104416295789114,\n",
       " 0.5097569325573433]"
      ]
     },
     "metadata": {},
     "output_type": "display_data"
    },
    {
     "data": {
      "text/plain": [
       "[0.5091581712974201,\n",
       " 0.5091581712974201,\n",
       " 0.5092852746757411,\n",
       " 0.5095403363684615,\n",
       " 0.5087881345454749]"
      ]
     },
     "metadata": {},
     "output_type": "display_data"
    },
    {
     "data": {
      "text/plain": [
       "[0.5345253184894195,\n",
       " 0.5345253184894195,\n",
       " 0.534868028998387,\n",
       " 0.5350465302381431,\n",
       " 0.5341585634587285]"
      ]
     },
     "metadata": {},
     "output_type": "display_data"
    },
    {
     "data": {
      "text/plain": [
       "[0.4851632450617915,\n",
       " 0.4851632450617915,\n",
       " 0.4852242493719929,\n",
       " 0.48525674694073756,\n",
       " 0.48437213027572534]"
      ]
     },
     "metadata": {},
     "output_type": "display_data"
    }
   ],
   "source": [
    "#precisions, recalls and f1s\n",
    "classes = ['pos','neg','neu']\n",
    "precisions = []\n",
    "recalls = []\n",
    "f1s = []\n",
    "ks = [1,3,5,7,10]\n",
    "for cm in cms:\n",
    "    \n",
    "    tp = 0\n",
    "    tn = 0\n",
    "    fp = 0\n",
    "    fn = 0\n",
    "    precision = 0\n",
    "    recall = 0\n",
    "    f1 = 0\n",
    "    for c in classes:\n",
    "        if c == 'pos':\n",
    "            tp = cm.at['pos','pos']\n",
    "            tn = cm.at['neg','neg'] + cm.at['neg','neu'] + cm.at['neu','neg'] + cm.at['neu','neu']\n",
    "            fp = cm.at['pos','neg'] + cm.at['pos','neu']\n",
    "            fn = cm.at['neg','pos'] + cm.at['neu','pos']\n",
    "            precision += tp / (tp + fp)\n",
    "            recall += tp / (tp + fn)\n",
    "            f1 += (2*tp) / (2*tp + fp + fn)\n",
    "        elif c == 'neg':\n",
    "            tp = cm.at['neg','neg']\n",
    "            tn = cm.at['pos','pos'] + cm.at['pos','neu'] + cm.at['neu','pos'] + cm.at['neu','neu']\n",
    "            fp = cm.at['neg','pos'] + cm.at['neg','neu']\n",
    "            fn = cm.at['pos','neg'] + cm.at['neu','neg']\n",
    "            precision += tp / (tp + fp)\n",
    "            recall += tp / (tp + fn)\n",
    "            f1 += (2*tp) / (2*tp + fp + fn)\n",
    "            \n",
    "        elif c == 'neu':\n",
    "            tp = cm.at['neu','neu']\n",
    "            tn = cm.at['pos','pos'] + cm.at['pos','neg'] + cm.at['neg','pos'] + cm.at['neg','neg']\n",
    "            fp = cm.at['neu','neg'] + cm.at['neu','pos']\n",
    "            fn = cm.at['pos','neu'] + cm.at['neg','neu']\n",
    "            precision += tp / (tp + fp)\n",
    "            recall += tp / (tp + fn)\n",
    "            f1 += (2*tp) / (2*tp + fp + fn)\n",
    "            \n",
    "    \n",
    "    precisions.append(precision / 3)\n",
    "    recalls.append(recall / 3)\n",
    "    f1s.append(f1 / 3)\n",
    "\n",
    "display(accuracies)\n",
    "display(precisions)\n",
    "display(recalls)\n",
    "display(f1s)\n",
    "        "
   ]
  },
  {
   "cell_type": "code",
   "execution_count": 14,
   "metadata": {},
   "outputs": [
    {
     "data": {
      "text/plain": [
       "Text(0.5, 1.0, 'k against Accuracy')"
      ]
     },
     "execution_count": 14,
     "metadata": {},
     "output_type": "execute_result"
    },
    {
     "data": {
      "image/png": "[encoded data removed]",
      "text/plain": [
       "<Figure size 432x288 with 1 Axes>"
      ]
     },
     "metadata": {
      "needs_background": "light"
     },
     "output_type": "display_data"
    }
   ],
   "source": [
    "#k vs accuracy\n",
    "plt.plot(ks, accuracies)\n",
    "plt.xlabel('k')\n",
    "plt.ylabel('Accuracy')\n",
    "plt.title('k against Accuracy')"
   ]
  },
  {
   "cell_type": "code",
   "execution_count": 15,
   "metadata": {},
   "outputs": [
    {
     "data": {
      "text/plain": [
       "Text(0.5, 1.0, 'k against Precision')"
      ]
     },
     "execution_count": 15,
     "metadata": {},
     "output_type": "execute_result"
    },
    {
     "data": {
      "image/png": "[encoded data removed]",
      "text/plain": [
       "<Figure size 432x288 with 1 Axes>"
      ]
     },
     "metadata": {
      "needs_background": "light"
     },
     "output_type": "display_data"
    }
   ],
   "source": [
    "#k vs precision\n",
    "plt.plot(ks, precisions)\n",
    "plt.xlabel('k')\n",
    "plt.ylabel('Precision')\n",
    "plt.title('k against Precision')"
   ]
  },
  {
   "cell_type": "code",
   "execution_count": 16,
   "metadata": {},
   "outputs": [
    {
     "data": {
      "text/plain": [
       "Text(0.5, 1.0, 'k against Recall')"
      ]
     },
     "execution_count": 16,
     "metadata": {},
     "output_type": "execute_result"
    },
    {
     "data": {
      "image/png": "[encoded data removed]",
      "text/plain": [
       "<Figure size 432x288 with 1 Axes>"
      ]
     },
     "metadata": {
      "needs_background": "light"
     },
     "output_type": "display_data"
    }
   ],
   "source": [
    "#k vs recall\n",
    "plt.plot(ks, recalls)\n",
    "plt.xlabel('k')\n",
    "plt.ylabel('Recall')\n",
    "plt.title('k against Recall')"
   ]
  },
  {
   "cell_type": "code",
   "execution_count": 17,
   "metadata": {},
   "outputs": [
    {
     "data": {
      "text/plain": [
       "Text(0.5, 1.0, 'k against F1')"
      ]
     },
     "execution_count": 17,
     "metadata": {},
     "output_type": "execute_result"
    },
    {
     "data": {
      "image/png": "[encoded data removed]",
      "text/plain": [
       "<Figure size 432x288 with 1 Axes>"
      ]
     },
     "metadata": {
      "needs_background": "light"
     },
     "output_type": "display_data"
    }
   ],
   "source": [
    "#k vs f1\n",
    "plt.plot(ks, f1s)\n",
    "plt.xlabel('k')\n",
    "plt.ylabel('F1')\n",
    "plt.title('k against F1')"
   ]
  },
  {
   "cell_type": "code",
   "execution_count": 18,
   "metadata": {},
   "outputs": [
    {
     "data": {
      "text/plain": [
       "[array([[263,  58, 151],\n",
       "        [291, 872, 671],\n",
       "        [152, 122, 341]]),\n",
       " array([[283,  76, 113],\n",
       "        [211, 940, 683],\n",
       "        [128, 162, 325]]),\n",
       " array([[262,  61, 149],\n",
       "        [182, 913, 739],\n",
       "        [113, 146, 356]]),\n",
       " array([[255,  50, 167],\n",
       "        [229, 823, 782],\n",
       "        [112, 128, 375]]),\n",
       " array([[278,  43, 151],\n",
       "        [321, 710, 803],\n",
       "        [152, 108, 355]])]"
      ]
     },
     "metadata": {},
     "output_type": "display_data"
    },
    {
     "data": {
      "text/plain": [
       "[0.5053064019171517,\n",
       " 0.529955494693598,\n",
       " 0.5241355700102704,\n",
       " 0.49743238616912017,\n",
       " 0.45977404998288257]"
      ]
     },
     "metadata": {},
     "output_type": "display_data"
    },
    {
     "data": {
      "text/plain": [
       "[0.4982086025206265,\n",
       " 0.5142887619756823,\n",
       " 0.5239097415392465,\n",
       " 0.5110875998566341,\n",
       " 0.4886650077720042]"
      ]
     },
     "metadata": {},
     "output_type": "display_data"
    },
    {
     "data": {
      "text/plain": [
       "[0.5290461341252785,\n",
       " 0.5468574833198566,\n",
       " 0.5439218364329365,\n",
       " 0.5329187484756942,\n",
       " 0.5177835917408765]"
      ]
     },
     "metadata": {},
     "output_type": "display_data"
    },
    {
     "data": {
      "text/plain": [
       "[0.47813106059433075,\n",
       " 0.5053204695733242,\n",
       " 0.5034595887974059,\n",
       " 0.4816416851197383,\n",
       " 0.4501814420632316]"
      ]
     },
     "metadata": {},
     "output_type": "display_data"
    }
   ],
   "source": [
    "#Part 2\n",
    "from sklearn.neighbors import KNeighborsClassifier\n",
    "from sklearn.metrics import accuracy_score\n",
    "from sklearn.metrics import classification_report\n",
    "from sklearn.metrics import confusion_matrix\n",
    "target_names = ['positive', 'negative', 'neutral']\n",
    "accuracies = []\n",
    "precisions = []\n",
    "recalls = []\n",
    "f1s = []\n",
    "cms = []\n",
    "ks = [1,3,5,7,10]\n",
    "\n",
    "for k in ks:\n",
    "\n",
    "    TrainFeatures = BOWTrain.drop(['Tweet', 'Sentiment'], 1)\n",
    "    TrainFeatures = TrainFeatures.values.tolist()\n",
    "    TrainLabels = BOWTrain['Sentiment'].tolist()\n",
    "\n",
    "    TestFeatures = BOWTest.drop(['Tweet', 'Sentiment'], 1)\n",
    "    TestFeatures = TestFeatures.values.tolist()\n",
    "\n",
    "    TrueLabels = BOWTest['Sentiment'].tolist()\n",
    "\n",
    "    neigh = KNeighborsClassifier(n_neighbors=k)\n",
    "    neigh.fit(TrainFeatures, TrainLabels)\n",
    "\n",
    "    predicted_labels = neigh.predict(TestFeatures)\n",
    "    accuracy = accuracy_score(TrueLabels, predicted_labels)\n",
    "    accuracies.append(accuracy)\n",
    "    \n",
    "    report_dict = classification_report(TrueLabels, predicted_labels, target_names=target_names, output_dict=True)\n",
    "    precision = report_dict['macro avg']['precision']\n",
    "    precisions.append(precision)\n",
    "    recall = report_dict['macro avg']['recall']\n",
    "    recalls.append(recall)\n",
    "    f1 = report_dict['macro avg']['f1-score']\n",
    "    f1s.append(f1)\n",
    "    \n",
    "    cm = confusion_matrix(TrueLabels, predicted_labels, labels=[\"positive\", \"negative\", \"neutral\"])\n",
    "    cms.append(cm)\n",
    "\n",
    "display(cms)\n",
    "display(accuracies)\n",
    "display(precisions)\n",
    "display(recalls)\n",
    "display(f1s)\n"
   ]
  },
  {
   "cell_type": "code",
   "execution_count": 19,
   "metadata": {},
   "outputs": [
    {
     "data": {
      "text/plain": [
       "Text(0.5, 1.0, 'k against Accuracy')"
      ]
     },
     "execution_count": 19,
     "metadata": {},
     "output_type": "execute_result"
    },
    {
     "data": {
      "image/png": "[encoded data removed]",
      "text/plain": [
       "<Figure size 432x288 with 1 Axes>"
      ]
     },
     "metadata": {
      "needs_background": "light"
     },
     "output_type": "display_data"
    }
   ],
   "source": [
    "#k vs accuracy\n",
    "plt.plot(ks, accuracies)\n",
    "plt.xlabel('k')\n",
    "plt.ylabel('Accuracy')\n",
    "plt.title('k against Accuracy')\n",
    "\n",
    "\n"
   ]
  },
  {
   "cell_type": "code",
   "execution_count": 20,
   "metadata": {},
   "outputs": [
    {
     "data": {
      "text/plain": [
       "Text(0.5, 1.0, 'k against Precision')"
      ]
     },
     "execution_count": 20,
     "metadata": {},
     "output_type": "execute_result"
    },
    {
     "data": {
      "image/png": "[encoded data removed]",
      "text/plain": [
       "<Figure size 432x288 with 1 Axes>"
      ]
     },
     "metadata": {
      "needs_background": "light"
     },
     "output_type": "display_data"
    }
   ],
   "source": [
    "#k vs precision\n",
    "plt.plot(ks, precisions)\n",
    "plt.xlabel('k')\n",
    "plt.ylabel('Precision')\n",
    "plt.title('k against Precision')"
   ]
  },
  {
   "cell_type": "code",
   "execution_count": 21,
   "metadata": {},
   "outputs": [
    {
     "data": {
      "text/plain": [
       "Text(0.5, 1.0, 'k against Recall')"
      ]
     },
     "execution_count": 21,
     "metadata": {},
     "output_type": "execute_result"
    },
    {
     "data": {
      "image/png": "[encoded data removed]",
      "text/plain": [
       "<Figure size 432x288 with 1 Axes>"
      ]
     },
     "metadata": {
      "needs_background": "light"
     },
     "output_type": "display_data"
    }
   ],
   "source": [
    "#k vs recall\n",
    "plt.plot(ks, recalls)\n",
    "plt.xlabel('k')\n",
    "plt.ylabel('Recall')\n",
    "plt.title('k against Recall')"
   ]
  },
  {
   "cell_type": "code",
   "execution_count": 22,
   "metadata": {},
   "outputs": [
    {
     "data": {
      "text/plain": [
       "Text(0.5, 1.0, 'k against F1')"
      ]
     },
     "execution_count": 22,
     "metadata": {},
     "output_type": "execute_result"
    },
    {
     "data": {
      "image/png": "[encoded data removed]",
      "text/plain": [
       "<Figure size 432x288 with 1 Axes>"
      ]
     },
     "metadata": {
      "needs_background": "light"
     },
     "output_type": "display_data"
    }
   ],
   "source": [
    "#k vs f1\n",
    "plt.plot(ks, f1s)\n",
    "plt.xlabel('k')\n",
    "plt.ylabel('F1')\n",
    "plt.title('k against F1')"
   ]
  },
  {
   "cell_type": "code",
   "execution_count": 28,
   "metadata": {},
   "outputs": [],
   "source": [
    "#Part 3\n",
    "from gensim.models import KeyedVectors\n",
    "import numpy as np\n",
    "\n",
    "word2vec = KeyedVectors.load_word2vec_format(\"GoogleNews-vectors-negative300.bin.gz\", binary=True)\n",
    "\n",
    "\n",
    "\n"
   ]
  },
  {
   "cell_type": "code",
   "execution_count": 31,
   "metadata": {},
   "outputs": [
    {
     "data": {
      "text/html": [
       "<div>\n",
       "<style scoped>\n",
       "    .dataframe tbody tr th:only-of-type {\n",
       "        vertical-align: middle;\n",
       "    }\n",
       "\n",
       "    .dataframe tbody tr th {\n",
       "        vertical-align: top;\n",
       "    }\n",
       "\n",
       "    .dataframe thead th {\n",
       "        text-align: right;\n",
       "    }\n",
       "</style>\n",
       "<table border=\"1\" class=\"dataframe\">\n",
       "  <thead>\n",
       "    <tr style=\"text-align: right;\">\n",
       "      <th></th>\n",
       "      <th>Tweet</th>\n",
       "      <th>Features</th>\n",
       "      <th>Sentiment</th>\n",
       "    </tr>\n",
       "  </thead>\n",
       "  <tbody>\n",
       "    <tr>\n",
       "      <th>0</th>\n",
       "      <td>T0</td>\n",
       "      <td>[-0.049743652, 0.009765625, 0.016052246, 0.254...</td>\n",
       "      <td>neutral</td>\n",
       "    </tr>\n",
       "    <tr>\n",
       "      <th>1</th>\n",
       "      <td>T1</td>\n",
       "      <td>[-0.04901123, 0.014404297, -0.03338623, 0.1102...</td>\n",
       "      <td>negative</td>\n",
       "    </tr>\n",
       "    <tr>\n",
       "      <th>2</th>\n",
       "      <td>T2</td>\n",
       "      <td>[0.0037750243, 0.0413723, -0.0053283693, 0.021...</td>\n",
       "      <td>positive</td>\n",
       "    </tr>\n",
       "    <tr>\n",
       "      <th>3</th>\n",
       "      <td>T3</td>\n",
       "      <td>[0.07572937, -0.060114544, 0.0022684734, 0.022...</td>\n",
       "      <td>negative</td>\n",
       "    </tr>\n",
       "    <tr>\n",
       "      <th>4</th>\n",
       "      <td>T4</td>\n",
       "      <td>[0.04239909, -0.030232748, 0.063201904, 0.1782...</td>\n",
       "      <td>negative</td>\n",
       "    </tr>\n",
       "    <tr>\n",
       "      <th>...</th>\n",
       "      <td>...</td>\n",
       "      <td>...</td>\n",
       "      <td>...</td>\n",
       "    </tr>\n",
       "    <tr>\n",
       "      <th>11675</th>\n",
       "      <td>T11675</td>\n",
       "      <td>[0.033396404, 0.062032063, 0.10052109, -0.0342...</td>\n",
       "      <td>negative</td>\n",
       "    </tr>\n",
       "    <tr>\n",
       "      <th>11676</th>\n",
       "      <td>T11676</td>\n",
       "      <td>[-0.0014038086, 0.026733398, 0.106544495, 0.01...</td>\n",
       "      <td>negative</td>\n",
       "    </tr>\n",
       "    <tr>\n",
       "      <th>11677</th>\n",
       "      <td>T11677</td>\n",
       "      <td>[0.004248047, 0.068408206, 0.04409485, 0.17875...</td>\n",
       "      <td>neutral</td>\n",
       "    </tr>\n",
       "    <tr>\n",
       "      <th>11678</th>\n",
       "      <td>T11678</td>\n",
       "      <td>[0.06571139, 0.010967548, 0.0023249113, 0.1097...</td>\n",
       "      <td>negative</td>\n",
       "    </tr>\n",
       "    <tr>\n",
       "      <th>11679</th>\n",
       "      <td>T11679</td>\n",
       "      <td>[0.025065104, 0.01340739, -0.0039876304, 0.138...</td>\n",
       "      <td>positive</td>\n",
       "    </tr>\n",
       "  </tbody>\n",
       "</table>\n",
       "<p>11680 rows × 3 columns</p>\n",
       "</div>"
      ],
      "text/plain": [
       "        Tweet                                           Features Sentiment\n",
       "0          T0  [-0.049743652, 0.009765625, 0.016052246, 0.254...   neutral\n",
       "1          T1  [-0.04901123, 0.014404297, -0.03338623, 0.1102...  negative\n",
       "2          T2  [0.0037750243, 0.0413723, -0.0053283693, 0.021...  positive\n",
       "3          T3  [0.07572937, -0.060114544, 0.0022684734, 0.022...  negative\n",
       "4          T4  [0.04239909, -0.030232748, 0.063201904, 0.1782...  negative\n",
       "...       ...                                                ...       ...\n",
       "11675  T11675  [0.033396404, 0.062032063, 0.10052109, -0.0342...  negative\n",
       "11676  T11676  [-0.0014038086, 0.026733398, 0.106544495, 0.01...  negative\n",
       "11677  T11677  [0.004248047, 0.068408206, 0.04409485, 0.17875...   neutral\n",
       "11678  T11678  [0.06571139, 0.010967548, 0.0023249113, 0.1097...  negative\n",
       "11679  T11679  [0.025065104, 0.01340739, -0.0039876304, 0.138...  positive\n",
       "\n",
       "[11680 rows x 3 columns]"
      ]
     },
     "metadata": {},
     "output_type": "display_data"
    }
   ],
   "source": [
    "def extract_features(text):\n",
    "  words = [word for word in text.split() if word in word2vec.vocab]\n",
    "  return np.mean(word2vec[words], axis=0)\n",
    "# text = \"This is a cat\"\n",
    "# text_embedding = extract_features(text)\n",
    "# print(text_embedding)\n",
    "# print (\"Shape of embedding: \", text_embedding.shape)\n",
    "\n",
    "\n",
    "#word2vec for train\n",
    "\n",
    "\n",
    "tweets = ['T' + str(i) for i in range(len(train))]\n",
    "\n",
    "w2vTrain = pd.DataFrame(tweets, columns =['Tweet'])\n",
    "\n",
    "w2vTrain['Features'] = train.apply(lambda row: extract_features(row[\"Tweet\"]),axis=1)\n",
    "\n",
    "\n",
    "\n",
    "w2vTrain['Sentiment'] = train['Sentiment']\n",
    "\n",
    "display(w2vTrain)"
   ]
  },
  {
   "cell_type": "code",
   "execution_count": 32,
   "metadata": {},
   "outputs": [
    {
     "data": {
      "text/html": [
       "<div>\n",
       "<style scoped>\n",
       "    .dataframe tbody tr th:only-of-type {\n",
       "        vertical-align: middle;\n",
       "    }\n",
       "\n",
       "    .dataframe tbody tr th {\n",
       "        vertical-align: top;\n",
       "    }\n",
       "\n",
       "    .dataframe thead th {\n",
       "        text-align: right;\n",
       "    }\n",
       "</style>\n",
       "<table border=\"1\" class=\"dataframe\">\n",
       "  <thead>\n",
       "    <tr style=\"text-align: right;\">\n",
       "      <th></th>\n",
       "      <th>Tweet</th>\n",
       "      <th>Features</th>\n",
       "      <th>Sentiment</th>\n",
       "    </tr>\n",
       "  </thead>\n",
       "  <tbody>\n",
       "    <tr>\n",
       "      <th>0</th>\n",
       "      <td>T0</td>\n",
       "      <td>[-0.052124023, -0.025878906, -0.1665039, -0.05...</td>\n",
       "      <td>neutral</td>\n",
       "    </tr>\n",
       "    <tr>\n",
       "      <th>1</th>\n",
       "      <td>T1</td>\n",
       "      <td>[-0.01133728, 0.011459351, 0.006072998, 0.1003...</td>\n",
       "      <td>positive</td>\n",
       "    </tr>\n",
       "    <tr>\n",
       "      <th>2</th>\n",
       "      <td>T2</td>\n",
       "      <td>[-0.04442342, 0.0035807292, -0.09275309, 0.146...</td>\n",
       "      <td>negative</td>\n",
       "    </tr>\n",
       "    <tr>\n",
       "      <th>3</th>\n",
       "      <td>T3</td>\n",
       "      <td>[0.049312048, -0.0030343193, -0.051108222, 0.0...</td>\n",
       "      <td>negative</td>\n",
       "    </tr>\n",
       "    <tr>\n",
       "      <th>4</th>\n",
       "      <td>T4</td>\n",
       "      <td>[0.06750488, 0.13303375, 0.004333496, 0.142150...</td>\n",
       "      <td>negative</td>\n",
       "    </tr>\n",
       "    <tr>\n",
       "      <th>...</th>\n",
       "      <td>...</td>\n",
       "      <td>...</td>\n",
       "      <td>...</td>\n",
       "    </tr>\n",
       "    <tr>\n",
       "      <th>2916</th>\n",
       "      <td>T2916</td>\n",
       "      <td>[0.00789388, -0.016316732, 0.023885092, 0.0580...</td>\n",
       "      <td>negative</td>\n",
       "    </tr>\n",
       "    <tr>\n",
       "      <th>2917</th>\n",
       "      <td>T2917</td>\n",
       "      <td>[-0.051171876, 0.023046875, 0.034448244, 0.115...</td>\n",
       "      <td>neutral</td>\n",
       "    </tr>\n",
       "    <tr>\n",
       "      <th>2918</th>\n",
       "      <td>T2918</td>\n",
       "      <td>[-0.11027832, -0.0024414062, 0.009741211, 0.06...</td>\n",
       "      <td>negative</td>\n",
       "    </tr>\n",
       "    <tr>\n",
       "      <th>2919</th>\n",
       "      <td>T2919</td>\n",
       "      <td>[-0.028148651, 0.022649765, -0.006084442, 0.11...</td>\n",
       "      <td>negative</td>\n",
       "    </tr>\n",
       "    <tr>\n",
       "      <th>2920</th>\n",
       "      <td>T2920</td>\n",
       "      <td>[0.0032348633, 0.010253906, 0.048523586, 0.137...</td>\n",
       "      <td>negative</td>\n",
       "    </tr>\n",
       "  </tbody>\n",
       "</table>\n",
       "<p>2921 rows × 3 columns</p>\n",
       "</div>"
      ],
      "text/plain": [
       "      Tweet                                           Features Sentiment\n",
       "0        T0  [-0.052124023, -0.025878906, -0.1665039, -0.05...   neutral\n",
       "1        T1  [-0.01133728, 0.011459351, 0.006072998, 0.1003...  positive\n",
       "2        T2  [-0.04442342, 0.0035807292, -0.09275309, 0.146...  negative\n",
       "3        T3  [0.049312048, -0.0030343193, -0.051108222, 0.0...  negative\n",
       "4        T4  [0.06750488, 0.13303375, 0.004333496, 0.142150...  negative\n",
       "...     ...                                                ...       ...\n",
       "2916  T2916  [0.00789388, -0.016316732, 0.023885092, 0.0580...  negative\n",
       "2917  T2917  [-0.051171876, 0.023046875, 0.034448244, 0.115...   neutral\n",
       "2918  T2918  [-0.11027832, -0.0024414062, 0.009741211, 0.06...  negative\n",
       "2919  T2919  [-0.028148651, 0.022649765, -0.006084442, 0.11...  negative\n",
       "2920  T2920  [0.0032348633, 0.010253906, 0.048523586, 0.137...  negative\n",
       "\n",
       "[2921 rows x 3 columns]"
      ]
     },
     "metadata": {},
     "output_type": "display_data"
    }
   ],
   "source": [
    "#word2vec for test\n",
    "tweets = ['T' + str(i) for i in range(len(test))]\n",
    "\n",
    "w2vTest = pd.DataFrame(tweets, columns =['Tweet'])\n",
    "\n",
    "w2vTest['Features'] = test.apply(lambda row: extract_features(row[\"Tweet\"]),axis=1)\n",
    "\n",
    "\n",
    "\n",
    "w2vTest['Sentiment'] = test['Sentiment']\n",
    "\n",
    "display(w2vTest)"
   ]
  },
  {
   "cell_type": "code",
   "execution_count": null,
   "metadata": {},
   "outputs": [],
   "source": [
    "#Running Part 1 with word2vec"
   ]
  },
  {
   "cell_type": "code",
   "execution_count": 36,
   "metadata": {},
   "outputs": [
    {
     "data": {
      "text/plain": [
       "array([[2.69019712, 2.79793294, 1.83034948, ..., 1.93712061, 1.80138317,\n",
       "        2.0824457 ],\n",
       "       [1.96460592, 2.19461426, 1.09740998, ..., 1.27281087, 1.19901442,\n",
       "        1.24582877],\n",
       "       [1.85241538, 1.98462346, 1.18644045, ..., 1.5332906 , 1.29633297,\n",
       "        1.2252636 ],\n",
       "       ...,\n",
       "       [2.10170804, 2.3139236 , 1.26657948, ..., 1.40530162, 1.32680592,\n",
       "        1.43857488],\n",
       "       [2.05167049, 2.23735504, 0.91142546, ..., 1.06562034, 1.05115237,\n",
       "        1.22499041],\n",
       "       [2.0044054 , 2.22095015, 1.01167157, ..., 1.17402252, 1.09766111,\n",
       "        1.21537876]])"
      ]
     },
     "metadata": {},
     "output_type": "display_data"
    },
    {
     "data": {
      "text/plain": [
       "2921"
      ]
     },
     "metadata": {},
     "output_type": "display_data"
    }
   ],
   "source": [
    "#Calculating euclidean distances\n",
    "TrainFeatures = w2vTrain['Features'].tolist()\n",
    "TestFeatures = w2vTest['Features'].tolist()\n",
    "\n",
    "distances = distance.cdist(TestFeatures,TrainFeatures,'euclidean')\n"
   ]
  },
  {
   "cell_type": "code",
   "execution_count": 38,
   "metadata": {},
   "outputs": [],
   "source": [
    "#Predicting Labels\n",
    "\n",
    "distances = np.array(distances)\n",
    "\n",
    "ks = {1,3,5,7,10}\n",
    "trainlabels = w2vTrain[\"Sentiment\"].tolist()\n",
    "\n",
    "predictedlabelsForEachK = []\n",
    "\n",
    "for k in ks:\n",
    "    predictedlabels = []\n",
    "    for distanceVector in distances:\n",
    "        \n",
    "        label_distances = list(map(lambda x, y:(x,y), trainlabels, distanceVector))\n",
    "\n",
    "        sorted_label_distances = sorted(label_distances, key = lambda x: x[1]) \n",
    "\n",
    "        while k >= 1:\n",
    "\n",
    "\n",
    "            nns = sorted_label_distances[:k]\n",
    "            counts = Counter(x[0] for x in nns)\n",
    "            c1 = counts['positive']\n",
    "            c2 = counts['negative']\n",
    "            c3 = counts['neutral']\n",
    "\n",
    "       \n",
    "\n",
    "            if c1 == c2 == c3:\n",
    "                k-=1\n",
    "\n",
    "            elif c1 == c2 and c1 > c3 and c2 > c3:\n",
    "                k-=1\n",
    "\n",
    "            elif c1 == c3 and c1 > c2 and c3 > c2:\n",
    "                k-=1\n",
    "\n",
    "            elif c2 == c3 and c2 > c1 and c3 > c1:\n",
    "                k-=1\n",
    "\n",
    "            elif c2 == c3 and c2 < c1 and c3 < c1:\n",
    "                #c1\n",
    "                predictedlabels.append('positive')\n",
    "                break\n",
    "\n",
    "            elif c1 == c3 and c1 < c2 and c3 < c2:\n",
    "                #c2\n",
    "                predictedlabels.append('negative')\n",
    "                break\n",
    "            elif c2 == c3 and c2 < c1 and c3 < c1:\n",
    "                #c3\n",
    "                predictedlabels.append('neutral')\n",
    "                break\n",
    "            elif c1 > c2 and c1 > c3:\n",
    "                #c1\n",
    "                predictedlabels.append('positive')\n",
    "                break\n",
    "            elif c2 > c1 and c2 > c3: \n",
    "                #c2\n",
    "                predictedlabels.append('negative')\n",
    "                break\n",
    "\n",
    "            elif c3 > c1 and c3 > c2:   \n",
    "                #c3\n",
    "                predictedlabels.append('neutral')\n",
    "                break\n",
    "\n",
    "    \n",
    "        \n",
    "\n",
    "\n",
    "    prediction = pd.DataFrame({'Predicted Sentiment':predictedlabels})\n",
    "    prediction[\"Actual Sentiment\"] = test[\"Sentiment\"]\n",
    "\n",
    "    predictedlabelsForEachK.append(prediction)\n",
    "    \n"
   ]
  },
  {
   "cell_type": "code",
   "execution_count": 39,
   "metadata": {},
   "outputs": [
    {
     "data": {
      "text/plain": [
       "[0.7004450530640192,\n",
       " 0.7021567956179391,\n",
       " 0.7021567956179391,\n",
       " 0.7011297500855871,\n",
       " 0.7011297500855871]"
      ]
     },
     "metadata": {},
     "output_type": "display_data"
    }
   ],
   "source": [
    "#accuracies\n",
    "\n",
    "def f(col1, col2):\n",
    "    if col1 == col2:\n",
    "        return 1\n",
    "    else:\n",
    "        return 0\n",
    "\n",
    "accuracies = []\n",
    "for i,k in enumerate(ks):\n",
    "    prediction = predictedlabelsForEachK[i]\n",
    "#     display(prediction)\n",
    "\n",
    "\n",
    "\n",
    "\n",
    "        \n",
    "        \n",
    "#         display(x['Predicted Sentiment'])\n",
    "#         display(x['Actual Sentiment'])\n",
    "   \n",
    "\n",
    "    temp = prediction\n",
    "\n",
    "    temp[\"Count\"] = temp.apply(lambda x: f(x['Predicted Sentiment'], x['Actual Sentiment']), axis=1)\n",
    "\n",
    "#     temp[\"Count\"] = temp[\"Count\"].fillna(0)\n",
    "\n",
    "    matches = temp[\"Count\"].sum()\n",
    "    samples = prediction.shape[0]\n",
    "\n",
    "    accuracy = matches / samples\n",
    "    \n",
    "    accuracies.append(accuracy)\n",
    "\n",
    "display(accuracies)"
   ]
  },
  {
   "cell_type": "code",
   "execution_count": 40,
   "metadata": {},
   "outputs": [
    {
     "data": {
      "text/html": [
       "<div>\n",
       "<style scoped>\n",
       "    .dataframe tbody tr th:only-of-type {\n",
       "        vertical-align: middle;\n",
       "    }\n",
       "\n",
       "    .dataframe tbody tr th {\n",
       "        vertical-align: top;\n",
       "    }\n",
       "\n",
       "    .dataframe thead th {\n",
       "        text-align: right;\n",
       "    }\n",
       "</style>\n",
       "<table border=\"1\" class=\"dataframe\">\n",
       "  <thead>\n",
       "    <tr style=\"text-align: right;\">\n",
       "      <th></th>\n",
       "      <th>pos</th>\n",
       "      <th>neg</th>\n",
       "      <th>neu</th>\n",
       "    </tr>\n",
       "  </thead>\n",
       "  <tbody>\n",
       "    <tr>\n",
       "      <th>pos</th>\n",
       "      <td>236</td>\n",
       "      <td>108</td>\n",
       "      <td>74</td>\n",
       "    </tr>\n",
       "    <tr>\n",
       "      <th>neg</th>\n",
       "      <td>149</td>\n",
       "      <td>1564</td>\n",
       "      <td>295</td>\n",
       "    </tr>\n",
       "    <tr>\n",
       "      <th>neu</th>\n",
       "      <td>87</td>\n",
       "      <td>162</td>\n",
       "      <td>246</td>\n",
       "    </tr>\n",
       "  </tbody>\n",
       "</table>\n",
       "</div>"
      ],
      "text/plain": [
       "     pos   neg  neu\n",
       "pos  236   108   74\n",
       "neg  149  1564  295\n",
       "neu   87   162  246"
      ]
     },
     "metadata": {},
     "output_type": "display_data"
    },
    {
     "data": {
      "text/html": [
       "<div>\n",
       "<style scoped>\n",
       "    .dataframe tbody tr th:only-of-type {\n",
       "        vertical-align: middle;\n",
       "    }\n",
       "\n",
       "    .dataframe tbody tr th {\n",
       "        vertical-align: top;\n",
       "    }\n",
       "\n",
       "    .dataframe thead th {\n",
       "        text-align: right;\n",
       "    }\n",
       "</style>\n",
       "<table border=\"1\" class=\"dataframe\">\n",
       "  <thead>\n",
       "    <tr style=\"text-align: right;\">\n",
       "      <th></th>\n",
       "      <th>pos</th>\n",
       "      <th>neg</th>\n",
       "      <th>neu</th>\n",
       "    </tr>\n",
       "  </thead>\n",
       "  <tbody>\n",
       "    <tr>\n",
       "      <th>pos</th>\n",
       "      <td>236</td>\n",
       "      <td>106</td>\n",
       "      <td>74</td>\n",
       "    </tr>\n",
       "    <tr>\n",
       "      <th>neg</th>\n",
       "      <td>149</td>\n",
       "      <td>1569</td>\n",
       "      <td>295</td>\n",
       "    </tr>\n",
       "    <tr>\n",
       "      <th>neu</th>\n",
       "      <td>87</td>\n",
       "      <td>159</td>\n",
       "      <td>246</td>\n",
       "    </tr>\n",
       "  </tbody>\n",
       "</table>\n",
       "</div>"
      ],
      "text/plain": [
       "     pos   neg  neu\n",
       "pos  236   106   74\n",
       "neg  149  1569  295\n",
       "neu   87   159  246"
      ]
     },
     "metadata": {},
     "output_type": "display_data"
    },
    {
     "data": {
      "text/html": [
       "<div>\n",
       "<style scoped>\n",
       "    .dataframe tbody tr th:only-of-type {\n",
       "        vertical-align: middle;\n",
       "    }\n",
       "\n",
       "    .dataframe tbody tr th {\n",
       "        vertical-align: top;\n",
       "    }\n",
       "\n",
       "    .dataframe thead th {\n",
       "        text-align: right;\n",
       "    }\n",
       "</style>\n",
       "<table border=\"1\" class=\"dataframe\">\n",
       "  <thead>\n",
       "    <tr style=\"text-align: right;\">\n",
       "      <th></th>\n",
       "      <th>pos</th>\n",
       "      <th>neg</th>\n",
       "      <th>neu</th>\n",
       "    </tr>\n",
       "  </thead>\n",
       "  <tbody>\n",
       "    <tr>\n",
       "      <th>pos</th>\n",
       "      <td>237</td>\n",
       "      <td>106</td>\n",
       "      <td>74</td>\n",
       "    </tr>\n",
       "    <tr>\n",
       "      <th>neg</th>\n",
       "      <td>150</td>\n",
       "      <td>1570</td>\n",
       "      <td>297</td>\n",
       "    </tr>\n",
       "    <tr>\n",
       "      <th>neu</th>\n",
       "      <td>85</td>\n",
       "      <td>158</td>\n",
       "      <td>244</td>\n",
       "    </tr>\n",
       "  </tbody>\n",
       "</table>\n",
       "</div>"
      ],
      "text/plain": [
       "     pos   neg  neu\n",
       "pos  237   106   74\n",
       "neg  150  1570  297\n",
       "neu   85   158  244"
      ]
     },
     "metadata": {},
     "output_type": "display_data"
    },
    {
     "data": {
      "text/html": [
       "<div>\n",
       "<style scoped>\n",
       "    .dataframe tbody tr th:only-of-type {\n",
       "        vertical-align: middle;\n",
       "    }\n",
       "\n",
       "    .dataframe tbody tr th {\n",
       "        vertical-align: top;\n",
       "    }\n",
       "\n",
       "    .dataframe thead th {\n",
       "        text-align: right;\n",
       "    }\n",
       "</style>\n",
       "<table border=\"1\" class=\"dataframe\">\n",
       "  <thead>\n",
       "    <tr style=\"text-align: right;\">\n",
       "      <th></th>\n",
       "      <th>pos</th>\n",
       "      <th>neg</th>\n",
       "      <th>neu</th>\n",
       "    </tr>\n",
       "  </thead>\n",
       "  <tbody>\n",
       "    <tr>\n",
       "      <th>pos</th>\n",
       "      <td>237</td>\n",
       "      <td>106</td>\n",
       "      <td>73</td>\n",
       "    </tr>\n",
       "    <tr>\n",
       "      <th>neg</th>\n",
       "      <td>151</td>\n",
       "      <td>1571</td>\n",
       "      <td>302</td>\n",
       "    </tr>\n",
       "    <tr>\n",
       "      <th>neu</th>\n",
       "      <td>84</td>\n",
       "      <td>157</td>\n",
       "      <td>240</td>\n",
       "    </tr>\n",
       "  </tbody>\n",
       "</table>\n",
       "</div>"
      ],
      "text/plain": [
       "     pos   neg  neu\n",
       "pos  237   106   73\n",
       "neg  151  1571  302\n",
       "neu   84   157  240"
      ]
     },
     "metadata": {},
     "output_type": "display_data"
    },
    {
     "data": {
      "text/html": [
       "<div>\n",
       "<style scoped>\n",
       "    .dataframe tbody tr th:only-of-type {\n",
       "        vertical-align: middle;\n",
       "    }\n",
       "\n",
       "    .dataframe tbody tr th {\n",
       "        vertical-align: top;\n",
       "    }\n",
       "\n",
       "    .dataframe thead th {\n",
       "        text-align: right;\n",
       "    }\n",
       "</style>\n",
       "<table border=\"1\" class=\"dataframe\">\n",
       "  <thead>\n",
       "    <tr style=\"text-align: right;\">\n",
       "      <th></th>\n",
       "      <th>pos</th>\n",
       "      <th>neg</th>\n",
       "      <th>neu</th>\n",
       "    </tr>\n",
       "  </thead>\n",
       "  <tbody>\n",
       "    <tr>\n",
       "      <th>pos</th>\n",
       "      <td>237</td>\n",
       "      <td>105</td>\n",
       "      <td>73</td>\n",
       "    </tr>\n",
       "    <tr>\n",
       "      <th>neg</th>\n",
       "      <td>150</td>\n",
       "      <td>1573</td>\n",
       "      <td>304</td>\n",
       "    </tr>\n",
       "    <tr>\n",
       "      <th>neu</th>\n",
       "      <td>85</td>\n",
       "      <td>156</td>\n",
       "      <td>238</td>\n",
       "    </tr>\n",
       "  </tbody>\n",
       "</table>\n",
       "</div>"
      ],
      "text/plain": [
       "     pos   neg  neu\n",
       "pos  237   105   73\n",
       "neg  150  1573  304\n",
       "neu   85   156  238"
      ]
     },
     "metadata": {},
     "output_type": "display_data"
    }
   ],
   "source": [
    "#cms\n",
    "def g(col1, col2, cm):\n",
    "    if col1 == \"positive\" and col2 == \"positive\":\n",
    "        cm.at['pos', 'pos'] += 1\n",
    "    elif col1 == \"positive\" and col2 == \"negative\":\n",
    "        cm.at['pos','neg'] +=1\n",
    "    elif col1 == \"positive\" and col2 == \"neutral\":\n",
    "        cm.at['pos','neu'] +=1\n",
    "    elif col1 == \"negative\" and col2 == \"positive\":\n",
    "        cm.at['neg','pos'] +=1\n",
    "    elif col1 == \"negative\" and col2 == \"negative\":\n",
    "        cm.at['neg','neg'] +=1   \n",
    "    elif col1 == \"negative\" and col2 == \"neutral\":\n",
    "        cm.at['neg','neu'] +=1   \n",
    "    elif col1 == \"neutral\" and col2 == \"positive\":\n",
    "        cm.at['neu','pos'] +=1\n",
    "    elif col1 == \"neutral\" and col2 == \"negative\":\n",
    "        cm.at['neu','neg'] +=1\n",
    "    elif col1 == \"neutral\" and col2 == \"neutral\":\n",
    "        cm.at['neu','neu'] +=1\n",
    "\n",
    "        \n",
    "        \n",
    "    \n",
    "cms = []\n",
    "for i,k in enumerate(ks):\n",
    "     prediction = predictedlabelsForEachK[i]\n",
    "#      actual = np.array(prediction['Actual Sentiment'])\n",
    "#      pred = np.array(prediction['Predicted Sentiment'])\n",
    "#      classes = 3\n",
    "     cm = pd.DataFrame(index=['pos','neg','neu'], columns=['pos','neg','neu'])\n",
    "     cm = cm.fillna(0)\n",
    "     \n",
    "    \n",
    "        \n",
    "     \n",
    "     prediction.apply(lambda x: g(x['Predicted Sentiment'], x['Actual Sentiment'],cm), axis=1) \n",
    "     \n",
    "     display(cm)\n",
    "     cms.append(cm)\n",
    "#      for col in cm.columns:\n",
    "#          cm[col].values[:] = 0\n",
    "    "
   ]
  },
  {
   "cell_type": "code",
   "execution_count": 41,
   "metadata": {},
   "outputs": [
    {
     "data": {
      "text/plain": [
       "[0.7004450530640192,\n",
       " 0.7021567956179391,\n",
       " 0.7021567956179391,\n",
       " 0.7011297500855871,\n",
       " 0.7011297500855871]"
      ]
     },
     "metadata": {},
     "output_type": "display_data"
    },
    {
     "data": {
      "text/plain": [
       "[0.613482486852166,\n",
       " 0.6155804577935725,\n",
       " 0.6159185853370895,\n",
       " 0.6149526027243418,\n",
       " 0.6146588312189282]"
      ]
     },
     "metadata": {},
     "output_type": "display_data"
    },
    {
     "data": {
      "text/plain": [
       "[0.5842602689930935,\n",
       " 0.5851690294438385,\n",
       " 0.5849729853831448,\n",
       " 0.5829867157930769,\n",
       " 0.5822662091332667]"
      ]
     },
     "metadata": {},
     "output_type": "display_data"
    },
    {
     "data": {
      "text/plain": [
       "[0.5959132046434422,\n",
       " 0.5972255072852941,\n",
       " 0.59712906617918,\n",
       " 0.5953838667992214,\n",
       " 0.594766977531907]"
      ]
     },
     "metadata": {},
     "output_type": "display_data"
    }
   ],
   "source": [
    "#precisions, recalls and f1s\n",
    "classes = ['pos','neg','neu']\n",
    "precisions = []\n",
    "recalls = []\n",
    "f1s = []\n",
    "ks = [1,3,5,7,10]\n",
    "for cm in cms:\n",
    "    \n",
    "    tp = 0\n",
    "    tn = 0\n",
    "    fp = 0\n",
    "    fn = 0\n",
    "    precision = 0\n",
    "    recall = 0\n",
    "    f1 = 0\n",
    "    for c in classes:\n",
    "        if c == 'pos':\n",
    "            tp = cm.at['pos','pos']\n",
    "            tn = cm.at['neg','neg'] + cm.at['neg','neu'] + cm.at['neu','neg'] + cm.at['neu','neu']\n",
    "            fp = cm.at['pos','neg'] + cm.at['pos','neu']\n",
    "            fn = cm.at['neg','pos'] + cm.at['neu','pos']\n",
    "            precision += tp / (tp + fp)\n",
    "            recall += tp / (tp + fn)\n",
    "            f1 += (2*tp) / (2*tp + fp + fn)\n",
    "        elif c == 'neg':\n",
    "            tp = cm.at['neg','neg']\n",
    "            tn = cm.at['pos','pos'] + cm.at['pos','neu'] + cm.at['neu','pos'] + cm.at['neu','neu']\n",
    "            fp = cm.at['neg','pos'] + cm.at['neg','neu']\n",
    "            fn = cm.at['pos','neg'] + cm.at['neu','neg']\n",
    "            precision += tp / (tp + fp)\n",
    "            recall += tp / (tp + fn)\n",
    "            f1 += (2*tp) / (2*tp + fp + fn)\n",
    "            \n",
    "        elif c == 'neu':\n",
    "            tp = cm.at['neu','neu']\n",
    "            tn = cm.at['pos','pos'] + cm.at['pos','neg'] + cm.at['neg','pos'] + cm.at['neg','neg']\n",
    "            fp = cm.at['neu','neg'] + cm.at['neu','pos']\n",
    "            fn = cm.at['pos','neu'] + cm.at['neg','neu']\n",
    "            precision += tp / (tp + fp)\n",
    "            recall += tp / (tp + fn)\n",
    "            f1 += (2*tp) / (2*tp + fp + fn)\n",
    "            \n",
    "    \n",
    "    precisions.append(precision / 3)\n",
    "    recalls.append(recall / 3)\n",
    "    f1s.append(f1 / 3)\n",
    "\n",
    "display(accuracies)\n",
    "display(precisions)\n",
    "display(recalls)\n",
    "display(f1s)\n",
    "        "
   ]
  },
  {
   "cell_type": "code",
   "execution_count": 42,
   "metadata": {
    "scrolled": true
   },
   "outputs": [
    {
     "data": {
      "text/plain": [
       "Text(0.5, 1.0, 'k against Accuracy')"
      ]
     },
     "execution_count": 42,
     "metadata": {},
     "output_type": "execute_result"
    },
    {
     "data": {
      "image/png": "[encoded data removed]",
      "text/plain": [
       "<Figure size 432x288 with 1 Axes>"
      ]
     },
     "metadata": {
      "needs_background": "light"
     },
     "output_type": "display_data"
    }
   ],
   "source": [
    "#k vs accuracy\n",
    "plt.plot(ks, accuracies)\n",
    "plt.xlabel('k')\n",
    "plt.ylabel('Accuracy')\n",
    "plt.title('k against Accuracy')"
   ]
  },
  {
   "cell_type": "code",
   "execution_count": 43,
   "metadata": {},
   "outputs": [
    {
     "data": {
      "text/plain": [
       "Text(0.5, 1.0, 'k against Precision')"
      ]
     },
     "execution_count": 43,
     "metadata": {},
     "output_type": "execute_result"
    },
    {
     "data": {
      "image/png": "[encoded data removed]",
      "text/plain": [
       "<Figure size 432x288 with 1 Axes>"
      ]
     },
     "metadata": {
      "needs_background": "light"
     },
     "output_type": "display_data"
    }
   ],
   "source": [
    "#k vs precision\n",
    "plt.plot(ks, precisions)\n",
    "plt.xlabel('k')\n",
    "plt.ylabel('Precision')\n",
    "plt.title('k against Precision')"
   ]
  },
  {
   "cell_type": "code",
   "execution_count": 44,
   "metadata": {},
   "outputs": [
    {
     "data": {
      "text/plain": [
       "Text(0.5, 1.0, 'k against Recall')"
      ]
     },
     "execution_count": 44,
     "metadata": {},
     "output_type": "execute_result"
    },
    {
     "data": {
      "image/png": "[encoded data removed]",
      "text/plain": [
       "<Figure size 432x288 with 1 Axes>"
      ]
     },
     "metadata": {
      "needs_background": "light"
     },
     "output_type": "display_data"
    }
   ],
   "source": [
    "#k vs recall\n",
    "plt.plot(ks, recalls)\n",
    "plt.xlabel('k')\n",
    "plt.ylabel('Recall')\n",
    "plt.title('k against Recall')"
   ]
  },
  {
   "cell_type": "code",
   "execution_count": 45,
   "metadata": {},
   "outputs": [
    {
     "data": {
      "text/plain": [
       "Text(0.5, 1.0, 'k against F1')"
      ]
     },
     "execution_count": 45,
     "metadata": {},
     "output_type": "execute_result"
    },
    {
     "data": {
      "image/png": "[encoded data removed]",
      "text/plain": [
       "<Figure size 432x288 with 1 Axes>"
      ]
     },
     "metadata": {
      "needs_background": "light"
     },
     "output_type": "display_data"
    }
   ],
   "source": [
    "#k vs f1\n",
    "plt.plot(ks, f1s)\n",
    "plt.xlabel('k')\n",
    "plt.ylabel('F1')\n",
    "plt.title('k against F1')"
   ]
  },
  {
   "cell_type": "code",
   "execution_count": 64,
   "metadata": {},
   "outputs": [
    {
     "data": {
      "text/plain": [
       "array([array([-0.04974365,  0.00976562,  0.01605225,  0.2548828 , -0.2866211 ,\n",
       "       -0.03500366, -0.05438232, -0.2578125 ,  0.07543945, -0.00804901,\n",
       "        0.01947021,  0.05761719, -0.18701172,  0.07714844,  0.08605957,\n",
       "       -0.046875  ,  0.15478516,  0.23291016,  0.10913086, -0.08935547,\n",
       "       -0.00878906,  0.02294922,  0.22851562, -0.06946564, -0.08544922,\n",
       "        0.18603516,  0.06396484,  0.10327148,  0.06915283, -0.19873047,\n",
       "        0.00280762, -0.03868103,  0.00042725, -0.02001953, -0.00976562,\n",
       "        0.03356934, -0.00439453,  0.16870117,  0.03240967,  0.08456421,\n",
       "       -0.0715332 , -0.03723145,  0.17578125,  0.052948  ,  0.04052734,\n",
       "       -0.1003418 , -0.08544922, -0.17138672, -0.18457031,  0.21484375,\n",
       "        0.05791473,  0.12426758,  0.03173828,  0.09106445,  0.00474358,\n",
       "       -0.03491211, -0.3154297 , -0.11633301, -0.2097168 , -0.07202148,\n",
       "        0.0760498 , -0.07458496, -0.15283203, -0.15361023, -0.06506348,\n",
       "       -0.03125   , -0.11120605,  0.14831543,  0.05938721,  0.04846191,\n",
       "       -0.02233887,  0.1459961 ,  0.14160156, -0.00341797, -0.048172  ,\n",
       "       -0.03442383,  0.11218262, -0.09228516,  0.11962891, -0.04882812,\n",
       "       -0.19921875, -0.01275635,  0.02023315, -0.05369568, -0.04940796,\n",
       "        0.03710938, -0.03741455, -0.11914062,  0.04083252,  0.17529297,\n",
       "       -0.0480957 , -0.10913086, -0.04264832, -0.08325195, -0.18603516,\n",
       "        0.10675049, -0.14257812, -0.20458984,  0.13427734, -0.19677734,\n",
       "       -0.13232422,  0.0247345 ,  0.12072754,  0.05627441,  0.05249023,\n",
       "        0.14404297,  0.06628418, -0.08117676,  0.13134766,  0.01757812,\n",
       "       -0.11871338, -0.12158203,  0.15673828,  0.00537109,  0.10559082,\n",
       "        0.12472534, -0.0078125 , -0.25146484,  0.11584473, -0.06733322,\n",
       "        0.13476562, -0.13061523, -0.05505371, -0.04400635, -0.04589844,\n",
       "       -0.15771484, -0.03417969, -0.02246094,  0.04907227,  0.13183594,\n",
       "        0.06225586, -0.00735474,  0.01617432, -0.06219482, -0.02856445,\n",
       "       -0.10107422, -0.10546875, -0.03515625,  0.16992188,  0.10061646,\n",
       "       -0.01635742, -0.11535645, -0.02868652,  0.01123047, -0.06811523,\n",
       "       -0.05615234, -0.0802002 ,  0.01477051,  0.12963867, -0.13336182,\n",
       "        0.12304688,  0.05517578,  0.05859375, -0.14111328,  0.08435059,\n",
       "       -0.11450195,  0.01083374, -0.01708984,  0.24182129,  0.02532959,\n",
       "       -0.1796875 , -0.06842041,  0.2685547 , -0.07577515,  0.11865234,\n",
       "       -0.19152832,  0.09130859, -0.04016113, -0.296875  ,  0.06958008,\n",
       "       -0.26123047, -0.0390625 ,  0.08129883, -0.18493652, -0.05419922,\n",
       "        0.02789307,  0.10559082, -0.08349609,  0.11743164, -0.22607422,\n",
       "       -0.03735352, -0.13256836, -0.14868164, -0.02947998,  0.01733398,\n",
       "       -0.09060669, -0.05432129, -0.07983398, -0.17089844,  0.01416016,\n",
       "       -0.00939941,  0.08044434, -0.01879883, -0.10058594,  0.06054688,\n",
       "        0.09378052,  0.13192749,  0.2915039 , -0.14500427, -0.05212402,\n",
       "       -0.11328125, -0.07647705,  0.08907318, -0.23925781, -0.06123734,\n",
       "       -0.03656006,  0.02406311,  0.0355835 ,  0.00830078, -0.0078125 ,\n",
       "       -0.05480957,  0.22167969, -0.19970703, -0.01635742, -0.20507812,\n",
       "        0.04437256,  0.12133789, -0.11779785, -0.01672363,  0.25146484,\n",
       "        0.01693726, -0.10864258,  0.20605469,  0.25341797, -0.02215576,\n",
       "       -0.109375  ,  0.14697266,  0.00500488, -0.04937744,  0.02099609,\n",
       "       -0.15893555, -0.02890015,  0.09716797,  0.00195312,  0.09204102,\n",
       "        0.03063965,  0.12524414, -0.04199219,  0.14990234,  0.03710938,\n",
       "        0.12545776, -0.10974121, -0.08068848,  0.08740234, -0.03076172,\n",
       "        0.12695312, -0.02416992,  0.03152466, -0.06530762, -0.01391602,\n",
       "        0.03674316,  0.12597656,  0.01647949,  0.06164551,  0.22460938,\n",
       "       -0.14294434, -0.12304688, -0.10070801,  0.13671875, -0.03613281,\n",
       "       -0.02441406, -0.1821289 ,  0.11743164, -0.14038086,  0.08251953,\n",
       "        0.16040039, -0.02993774, -0.05541992, -0.21862793, -0.03134155,\n",
       "       -0.02856445,  0.07836914,  0.02200317,  0.08013916,  0.21826172,\n",
       "        0.07446289, -0.13443565,  0.06555176, -0.2163086 ,  0.15646362,\n",
       "       -0.15429688,  0.14941406, -0.07806396, -0.02906036, -0.09558105,\n",
       "       -0.01513672,  0.00183105,  0.11474609, -0.02441406, -0.08422852,\n",
       "       -0.01367188,  0.04649734,  0.01708984,  0.10083008, -0.11218262,\n",
       "        0.05950928, -0.00073242, -0.12162781,  0.09594727,  0.05541992],\n",
       "      dtype=float32),\n",
       "       array([-0.04901123,  0.0144043 , -0.03338623,  0.11022949, -0.25854492,\n",
       "        0.13452148, -0.01593018, -0.1862793 ,  0.20996094,  0.06286621,\n",
       "       -0.01342773, -0.02844238, -0.16455078,  0.10375977, -0.09509277,\n",
       "       -0.06079102,  0.0645752 ,  0.10888672,  0.06286621, -0.20507812,\n",
       "        0.2319336 ,  0.11694336,  0.04980469,  0.02929688, -0.11132812,\n",
       "        0.1394043 ,  0.04980469,  0.09155273,  0.12695312, -0.14538574,\n",
       "       -0.04516602, -0.19848633, -0.07928467, -0.10791016,  0.05908203,\n",
       "        0.07751465,  0.14367676,  0.13186646, -0.00585938,  0.04443359,\n",
       "       -0.1628418 , -0.01464844, -0.04833984,  0.0463562 , -0.03930664,\n",
       "       -0.07202148, -0.05371094,  0.00927734, -0.234375  ,  0.11109543,\n",
       "        0.06375122,  0.04199219, -0.06811523,  0.04394531, -0.00880623,\n",
       "       -0.1887207 , -0.23144531, -0.11022949, -0.1651001 ,  0.01123047,\n",
       "        0.0234375 , -0.04821777, -0.09521484, -0.05029297, -0.20410156,\n",
       "        0.11450195, -0.04528809,  0.13391113,  0.02789307,  0.09460449,\n",
       "       -0.00344849, -0.0098877 ,  0.04956055, -0.14282227, -0.07006836,\n",
       "       -0.13549805, -0.00842285, -0.05419922,  0.12646484, -0.01416016,\n",
       "       -0.05273438,  0.04620361,  0.17477417, -0.1000824 , -0.08154297,\n",
       "       -0.04699707, -0.05841064, -0.14086914, -0.06903076,  0.1126709 ,\n",
       "        0.09570312, -0.05664062,  0.05525208, -0.08300781, -0.10620117,\n",
       "        0.13232422, -0.01757812, -0.0921936 ,  0.11230469,  0.00097656,\n",
       "       -0.3022461 ,  0.0513916 ,  0.18066406,  0.14221191, -0.02734375,\n",
       "        0.03564453, -0.07397461, -0.1640625 ,  0.38964844,  0.08044434,\n",
       "       -0.18310547, -0.02978516,  0.16259766,  0.03393555,  0.13110352,\n",
       "        0.06396484, -0.06567383, -0.05126953, -0.00805664,  0.08056641,\n",
       "        0.14941406, -0.22216797, -0.11413574,  0.02032471, -0.20361328,\n",
       "       -0.14404297, -0.00463867, -0.02685547,  0.08959961,  0.12207031,\n",
       "       -0.00097656, -0.03240967,  0.17077637, -0.00061035,  0.07739258,\n",
       "       -0.17407227,  0.05566406, -0.08691406,  0.09277344,  0.0630188 ,\n",
       "        0.02490234, -0.07873535,  0.03179932,  0.03613281, -0.09643555,\n",
       "        0.01782227, -0.19433594, -0.12768555,  0.07568359,  0.11517334,\n",
       "        0.11254883,  0.20458984,  0.08374023, -0.02653885,  0.11120605,\n",
       "       -0.01831055,  0.00131226, -0.10473633,  0.2052002 ,  0.00469971,\n",
       "       -0.02099609, -0.07929993,  0.10644531, -0.16992188,  0.05834961,\n",
       "       -0.1472168 ,  0.08740234, -0.06799316, -0.19238281,  0.2163086 ,\n",
       "       -0.2084961 ,  0.04394531,  0.12670898, -0.28125   ,  0.25732422,\n",
       "        0.003479  , -0.11022949, -0.12207031,  0.        ,  0.00732422,\n",
       "       -0.1340332 , -0.03234863, -0.15844727,  0.02178955,  0.03442383,\n",
       "        0.11935425, -0.18652344, -0.02523041,  0.00244141,  0.07452393,\n",
       "       -0.02563477,  0.05773926,  0.02734375, -0.16552734, -0.08752441,\n",
       "        0.1777649 ,  0.23779297,  0.07421875, -0.10058594, -0.13012695,\n",
       "        0.08105469,  0.07342529,  0.03320312, -0.25146484,  0.01733398,\n",
       "       -0.06121826,  0.00927734, -0.04882812,  0.1784668 , -0.17626953,\n",
       "       -0.02978516,  0.16070557, -0.15283203, -0.01831055, -0.23730469,\n",
       "       -0.08428955,  0.17651367, -0.07269287,  0.02612305,  0.18823242,\n",
       "        0.11358643, -0.02950287,  0.21313477,  0.18804932, -0.06170654,\n",
       "       -0.25585938,  0.1328125 , -0.05505371, -0.01251221,  0.1005249 ,\n",
       "       -0.22692871,  0.05532837,  0.16033936,  0.08251953,  0.05737305,\n",
       "       -0.00299072,  0.08276367, -0.16345215,  0.21484375,  0.0324707 ,\n",
       "       -0.03762817, -0.14245605, -0.06005859,  0.0769043 ,  0.15722656,\n",
       "        0.12634277, -0.04211426,  0.1958313 ,  0.06555176, -0.05444336,\n",
       "        0.05505371,  0.1538086 , -0.16418457,  0.03585815,  0.265625  ,\n",
       "       -0.19506836, -0.10687256, -0.08081055, -0.08300781,  0.01135254,\n",
       "        0.04589844, -0.11987305, -0.00317383,  0.01379395,  0.2709961 ,\n",
       "        0.28076172,  0.00708008, -0.05834961, -0.26904297, -0.07897949,\n",
       "        0.0222168 ,  0.19189453,  0.08691406, -0.02069092,  0.20166016,\n",
       "        0.04492188, -0.2163086 , -0.12963867, -0.14941406,  0.00442505,\n",
       "       -0.07629395,  0.04187012, -0.2607422 , -0.09277344, -0.16064453,\n",
       "       -0.17089844, -0.06072998,  0.21679688,  0.22851562, -0.20117188,\n",
       "       -0.0604248 ,  0.13183594, -0.05627441,  0.12646484, -0.00830078,\n",
       "       -0.17218018,  0.06713867, -0.40673828,  0.13903809, -0.05090332],\n",
       "      dtype=float32),\n",
       "       array([ 0.00377502,  0.0413723 , -0.00532837,  0.02198334, -0.03101807,\n",
       "       -0.05528564, -0.00627136, -0.07600097,  0.05319519,  0.07577858,\n",
       "        0.03069153, -0.0924118 ,  0.0059082 ,  0.00789795, -0.03380289,\n",
       "       -0.0005188 ,  0.08791809,  0.10579071,  0.05173111, -0.00568848,\n",
       "        0.02334671,  0.05891953,  0.04065247, -0.03125   ,  0.02469025,\n",
       "        0.00310495, -0.02945557,  0.06329956,  0.05762787, -0.01205139,\n",
       "        0.05606384, -0.04811592, -0.07543945, -0.01070557,  0.02653809,\n",
       "       -0.02416611,  0.02272949, -0.04490051,  0.03188171,  0.03690033,\n",
       "        0.04401856, -0.1091217 ,  0.08412781, -0.01361389,  0.02163849,\n",
       "       -0.04751587, -0.05445404, -0.00691223,  0.01132202,  0.00040894,\n",
       "       -0.01363068,  0.03518982,  0.00653992,  0.05627136,  0.00283947,\n",
       "       -0.00448303, -0.0887146 ,  0.00937214, -0.01254883, -0.05011597,\n",
       "       -0.05219422,  0.03224182, -0.09684143, -0.08841553,  0.014328  ,\n",
       "        0.01360779, -0.0540741 ,  0.09928894,  0.02906189,  0.07666016,\n",
       "        0.00621338, -0.04811859,  0.06297626,  0.03991699, -0.10718918,\n",
       "       -0.02042084,  0.10973511,  0.08335876,  0.06136475, -0.01563415,\n",
       "        0.03078575,  0.00430908,  0.02677002,  0.00565338,  0.01919327,\n",
       "       -0.03287353, -0.0900238 ,  0.07519989, -0.06393433,  0.06997833,\n",
       "        0.023421  , -0.01567345, -0.06481018, -0.08989868, -0.06836548,\n",
       "       -0.10840149, -0.05001984,  0.07090149,  0.02932129, -0.03668976,\n",
       "        0.00412827, -0.05054821,  0.02010498,  0.00212555, -0.06653366,\n",
       "       -0.09111939, -0.03023682, -0.01552048,  0.04376354, -0.06053467,\n",
       "       -0.04499207,  0.05106201, -0.05469055, -0.07074585,  0.10141907,\n",
       "        0.08676147, -0.00286407, -0.02070007,  0.0942749 ,  0.03892372,\n",
       "       -0.06062317,  0.00681458, -0.06303711,  0.04509163,  0.04586182,\n",
       "        0.01752167, -0.02219238, -0.04998779,  0.02732334,  0.06581421,\n",
       "       -0.01137085, -0.03722839, -0.05304565, -0.06253509, -0.01121674,\n",
       "       -0.02361145,  0.05240784,  0.02643967, -0.05183077,  0.03380737,\n",
       "       -0.0372139 , -0.04384003,  0.0023407 , -0.05660553, -0.04061279,\n",
       "        0.03598328, -0.03211059, -0.08807679, -0.0550827 , -0.02492981,\n",
       "        0.07587814,  0.06226654, -0.05736694,  0.05151672, -0.00275326,\n",
       "       -0.02920418, -0.00429993, -0.03623657, -0.04511223, -0.01957626,\n",
       "       -0.01960144,  0.01029015,  0.02727051,  0.00645065,  0.01069946,\n",
       "       -0.08927917,  0.0167572 , -0.01871586,  0.00460358, -0.03339539,\n",
       "       -0.0954422 , -0.04669189, -0.00514374, -0.09737549, -0.02602844,\n",
       "       -0.04622727,  0.06367493, -0.00019684, -0.03872423,  0.04250794,\n",
       "       -0.08251037,  0.00373077,  0.0576889 ,  0.05950012, -0.03089828,\n",
       "       -0.05925598, -0.02867775,  0.05455322,  0.02434845,  0.00458679,\n",
       "       -0.00699463,  0.02297669,  0.03100586,  0.03310547, -0.09512939,\n",
       "        0.03392792,  0.06618271,  0.02038422, -0.06186218, -0.05649032,\n",
       "       -0.04573669,  0.06896362, -0.04019775, -0.00429688,  0.06046142,\n",
       "       -0.00219727, -0.01498108, -0.00329418,  0.05462036, -0.05680962,\n",
       "       -0.01171112,  0.0209465 , -0.04376831,  0.00281525, -0.04104004,\n",
       "        0.00557556,  0.08816834,  0.02274628, -0.13892516,  0.03018608,\n",
       "        0.02272949,  0.00942688,  0.08480377, -0.0227478 ,  0.00464859,\n",
       "       -0.10290327, -0.00316467,  0.03060303,  0.0011261 , -0.03212891,\n",
       "       -0.00426025, -0.0300354 ,  0.01822057, -0.01795349, -0.03755341,\n",
       "        0.03580628,  0.0117157 , -0.05219422,  0.04269142,  0.05305023,\n",
       "        0.03962364, -0.01091766, -0.03282166, -0.07276497,  0.02658997,\n",
       "        0.02998581,  0.02496185,  0.08198547,  0.05435791, -0.08139648,\n",
       "       -0.00722046,  0.07976685,  0.02091336,  0.02432461,  0.03281555,\n",
       "        0.02023468,  0.06401978,  0.02944183, -0.05790863, -0.00148926,\n",
       "        0.03469238, -0.02550049,  0.01234741, -0.00190735,  0.03792114,\n",
       "        0.11778793, -0.0309967 , -0.03818817, -0.0652832 ,  0.03605766,\n",
       "        0.03237305,  0.02249756,  0.04214249, -0.04194031,  0.06828308,\n",
       "       -0.04680023, -0.01760101, -0.04925537, -0.04100952, -0.06385803,\n",
       "       -0.03452148,  0.00258789,  0.0089489 ,  0.11992188,  0.00766754,\n",
       "        0.02506409, -0.10038452,  0.00907593,  0.04230957,  0.03771515,\n",
       "       -0.04241333,  0.05610657, -0.11665039,  0.05793896, -0.04911575,\n",
       "       -0.01683502, -0.02661133, -0.02801209,  0.0468811 , -0.03200684],\n",
       "      dtype=float32),\n",
       "       ...,\n",
       "       array([ 0.00424805,  0.06840821,  0.04409485,  0.17875977, -0.08310547,\n",
       "       -0.05949707,  0.01835937, -0.13000488,  0.11883545,  0.0515625 ,\n",
       "       -0.00273437, -0.03806152, -0.12149048, -0.08361206, -0.00288696,\n",
       "        0.03668213,  0.0720459 ,  0.09189453,  0.02268066, -0.06708984,\n",
       "       -0.04035645, -0.04015503,  0.01943359, -0.02387695, -0.07790527,\n",
       "       -0.00234375, -0.0565918 ,  0.03483582, -0.00097656,  0.05935059,\n",
       "        0.06616211, -0.02419434, -0.02531738, -0.1168457 ,  0.08864746,\n",
       "       -0.02236786, -0.06359863, -0.10664062,  0.04112549,  0.04804688,\n",
       "        0.08813477, -0.08579101,  0.10568848,  0.03984375,  0.07172851,\n",
       "       -0.08945312, -0.02003784,  0.0828125 , -0.09434815,  0.01105347,\n",
       "        0.09299316,  0.02568359, -0.03837891, -0.00766602,  0.04536896,\n",
       "        0.05625   , -0.05170899,  0.00961914,  0.02775879, -0.11909179,\n",
       "       -0.09965821,  0.02788086, -0.11240234, -0.02022705, -0.06376953,\n",
       "        0.03444824,  0.01259766,  0.00627441,  0.03496094,  0.12553711,\n",
       "       -0.02763672,  0.07531738, -0.02854004,  0.04174805, -0.0265625 ,\n",
       "       -0.09321289,  0.08352051,  0.08757325,  0.07182617,  0.1003418 ,\n",
       "        0.0121582 , -0.03972168,  0.00439453, -0.00595703,  0.03295898,\n",
       "        0.04135742, -0.1440918 ,  0.07042237,  0.10097656,  0.04572754,\n",
       "        0.16347656,  0.07919922, -0.08928223, -0.20527343,  0.02648926,\n",
       "       -0.00537109, -0.05266113,  0.06027832,  0.08393554,  0.06286011,\n",
       "        0.01820526,  0.00258789,  0.03261719,  0.12021484, -0.09643555,\n",
       "       -0.03134765, -0.01109619,  0.01258545,  0.02292481,  0.02253418,\n",
       "       -0.04291992, -0.03740234,  0.03840332, -0.09814453,  0.04266357,\n",
       "        0.08508301,  0.0130127 , -0.07041015,  0.09892578,  0.05922852,\n",
       "       -0.0015625 ,  0.0220459 , -0.03999024,  0.07885742,  0.13574219,\n",
       "        0.07687988, -0.02524414, -0.02197266,  0.04919434,  0.08479004,\n",
       "       -0.10080566, -0.10507812,  0.01137695, -0.07241211, -0.04599609,\n",
       "       -0.12807617, -0.04091797, -0.00517578, -0.00736084,  0.06914063,\n",
       "        0.02806396, -0.13886718,  0.04810791,  0.07150879,  0.04962158,\n",
       "        0.00385742,  0.01003418, -0.13295898, -0.12089844, -0.06123047,\n",
       "        0.07154541,  0.07226562, -0.06979676, -0.0015625 ,  0.01503906,\n",
       "       -0.14043121,  0.04703369, -0.02348633, -0.08398438, -0.0494873 ,\n",
       "        0.06355591,  0.05332031,  0.01079102,  0.0319458 ,  0.00157471,\n",
       "       -0.08041992,  0.03168335, -0.07929687,  0.01225586, -0.0715332 ,\n",
       "       -0.1081543 , -0.05522461,  0.00665283, -0.10966797, -0.02668457,\n",
       "       -0.01482544,  0.09980468,  0.03964844,  0.00526123,  0.03330078,\n",
       "       -0.09949837, -0.06655274, -0.02003403,  0.00800781, -0.0329834 ,\n",
       "       -0.02426758, -0.08085938, -0.00046387,  0.11347656, -0.02773437,\n",
       "        0.02285156,  0.02592773, -0.01574707,  0.02319946, -0.08854981,\n",
       "        0.15698242,  0.03212891,  0.00214844, -0.02699547, -0.06628418,\n",
       "       -0.05722656, -0.01420898, -0.09888916, -0.05686035, -0.12290039,\n",
       "       -0.02237854, -0.03381348, -0.08620606, -0.03479004,  0.01408691,\n",
       "        0.02073364,  0.05126953, -0.12634277,  0.05163574, -0.02598267,\n",
       "        0.03537598,  0.1605957 , -0.07738037, -0.06026611, -0.01970825,\n",
       "        0.002771  , -0.0699707 ,  0.04785156, -0.05219727,  0.09274902,\n",
       "       -0.1071289 ,  0.00286865, -0.00131836, -0.0531662 , -0.02158203,\n",
       "        0.04731445, -0.07046814, -0.0098877 ,  0.01513672, -0.05292969,\n",
       "        0.13701172, -0.01003418, -0.07912598, -0.00514526,  0.09453198,\n",
       "        0.0980835 ,  0.05062256,  0.02850342, -0.12280273, -0.08693848,\n",
       "       -0.05723267, -0.01160889,  0.02138672,  0.02219543, -0.07946777,\n",
       "       -0.03648682,  0.01567383,  0.05153809,  0.00388184,  0.06425782,\n",
       "       -0.01435547,  0.16787109,  0.10966797, -0.07333984, -0.0137207 ,\n",
       "        0.12617187,  0.01020508, -0.06230469,  0.06032715,  0.05739746,\n",
       "        0.08718262, -0.0361084 , -0.01933594,  0.01077881, -0.04902344,\n",
       "        0.06536865,  0.00869141,  0.16796875,  0.07451172,  0.07025146,\n",
       "       -0.00194092, -0.07773437, -0.03417969, -0.02724609, -0.03027344,\n",
       "       -0.03814087, -0.0361084 ,  0.05839844,  0.06311035, -0.00800781,\n",
       "        0.01054077, -0.0980835 ,  0.02709351,  0.07147217,  0.07720947,\n",
       "        0.07746887,  0.09223633, -0.06977539,  0.06171875,  0.06343994,\n",
       "        0.01991577, -0.07143555,  0.00527344, -0.02596436,  0.00629883],\n",
       "      dtype=float32),\n",
       "       array([ 6.57113865e-02,  1.09675480e-02,  2.32491130e-03,  1.09727129e-01,\n",
       "       -3.20258513e-02, -2.85081137e-02,  1.35047331e-01, -8.12706538e-03,\n",
       "        7.17773438e-02,  2.32121386e-02, -1.63837135e-01, -1.30784258e-01,\n",
       "       -1.08417220e-01, -4.64335606e-02, -1.09515853e-01,  9.60129946e-02,\n",
       "        7.69888088e-02,  9.95812044e-02,  8.68013799e-02, -4.17480469e-02,\n",
       "       -5.20676821e-02,  3.41937728e-02,  9.93182808e-02, -5.09174075e-03,\n",
       "       -1.31366439e-02, -4.51378450e-02, -1.20924726e-01,  7.15613738e-02,\n",
       "       -3.27336229e-02,  2.26462446e-02,  7.62199983e-02,  2.83390917e-02,\n",
       "       -7.94208199e-02, -6.04600161e-02, -2.15524528e-02,  7.45239258e-02,\n",
       "        5.57884797e-02, -2.62451172e-03,  1.27281779e-02,  2.91841943e-02,\n",
       "        2.88602393e-02, -2.68554688e-03,  1.02895886e-01, -1.07935391e-01,\n",
       "       -6.46949187e-02, -3.34942155e-02,  1.68457031e-02,  1.83369555e-02,\n",
       "       -8.65290686e-03, -2.28107162e-02,  1.34054329e-02,  3.83333070e-03,\n",
       "       -3.93864550e-02, -1.79443359e-02,  1.47423381e-03,  7.84912109e-02,\n",
       "       -3.15751284e-02,  2.70432699e-02,  8.43271092e-02, -3.67983319e-02,\n",
       "       -1.55692464e-02,  4.94666472e-02, -1.27469569e-01, -4.57435027e-02,\n",
       "       -3.25786881e-02, -7.61554390e-02, -4.31565493e-02,  9.28790718e-02,\n",
       "       -2.88496744e-02,  7.09885806e-02,  2.47098487e-02,  4.35950197e-02,\n",
       "        7.67258853e-02,  3.68605405e-02, -1.17138200e-01, -9.37359184e-02,\n",
       "        1.09600358e-01,  9.63885933e-02,  2.00477019e-02,  6.36878377e-03,\n",
       "        9.28555988e-03, -3.03931609e-02,  4.43584733e-02,  3.51421647e-02,\n",
       "       -1.90147985e-04,  4.14100066e-02, -6.75424412e-02,  1.35169402e-01,\n",
       "       -4.28138152e-02,  8.11861455e-02,  9.98441279e-02,  4.42698561e-02,\n",
       "       -5.62603287e-02, -7.78949410e-02,  3.03955078e-02, -9.05386135e-02,\n",
       "       -4.27997299e-02,  3.79615203e-02,  4.25238982e-02,  4.25555892e-02,\n",
       "        7.51976594e-02, -9.35997590e-02, -5.84904589e-02,  7.39980862e-02,\n",
       "        3.20669338e-02, -1.15597062e-02,  1.38972350e-03,  2.16839127e-02,\n",
       "        1.41789364e-02, -4.41378094e-02, -7.31623694e-02, -2.17637289e-02,\n",
       "       -4.01329622e-02, -2.91196387e-02,  1.11487754e-01,  8.23106021e-02,\n",
       "        4.57388088e-02, -5.49058169e-02,  1.40638500e-01, -2.31651887e-02,\n",
       "        1.08094439e-01,  7.93433562e-02, -9.36607942e-02,  5.92416599e-02,\n",
       "        2.18787557e-03, -8.70748684e-02, -6.91381618e-02, -8.28294009e-02,\n",
       "        6.13262467e-02, -7.51201902e-03, -6.44531250e-02, -2.88461540e-02,\n",
       "       -8.00499544e-02, -1.69583838e-02, -1.69173013e-02, -3.92841920e-02,\n",
       "        5.01615070e-02, -7.85299484e-03, -3.46773602e-02,  1.19079590e-01,\n",
       "        1.64695159e-02, -1.32554278e-01, -5.67450896e-02, -2.85221972e-02,\n",
       "        7.11951628e-02,  6.78546578e-02,  8.05664062e-03, -8.33611116e-02,\n",
       "       -4.52411361e-02, -3.28756496e-02,  3.12458910e-02,  1.35451099e-02,\n",
       "       -3.01337615e-02,  1.93152800e-02, -3.68934050e-02,  3.55441752e-03,\n",
       "       -3.94106284e-02,  2.11158171e-02, -1.35028541e-01,  3.38604264e-02,\n",
       "        1.88140869e-02,  1.17563102e-02,  1.48362378e-02,  6.86880248e-03,\n",
       "       -4.30250913e-02, -9.87079293e-02,  6.71809241e-02, -6.52571470e-02,\n",
       "        5.65279461e-03,  8.27261154e-03, -1.09154336e-01, -6.08051009e-02,\n",
       "        4.39922605e-03, -6.85600862e-02, -4.92037274e-02, -4.93774414e-02,\n",
       "        1.29220814e-01, -9.35856774e-02,  4.15492430e-02, -2.96912566e-02,\n",
       "       -8.79352242e-02, -1.33807845e-02,  1.93639903e-03,  3.42548080e-02,\n",
       "        2.65643783e-02, -1.12746015e-01, -6.56832159e-02,  7.41241872e-02,\n",
       "        3.78417969e-02, -1.52493995e-02, -5.08845411e-02, -1.82049088e-02,\n",
       "       -3.97949219e-02, -7.11763799e-02,  1.44512467e-02,  4.48232815e-02,\n",
       "        1.21741658e-02, -1.54008130e-02, -5.72345443e-02, -2.02711836e-01,\n",
       "        4.10828218e-02,  1.26915559e-01, -6.43545315e-02, -1.17891748e-02,\n",
       "       -1.28643331e-03, -3.78934406e-02,  2.87217367e-02,  2.38430314e-02,\n",
       "        3.30106281e-02,  4.25133333e-02,  3.27500552e-02,  1.11614518e-01,\n",
       "       -2.96085067e-02,  1.20004505e-01, -1.42183751e-01,  9.62383598e-02,\n",
       "        1.46052435e-01, -4.21377335e-04, -1.53170079e-01, -3.14753614e-02,\n",
       "        1.36155344e-03,  9.35997590e-02,  2.44140625e-03,  3.01959701e-02,\n",
       "        1.48127628e-02, -1.21013932e-02,  2.67545264e-02,  4.65979949e-02,\n",
       "       -1.43667369e-03, -3.01771890e-03,  8.28622654e-02, -2.43506804e-02,\n",
       "        5.27898334e-02, -5.29738218e-02,  1.14161566e-01,  2.93226968e-02,\n",
       "        7.30461702e-02, -2.28928793e-02,  6.72513545e-02,  5.31645566e-02,\n",
       "        5.40192686e-02,  4.09686752e-02, -3.01701464e-02, -8.70150030e-02,\n",
       "       -4.45087161e-03,  4.94361296e-02, -1.91180892e-02,  4.86215428e-02,\n",
       "        7.33660311e-02, -5.72157651e-02,  4.73069400e-02,  3.77443768e-02,\n",
       "        5.53260222e-02,  3.45294662e-02,  7.76367188e-02,  3.86106037e-02,\n",
       "        2.85832323e-02,  5.06873503e-02, -4.81379591e-02, -3.20951007e-02,\n",
       "       -6.98617799e-03, -5.86313084e-02, -2.44140625e-02, -3.40857878e-02,\n",
       "        1.42352767e-02,  7.10026696e-02, -2.85832323e-02, -3.27101499e-02,\n",
       "       -7.94712976e-02,  2.12496240e-02,  1.23685397e-01,  8.95338804e-02,\n",
       "        8.83718655e-02,  9.15057808e-02,  8.07260349e-02,  1.41789368e-03,\n",
       "       -4.58585285e-02, -1.11309342e-01, -7.86508396e-02,  3.53017971e-02,\n",
       "       -1.27093978e-02,  3.83817218e-02,  1.68762207e-02,  4.82882001e-02,\n",
       "        3.78887472e-03,  1.45169776e-02, -4.43396941e-02,  2.94940658e-02,\n",
       "       -5.42837307e-02, -2.05582846e-02, -6.17675781e-02,  7.44112432e-02,\n",
       "       -9.23414975e-02,  8.27167183e-02,  2.74963379e-02,  9.10034180e-02,\n",
       "        7.03336298e-02, -9.52747017e-02,  3.22312582e-03, -5.35049438e-02],\n",
       "      dtype=float32),\n",
       "       array([ 0.0250651 ,  0.01340739, -0.00398763,  0.13879395, -0.15966797,\n",
       "        0.01587931,  0.01293945, -0.05452474,  0.04834779,  0.04024251,\n",
       "       -0.08711752, -0.02775065, -0.1044515 ,  0.06788126, -0.06144206,\n",
       "        0.06567383,  0.0804952 ,  0.08850098, -0.06591797, -0.07177734,\n",
       "       -0.00219727,  0.10692724,  0.10380045, -0.0123291 ,  0.01855469,\n",
       "       -0.03487142, -0.01664225, -0.0335083 , -0.01068115, -0.08021037,\n",
       "       -0.00163905,  0.00291951, -0.02390544, -0.07755534, -0.02340698,\n",
       "       -0.01721191,  0.01116943,  0.09822591,  0.01798757,  0.00726318,\n",
       "        0.10181173, -0.07895914,  0.13521321, -0.07663981, -0.02746582,\n",
       "       -0.02494303, -0.01938883, -0.0517985 , -0.09887695, -0.04614258,\n",
       "       -0.02362061,  0.10597738, -0.07047526, -0.02596029,  0.00435829,\n",
       "        0.00460815, -0.14512126, -0.06481934,  0.00619507, -0.09954325,\n",
       "        0.04931641, -0.05537923, -0.2024358 , -0.05794271, -0.05395508,\n",
       "        0.00994873,  0.00085449,  0.11183675, -0.09984335,  0.10264079,\n",
       "        0.0657959 ,  0.1056722 ,  0.11206309, -0.05013021, -0.1511383 ,\n",
       "       -0.12992351,  0.07857259,  0.03545125,  0.09635416, -0.08569336,\n",
       "       -0.03116862, -0.02428182,  0.08648682,  0.0026296 ,  0.01386166,\n",
       "       -0.06835938, -0.07908121,  0.00089518, -0.01705933,  0.11531576,\n",
       "        0.09318034,  0.00537109, -0.03275554, -0.14298503, -0.07188416,\n",
       "        0.00100581,  0.02766927,  0.11576334,  0.0745341 , -0.06414032,\n",
       "       -0.09073385, -0.01432292, -0.0281016 ,  0.01975504,  0.00159709,\n",
       "        0.01981608, -0.04441325, -0.03479004,  0.0619812 ,  0.07430013,\n",
       "       -0.0065918 , -0.05945842, -0.0466156 , -0.06929525,  0.11372884,\n",
       "        0.14029948,  0.05993652, -0.06884766,  0.08418783, -0.04707845,\n",
       "       -0.02874756, -0.11437988,  0.00030518,  0.10186768, -0.0694987 ,\n",
       "       -0.06846365, -0.08516439, -0.15812175, -0.01278687,  0.01147461,\n",
       "        0.00980632, -0.06504313, -0.02530924,  0.0495402 , -0.06381734,\n",
       "       -0.1233724 ,  0.02927653,  0.05388387,  0.14343262,  0.10786947,\n",
       "        0.04520671, -0.09981283,  0.02030436, -0.08369955, -0.02441406,\n",
       "        0.00139364, -0.10831705, -0.1003418 ,  0.04801432, -0.06378174,\n",
       "        0.15055339,  0.11279297, -0.09692383,  0.0305481 ,  0.02001953,\n",
       "       -0.05112712, -0.01663208, -0.02628581, -0.02187093,  0.00534058,\n",
       "       -0.0641683 ,  0.05200195,  0.09578451, -0.02607727,  0.10662842,\n",
       "       -0.20703125, -0.00787354, -0.0039266 , -0.05299886, -0.03369141,\n",
       "       -0.17293294, -0.01318359,  0.00762939, -0.11300659,  0.04730352,\n",
       "        0.08374023,  0.12390137, -0.04305013, -0.05079142,  0.03479004,\n",
       "       -0.11173502, -0.06632487, -0.0355428 ,  0.03344727, -0.09185282,\n",
       "       -0.02971395, -0.10929362, -0.0222168 , -0.00797526,  0.03267415,\n",
       "        0.04943848,  0.05263265, -0.03045654, -0.07879639,  0.00463867,\n",
       "        0.02195231,  0.17024231,  0.01267115, -0.11786906, -0.1366272 ,\n",
       "        0.02864583,  0.11792501,  0.00590006, -0.02445475,  0.01327515,\n",
       "       -0.01175976, -0.03149414,  0.01460902,  0.05147298,  0.01330566,\n",
       "       -0.00111898,  0.1227417 , -0.05697632,  0.04060872, -0.05788167,\n",
       "        0.03755696,  0.17024739, -0.05586751,  0.00797526,  0.11303711,\n",
       "       -0.01824951,  0.02789307,  0.00390625, -0.03804525,  0.040802  ,\n",
       "       -0.0865682 ,  0.03785197, -0.05989583, -0.03961182, -0.0131429 ,\n",
       "       -0.07779948, -0.05882772,  0.13850911, -0.02624512,  0.06585693,\n",
       "        0.05884933,  0.01679484, -0.138443  ,  0.0166626 ,  0.05110677,\n",
       "        0.01196289,  0.02697754, -0.01069895,  0.00134405,  0.01448568,\n",
       "        0.05090332, -0.04875692,  0.09411875, -0.02722168, -0.03184001,\n",
       "        0.03923035,  0.05584717,  0.10103353,  0.13655598,  0.14436848,\n",
       "       -0.07674154,  0.02659098,  0.00390625, -0.03552246, -0.02603149,\n",
       "       -0.06689453, -0.0426356 , -0.00406901,  0.06699625,  0.09903971,\n",
       "        0.02249146,  0.07052612, -0.01599121, -0.07114664, -0.04516602,\n",
       "        0.06093343,  0.11128744,  0.07389323,  0.02640279,  0.09781901,\n",
       "       -0.06892395, -0.07000732, -0.14770508, -0.1222051 ,  0.1115621 ,\n",
       "       -0.09834798, -0.02732086,  0.02925746,  0.07592773, -0.09391276,\n",
       "        0.00095622, -0.00498454,  0.03390884,  0.08129883,  0.00907389,\n",
       "       -0.08718872,  0.06779989, -0.01114909,  0.0513916 , -0.02844238,\n",
       "       -0.00186666,  0.01649984, -0.08838908,  0.04375839, -0.06884766],\n",
       "      dtype=float32)], dtype=object)"
      ]
     },
     "metadata": {},
     "output_type": "display_data"
    }
   ],
   "source": [
    "#Running Part 2 with word2vec"
   ]
  },
  {
   "cell_type": "code",
   "execution_count": 66,
   "metadata": {},
   "outputs": [
    {
     "data": {
      "text/plain": [
       "[array([[ 246,  149,   77],\n",
       "        [ 109, 1566,  159],\n",
       "        [  78,  294,  243]]),\n",
       " array([[ 234,  189,   49],\n",
       "        [  38, 1722,   74],\n",
       "        [  55,  390,  170]]),\n",
       " array([[ 220,  209,   43],\n",
       "        [  22, 1761,   51],\n",
       "        [  36,  439,  140]]),\n",
       " array([[ 221,  212,   39],\n",
       "        [  18, 1781,   35],\n",
       "        [  38,  436,  141]]),\n",
       " array([[ 202,  235,   35],\n",
       "        [  10, 1806,   18],\n",
       "        [  36,  461,  118]])]"
      ]
     },
     "metadata": {},
     "output_type": "display_data"
    },
    {
     "data": {
      "text/plain": [
       "[0.7035261896610749,\n",
       " 0.7278329339267374,\n",
       " 0.7261211913728175,\n",
       " 0.733652858610065,\n",
       " 0.7278329339267374]"
      ]
     },
     "metadata": {},
     "output_type": "display_data"
    },
    {
     "data": {
      "text/plain": [
       "[0.6183095014418752,\n",
       " 0.6813904607420761,\n",
       " 0.7068887406918352,\n",
       " 0.7289571457639771,\n",
       " 0.7421323835102829]"
      ]
     },
     "metadata": {},
     "output_type": "display_data"
    },
    {
     "data": {
      "text/plain": [
       "[0.5900599038058844,\n",
       " 0.5703722579339909,\n",
       " 0.5513134211984597,\n",
       " 0.5561966831107603,\n",
       " 0.5348562816071943]"
      ]
     },
     "metadata": {},
     "output_type": "display_data"
    },
    {
     "data": {
      "text/plain": [
       "[0.6009586718361574,\n",
       " 0.5976904893792873,\n",
       " 0.5821798308694955,\n",
       " 0.5884803357631552,\n",
       " 0.5647971314318742]"
      ]
     },
     "metadata": {},
     "output_type": "display_data"
    }
   ],
   "source": [
    "from sklearn.neighbors import KNeighborsClassifier\n",
    "from sklearn.metrics import accuracy_score\n",
    "from sklearn.metrics import classification_report\n",
    "from sklearn.metrics import confusion_matrix\n",
    "target_names = ['positive', 'negative', 'neutral']\n",
    "accuracies = []\n",
    "precisions = []\n",
    "recalls = []\n",
    "f1s = []\n",
    "cms = []\n",
    "ks = [1,3,5,7,10]\n",
    "\n",
    "for k in ks:\n",
    "\n",
    "    TrainFeatures = w2vTrain.drop(['Tweet', 'Sentiment'], 1)\n",
    "    TrainFeatures = TrainFeatures['Features'].tolist()\n",
    "    TrainLabels = w2vTrain['Sentiment'].tolist()\n",
    "\n",
    "    TestFeatures = w2vTest.drop(['Tweet', 'Sentiment'], 1)\n",
    "    TestFeatures = TestFeatures['Features'].tolist()\n",
    "\n",
    "    TrueLabels = w2vTest['Sentiment'].tolist()\n",
    "\n",
    "    neigh = KNeighborsClassifier(n_neighbors=k)\n",
    "    neigh.fit(TrainFeatures, TrainLabels)\n",
    "\n",
    "    predicted_labels = neigh.predict(TestFeatures)\n",
    "    accuracy = accuracy_score(TrueLabels, predicted_labels)\n",
    "    accuracies.append(accuracy)\n",
    "    \n",
    "    report_dict = classification_report(TrueLabels, predicted_labels, target_names=target_names, output_dict=True)\n",
    "    precision = report_dict['macro avg']['precision']\n",
    "    precisions.append(precision)\n",
    "    recall = report_dict['macro avg']['recall']\n",
    "    recalls.append(recall)\n",
    "    f1 = report_dict['macro avg']['f1-score']\n",
    "    f1s.append(f1)\n",
    "    \n",
    "    cm = confusion_matrix(TrueLabels, predicted_labels, labels=[\"positive\", \"negative\", \"neutral\"])\n",
    "    cms.append(cm)\n",
    "\n",
    "display(cms)\n",
    "display(accuracies)\n",
    "display(precisions)\n",
    "display(recalls)\n",
    "display(f1s)\n"
   ]
  },
  {
   "cell_type": "code",
   "execution_count": 67,
   "metadata": {},
   "outputs": [
    {
     "data": {
      "text/plain": [
       "Text(0.5, 1.0, 'k against Accuracy')"
      ]
     },
     "execution_count": 67,
     "metadata": {},
     "output_type": "execute_result"
    },
    {
     "data": {
      "image/png": "[encoded data removed]",
      "text/plain": [
       "<Figure size 432x288 with 1 Axes>"
      ]
     },
     "metadata": {
      "needs_background": "light"
     },
     "output_type": "display_data"
    }
   ],
   "source": [
    "#k vs accuracy\n",
    "plt.plot(ks, accuracies)\n",
    "plt.xlabel('k')\n",
    "plt.ylabel('Accuracy')\n",
    "plt.title('k against Accuracy')\n",
    "\n"
   ]
  },
  {
   "cell_type": "code",
   "execution_count": 68,
   "metadata": {},
   "outputs": [
    {
     "data": {
      "text/plain": [
       "Text(0.5, 1.0, 'k against Precision')"
      ]
     },
     "execution_count": 68,
     "metadata": {},
     "output_type": "execute_result"
    },
    {
     "data": {
      "image/png": "[encoded data removed]",
      "text/plain": [
       "<Figure size 432x288 with 1 Axes>"
      ]
     },
     "metadata": {
      "needs_background": "light"
     },
     "output_type": "display_data"
    }
   ],
   "source": [
    "#k vs precision\n",
    "plt.plot(ks, precisions)\n",
    "plt.xlabel('k')\n",
    "plt.ylabel('Precision')\n",
    "plt.title('k against Precision')"
   ]
  },
  {
   "cell_type": "code",
   "execution_count": 69,
   "metadata": {},
   "outputs": [
    {
     "data": {
      "text/plain": [
       "Text(0.5, 1.0, 'k against Recall')"
      ]
     },
     "execution_count": 69,
     "metadata": {},
     "output_type": "execute_result"
    },
    {
     "data": {
      "image/png": "[encoded data removed]",
      "text/plain": [
       "<Figure size 432x288 with 1 Axes>"
      ]
     },
     "metadata": {
      "needs_background": "light"
     },
     "output_type": "display_data"
    }
   ],
   "source": [
    "#k vs recall\n",
    "plt.plot(ks, recalls)\n",
    "plt.xlabel('k')\n",
    "plt.ylabel('Recall')\n",
    "plt.title('k against Recall')"
   ]
  },
  {
   "cell_type": "code",
   "execution_count": 70,
   "metadata": {},
   "outputs": [
    {
     "data": {
      "text/plain": [
       "Text(0.5, 1.0, 'k against F1')"
      ]
     },
     "execution_count": 70,
     "metadata": {},
     "output_type": "execute_result"
    },
    {
     "data": {
      "image/png": "[encoded data removed]",
      "text/plain": [
       "<Figure size 432x288 with 1 Axes>"
      ]
     },
     "metadata": {
      "needs_background": "light"
     },
     "output_type": "display_data"
    }
   ],
   "source": [
    "#k vs f1\n",
    "plt.plot(ks, f1s)\n",
    "plt.xlabel('k')\n",
    "plt.ylabel('F1')\n",
    "plt.title('k against F1')"
   ]
  },
  {
   "cell_type": "code",
   "execution_count": null,
   "metadata": {},
   "outputs": [],
   "source": []
  }
 ],
 "metadata": {
  "kernelspec": {
   "display_name": "Python 3",
   "language": "python",
   "name": "python3"
  },
  "language_info": {
   "codemirror_mode": {
    "name": "ipython",
    "version": 3
   },
   "file_extension": ".py",
   "mimetype": "text/x-python",
   "name": "python",
   "nbconvert_exporter": "python",
   "pygments_lexer": "ipython3",
   "version": "3.8.5"
  }
 },
 "nbformat": 4,
 "nbformat_minor": 4
}
